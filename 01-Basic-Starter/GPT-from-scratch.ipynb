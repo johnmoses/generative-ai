{
 "cells": [
  {
   "cell_type": "markdown",
   "metadata": {},
   "source": [
    "# Basic GPT Design"
   ]
  },
  {
   "cell_type": "markdown",
   "metadata": {},
   "source": [
    "Import libraries"
   ]
  },
  {
   "cell_type": "code",
   "execution_count": 4,
   "metadata": {},
   "outputs": [
    {
     "data": {
      "text/plain": [
       "<torch._C.Generator at 0x11648e0b0>"
      ]
     },
     "execution_count": 4,
     "metadata": {},
     "output_type": "execute_result"
    }
   ],
   "source": [
    "import torch\n",
    "import torch.nn as nn\n",
    "import torch.nn.functional as F\n",
    "from dataclasses import dataclass\n",
    "from tqdm.auto import tqdm\n",
    "from pathlib import Path\n",
    "import matplotlib.pyplot as plt\n",
    "from tokenizers import Tokenizer\n",
    "from tokenizers.models import BPE\n",
    "import tokenizers.pre_tokenizers as pre_tokenizers\n",
    "import tokenizers.processors as processors\n",
    "import tokenizers.decoders as decoders\n",
    "from tokenizers.trainers import BpeTrainer\n",
    "\n",
    "from torchinfo import summary\n",
    "\n",
    "torch.manual_seed(1357)"
   ]
  },
  {
   "cell_type": "markdown",
   "metadata": {},
   "source": [
    "Get Data"
   ]
  },
  {
   "cell_type": "code",
   "execution_count": 5,
   "metadata": {},
   "outputs": [],
   "source": [
    "with open('input.txt','r',encoding='utf-8') as f:\n",
    "    data = f.read()"
   ]
  },
  {
   "cell_type": "markdown",
   "metadata": {},
   "source": [
    "Show first few lines"
   ]
  },
  {
   "cell_type": "code",
   "execution_count": 6,
   "metadata": {},
   "outputs": [
    {
     "data": {
      "text/plain": [
       "'First Citizen:\\nBefore we proceed any further, hear me speak.\\n\\nAll:\\nSpeak, speak.\\n\\nFirst Citizen:\\nYou'"
      ]
     },
     "execution_count": 6,
     "metadata": {},
     "output_type": "execute_result"
    }
   ],
   "source": [
    "data[:100]"
   ]
  },
  {
   "cell_type": "markdown",
   "metadata": {},
   "source": [
    "BPE Tokenization"
   ]
  },
  {
   "cell_type": "code",
   "execution_count": 7,
   "metadata": {},
   "outputs": [
    {
     "name": "stdout",
     "output_type": "stream",
     "text": [
      "\n",
      "\n",
      "\n"
     ]
    }
   ],
   "source": [
    "tokenizer_path = Path('./')\n",
    "tokenizer_path.mkdir(exist_ok=True)\n",
    "\n",
    "tokenizer = Tokenizer(BPE())\n",
    "\n",
    "tokenizer.pre_tokenizer = pre_tokenizers.ByteLevel(add_prefix_space=False)\n",
    "tokenizer.post_processor = processors.ByteLevel(trim_offsets=False)\n",
    "tokenizer.decoder = decoders.ByteLevel()\n",
    "trainer = BpeTrainer(special_tokens=['<|endoftext|>'], min_frequency=2)\n",
    "\n",
    "tokenizer.train(['input.txt'],trainer)\n",
    "tokenizer.save(str(tokenizer_path / 'input.json'))"
   ]
  },
  {
   "cell_type": "markdown",
   "metadata": {},
   "source": [
    "Config"
   ]
  },
  {
   "cell_type": "code",
   "execution_count": 9,
   "metadata": {},
   "outputs": [
    {
     "data": {
      "text/plain": [
       "('cpu', 12516)"
      ]
     },
     "execution_count": 9,
     "metadata": {},
     "output_type": "execute_result"
    }
   ],
   "source": [
    "@dataclass\n",
    "class Config:\n",
    "    \n",
    "    block_size = 256 # context-length\n",
    "    batch_size = 64 # mini-batch size\n",
    "    vocab_size = tokenizer.get_vocab_size()\n",
    "    train_size = 0.9 \n",
    "    n_embed = 384\n",
    "    n_heads = 6\n",
    "    head_size = n_embed // n_heads # computes to 384/6=64\n",
    "    n_layers = 3\n",
    "    train_iters = 500 # no. of batches to train on\n",
    "    val_iters = 50 # no. of batches to validate on every eval_intervals\n",
    "    eval_interval = 100 # validate after every eval_interval iterations while training\n",
    "    lr = 5e-4\n",
    "    attn_dropout = 0.2\n",
    "    block_dropout = 0.2\n",
    "    \n",
    "    device = 'cuda' if torch.cuda.is_available() else 'cpu'\n",
    "    \n",
    "Config.device, Config.vocab_size"
   ]
  },
  {
   "cell_type": "markdown",
   "metadata": {},
   "source": [
    "Dataset Loader"
   ]
  },
  {
   "cell_type": "code",
   "execution_count": 10,
   "metadata": {},
   "outputs": [],
   "source": [
    "class DatasetLoader:\n",
    "    def __init__(self, Config, is_test=False) -> None:\n",
    "        self.file_path = Path('input.txt')\n",
    "        self.tokenizer_path = Path('input.json')\n",
    "        with open(self.file_path,'r',encoding='utf-8') as f:\n",
    "            self.data = f.read()\n",
    "        self.tokenizer = Tokenizer.from_file(str(self.tokenizer_path))\n",
    "        \n",
    "        self.full_data = torch.tensor(self.tokenizer.encode(self.data).ids, dtype=torch.long)\n",
    "        \n",
    "        self.is_test = is_test\n",
    "        if self.is_test:\n",
    "            self.data = self.full_data[int(Config.train_size*len(self.full_data)):]\n",
    "        else:\n",
    "            self.data = self.full_data[:int(Config.train_size*len(self.full_data))]\n",
    "\n",
    "        self.block_size = Config.block_size\n",
    "        self.batch_size = Config.batch_size\n",
    "\n",
    "    def __len__(self) -> int:\n",
    "        return len(self.data)\n",
    "\n",
    "    def get_block_size(self) -> int:\n",
    "        return self.block_size\n",
    "\n",
    "    def get_vocab_size(self) -> int:\n",
    "        return self.tokenizer.get_vocab_size()\n",
    "\n",
    "    def __next__(self):\n",
    "        ix = torch.randint(len(self.data) - self.block_size, (self.batch_size,))\n",
    "        x = torch.stack([self.data[i:i+self.block_size] for i in ix])\n",
    "        y = torch.stack([self.data[i+1:i+self.block_size+1] for i in ix])\n",
    "        return x,y"
   ]
  },
  {
   "cell_type": "markdown",
   "metadata": {},
   "source": [
    "Single Attention Head"
   ]
  },
  {
   "cell_type": "code",
   "execution_count": 11,
   "metadata": {},
   "outputs": [],
   "source": [
    "class SingleHeadAttention(nn.Module):\n",
    "    def __init__(self, Config):\n",
    "        super().__init__()\n",
    "\n",
    "        self.block_size = Config.block_size\n",
    "        self.n_embed = Config.n_embed\n",
    "        self.head_size = Config.head_size\n",
    "        \n",
    "        self.key = nn.Linear(self.n_embed, self.head_size, bias=False)\n",
    "        self.query = nn.Linear(self.n_embed, self.head_size, bias=False)\n",
    "        \n",
    "        self.value = nn.Linear(self.n_embed, self.head_size, bias=False)\n",
    "\n",
    "        self.register_buffer(\n",
    "            'tril',\n",
    "            torch.tril(torch.ones(self.block_size,self.block_size))\n",
    "        )\n",
    "        \n",
    "        self.dropout = nn.Dropout(Config.attn_dropout)\n",
    "\n",
    "    def forward(self, x):\n",
    "\n",
    "        B,T,C = x.shape\n",
    "\n",
    "        k = self.key(x)\n",
    "        q = self.query(x)\n",
    "\n",
    "        wei = q@k.transpose(-2,-1) * (C ** 0.5)\n",
    "        wei = wei.masked_fill(self.tril[:T,:T]==0,float('-inf'))\n",
    "        wei = F.softmax(wei, dim=-1)\n",
    "        wei = self.dropout(wei)\n",
    "        \n",
    "        v = self.value(x)\n",
    "        out = wei @ v\n",
    "        \n",
    "        return out"
   ]
  },
  {
   "cell_type": "markdown",
   "metadata": {},
   "source": [
    "Multi-Head Attention"
   ]
  },
  {
   "cell_type": "code",
   "execution_count": 12,
   "metadata": {},
   "outputs": [],
   "source": [
    "class MultiHeadAttention(nn.Module):\n",
    "    def __init__(self, Config):\n",
    "        super().__init__()\n",
    "        self.n_heads = Config.n_heads\n",
    "        self.head_size = Config.head_size\n",
    "        \n",
    "        self.heads = nn.ModuleList([SingleHeadAttention(Config) for _ in range(self.n_heads)])\n",
    "        \n",
    "        self.projection = nn.Linear(Config.n_embed, Config.n_embed)\n",
    "        \n",
    "        self.dropout = nn.Dropout(Config.attn_dropout)\n",
    "    \n",
    "    def forward(self,x):\n",
    "        x = torch.cat([h(x) for h in self.heads],dim=-1)\n",
    "        x = self.projection(x)\n",
    "        x = self.dropout(x)\n",
    "        return x"
   ]
  },
  {
   "cell_type": "markdown",
   "metadata": {},
   "source": [
    "Feed Forward Layer"
   ]
  },
  {
   "cell_type": "code",
   "execution_count": 13,
   "metadata": {},
   "outputs": [],
   "source": [
    "class FeedForward(nn.Module):\n",
    "    def __init__(self, Config):\n",
    "        super().__init__()\n",
    "        self.net = nn.Sequential(\n",
    "            nn.Linear(Config.n_embed,Config.n_embed * 4),\n",
    "            nn.ReLU(),\n",
    "            nn.Linear(Config.n_embed * 4, Config.n_embed), # projection\n",
    "            nn.Dropout(Config.block_dropout)\n",
    "        )\n",
    "    def forward(self,x):\n",
    "        return self.net(x)"
   ]
  },
  {
   "cell_type": "markdown",
   "metadata": {},
   "source": [
    "Transformer Block"
   ]
  },
  {
   "cell_type": "code",
   "execution_count": 14,
   "metadata": {},
   "outputs": [],
   "source": [
    "class TransformerBlock(nn.Module):\n",
    "    def __init__(self, Config):\n",
    "        super().__init__()\n",
    "        self.attn = MultiHeadAttention(Config)\n",
    "        self.ff = FeedForward(Config)\n",
    "        self.ln1 = nn.LayerNorm(Config.n_embed)\n",
    "        self.ln2 = nn.LayerNorm(Config.n_embed)\n",
    "\n",
    "    def forward(self,x):\n",
    "        x = x + self.attn(self.ln1(x))\n",
    "        x = x + self.ff(self.ln2(x))\n",
    "        \n",
    "        return x"
   ]
  },
  {
   "cell_type": "markdown",
   "metadata": {},
   "source": [
    "GPT"
   ]
  },
  {
   "cell_type": "code",
   "execution_count": 15,
   "metadata": {},
   "outputs": [],
   "source": [
    "class GPT(nn.Module):\n",
    "    def __init__(self,Config):\n",
    "        super().__init__()\n",
    "        \n",
    "        self.n_embed = Config.n_embed\n",
    "        self.block_size = Config.block_size\n",
    "        \n",
    "        self.token_embedding_table = nn.Embedding(Config.vocab_size,self.n_embed)\n",
    "        self.pos_embedding_table = nn.Embedding(self.block_size, self.n_embed)\n",
    "        \n",
    "        self.blocks = nn.Sequential(\n",
    "            *[TransformerBlock(Config)]*Config.n_layers,\n",
    "            nn.LayerNorm(self.n_embed)\n",
    "        )\n",
    "\n",
    "        self.lm_head = nn.Linear(self.n_embed,Config.vocab_size)\n",
    "        \n",
    "    def forward(self,idx):\n",
    "        \n",
    "        B,T = idx.shape\n",
    "        \n",
    "        token_embs = self.token_embedding_table(idx)\n",
    "        pos_embs = self.pos_embedding_table(torch.arange(T,device=Config.device))\n",
    "        \n",
    "        \n",
    "        x = token_embs + pos_embs\n",
    "        x = self.blocks(x)\n",
    "        logits = self.lm_head(x)\n",
    "        \n",
    "        return logits\n",
    "\n",
    "        \n",
    "    def generate(self,idx,total):\n",
    "        for _ in range(total):\n",
    "            idx_cond = idx[:, -self.block_size:]\n",
    "            logits= self(idx_cond)\n",
    "            logits = logits[:, -1, :]\n",
    "            probs = F.softmax(logits, dim=-1)\n",
    "            idx_next = torch.multinomial(probs, num_samples=1)\n",
    "            idx = torch.cat((idx, idx_next), dim=1)\n",
    "        return idx\n",
    "      "
   ]
  },
  {
   "cell_type": "markdown",
   "metadata": {},
   "source": [
    "Training"
   ]
  },
  {
   "cell_type": "code",
   "execution_count": 16,
   "metadata": {},
   "outputs": [],
   "source": [
    "train_ds = DatasetLoader(Config)\n",
    "val_ds = DatasetLoader(Config,is_test=True)"
   ]
  },
  {
   "cell_type": "code",
   "execution_count": 17,
   "metadata": {},
   "outputs": [],
   "source": [
    "lm = GPT(Config)\n",
    "lm = lm.to(device=Config.device)"
   ]
  },
  {
   "cell_type": "code",
   "execution_count": 18,
   "metadata": {},
   "outputs": [
    {
     "data": {
      "text/plain": [
       "=========================================================================================================\n",
       "Layer (type:depth-idx)                                  Output Shape              Param #\n",
       "=========================================================================================================\n",
       "GPT                                                     [64, 256, 12516]          --\n",
       "├─Embedding: 1-1                                        [64, 256, 384]            4,806,144\n",
       "├─Embedding: 1-2                                        [256, 384]                98,304\n",
       "├─Sequential: 1-3                                       [64, 256, 384]            --\n",
       "│    └─TransformerBlock: 2-1                            [64, 256, 384]            --\n",
       "│    │    └─LayerNorm: 3-1                              [64, 256, 384]            768\n",
       "│    │    └─MultiHeadAttention: 3-2                     [64, 256, 384]            --\n",
       "│    │    │    └─ModuleList: 4-9                        --                        (recursive)\n",
       "│    │    │    │    └─SingleHeadAttention: 5-1          [64, 256, 64]             73,728\n",
       "│    │    │    │    └─SingleHeadAttention: 5-2          [64, 256, 64]             73,728\n",
       "│    │    │    │    └─SingleHeadAttention: 5-3          [64, 256, 64]             73,728\n",
       "│    │    │    │    └─SingleHeadAttention: 5-4          [64, 256, 64]             73,728\n",
       "│    │    │    │    └─SingleHeadAttention: 5-5          [64, 256, 64]             73,728\n",
       "│    │    │    │    └─SingleHeadAttention: 5-6          [64, 256, 64]             73,728\n",
       "│    │    │    └─Linear: 4-2                            [64, 256, 384]            147,840\n",
       "│    │    │    └─Dropout: 4-3                           [64, 256, 384]            --\n",
       "│    │    └─LayerNorm: 3-3                              [64, 256, 384]            768\n",
       "│    │    └─FeedForward: 3-4                            [64, 256, 384]            --\n",
       "│    │    │    └─Sequential: 4-4                        [64, 256, 384]            --\n",
       "│    │    │    │    └─Linear: 5-7                       [64, 256, 1536]           591,360\n",
       "│    │    │    │    └─ReLU: 5-8                         [64, 256, 1536]           --\n",
       "│    │    │    │    └─Linear: 5-9                       [64, 256, 384]            590,208\n",
       "│    │    │    │    └─Dropout: 5-10                     [64, 256, 384]            --\n",
       "│    └─TransformerBlock: 2-2                            [64, 256, 384]            (recursive)\n",
       "│    │    └─LayerNorm: 3-5                              [64, 256, 384]            (recursive)\n",
       "│    │    └─MultiHeadAttention: 3-6                     [64, 256, 384]            (recursive)\n",
       "│    │    │    └─ModuleList: 4-9                        --                        (recursive)\n",
       "│    │    │    │    └─SingleHeadAttention: 5-11         [64, 256, 64]             (recursive)\n",
       "│    │    │    │    └─SingleHeadAttention: 5-12         [64, 256, 64]             (recursive)\n",
       "│    │    │    │    └─SingleHeadAttention: 5-13         [64, 256, 64]             (recursive)\n",
       "│    │    │    │    └─SingleHeadAttention: 5-14         [64, 256, 64]             (recursive)\n",
       "│    │    │    │    └─SingleHeadAttention: 5-15         [64, 256, 64]             (recursive)\n",
       "│    │    │    │    └─SingleHeadAttention: 5-16         [64, 256, 64]             (recursive)\n",
       "│    │    │    └─Linear: 4-6                            [64, 256, 384]            (recursive)\n",
       "│    │    │    └─Dropout: 4-7                           [64, 256, 384]            --\n",
       "│    │    └─LayerNorm: 3-7                              [64, 256, 384]            (recursive)\n",
       "│    │    └─FeedForward: 3-8                            [64, 256, 384]            (recursive)\n",
       "│    │    │    └─Sequential: 4-8                        [64, 256, 384]            (recursive)\n",
       "│    │    │    │    └─Linear: 5-17                      [64, 256, 1536]           (recursive)\n",
       "│    │    │    │    └─ReLU: 5-18                        [64, 256, 1536]           --\n",
       "│    │    │    │    └─Linear: 5-19                      [64, 256, 384]            (recursive)\n",
       "│    │    │    │    └─Dropout: 5-20                     [64, 256, 384]            --\n",
       "│    └─TransformerBlock: 2-3                            [64, 256, 384]            (recursive)\n",
       "│    │    └─LayerNorm: 3-9                              [64, 256, 384]            (recursive)\n",
       "│    │    └─MultiHeadAttention: 3-10                    [64, 256, 384]            (recursive)\n",
       "│    │    │    └─ModuleList: 4-9                        --                        (recursive)\n",
       "│    │    │    │    └─SingleHeadAttention: 5-21         [64, 256, 64]             (recursive)\n",
       "│    │    │    │    └─SingleHeadAttention: 5-22         [64, 256, 64]             (recursive)\n",
       "│    │    │    │    └─SingleHeadAttention: 5-23         [64, 256, 64]             (recursive)\n",
       "│    │    │    │    └─SingleHeadAttention: 5-24         [64, 256, 64]             (recursive)\n",
       "│    │    │    │    └─SingleHeadAttention: 5-25         [64, 256, 64]             (recursive)\n",
       "│    │    │    │    └─SingleHeadAttention: 5-26         [64, 256, 64]             (recursive)\n",
       "│    │    │    └─Linear: 4-10                           [64, 256, 384]            (recursive)\n",
       "│    │    │    └─Dropout: 4-11                          [64, 256, 384]            --\n",
       "│    │    └─LayerNorm: 3-11                             [64, 256, 384]            (recursive)\n",
       "│    │    └─FeedForward: 3-12                           [64, 256, 384]            (recursive)\n",
       "│    │    │    └─Sequential: 4-12                       [64, 256, 384]            (recursive)\n",
       "│    │    │    │    └─Linear: 5-27                      [64, 256, 1536]           (recursive)\n",
       "│    │    │    │    └─ReLU: 5-28                        [64, 256, 1536]           --\n",
       "│    │    │    │    └─Linear: 5-29                      [64, 256, 384]            (recursive)\n",
       "│    │    │    │    └─Dropout: 5-30                     [64, 256, 384]            --\n",
       "│    └─LayerNorm: 2-4                                   [64, 256, 384]            768\n",
       "├─Linear: 1-4                                           [64, 256, 12516]          4,818,660\n",
       "=========================================================================================================\n",
       "Total params: 11,497,188\n",
       "Trainable params: 11,497,188\n",
       "Non-trainable params: 0\n",
       "Total mult-adds (M): 981.68\n",
       "=========================================================================================================\n",
       "Input size (MB): 0.13\n",
       "Forward/backward pass size (MB): 3402.89\n",
       "Params size (MB): 45.99\n",
       "Estimated Total Size (MB): 3449.01\n",
       "========================================================================================================="
      ]
     },
     "execution_count": 18,
     "metadata": {},
     "output_type": "execute_result"
    }
   ],
   "source": [
    "summary(lm,input_size=(Config.batch_size, Config.block_size),dtypes=[torch.long],depth=5,)"
   ]
  },
  {
   "cell_type": "markdown",
   "metadata": {},
   "source": [
    "Optimizer"
   ]
  },
  {
   "cell_type": "code",
   "execution_count": 19,
   "metadata": {},
   "outputs": [],
   "source": [
    "optim = torch.optim.AdamW(lm.parameters(), lr=Config.lr)"
   ]
  },
  {
   "cell_type": "markdown",
   "metadata": {},
   "source": [
    "Loss Function"
   ]
  },
  {
   "cell_type": "code",
   "execution_count": 20,
   "metadata": {},
   "outputs": [],
   "source": [
    "def loss_fn(logits, targets):\n",
    "    B,T,C = logits.shape\n",
    "    logits = logits.view(B*T, C)\n",
    "    targets = targets.view(B*T)\n",
    "    loss = F.cross_entropy(logits,targets)\n",
    "    return loss"
   ]
  },
  {
   "cell_type": "markdown",
   "metadata": {},
   "source": [
    "Validation loop"
   ]
  },
  {
   "cell_type": "code",
   "execution_count": 21,
   "metadata": {},
   "outputs": [],
   "source": [
    "@torch.no_grad()\n",
    "def valid_N_iters():\n",
    "    val_step_losses = []\n",
    "    for batch in tqdm(range(Config.val_iters)):\n",
    "        inputs, targets = next(val_ds)\n",
    "        inputs, targets = inputs.to(device=Config.device), targets.to(device=Config.device)\n",
    "        logits = lm(inputs)\n",
    "        loss = loss_fn(logits,targets)\n",
    "        val_step_losses.append(loss.item())\n",
    "        \n",
    "        del inputs, targets, loss, logits\n",
    "    \n",
    "    val_loss = torch.tensor(val_step_losses).mean()\n",
    "    print(f'val loss: {val_loss}')\n",
    "    return val_loss"
   ]
  },
  {
   "cell_type": "markdown",
   "metadata": {},
   "source": [
    "Training Loop"
   ]
  },
  {
   "cell_type": "code",
   "execution_count": 22,
   "metadata": {},
   "outputs": [],
   "source": [
    "def train_N_iters():\n",
    "    lm.train()\n",
    "    train_step_losses = []\n",
    "    val_losses = []\n",
    "    for batch in tqdm(range(Config.train_iters)):\n",
    "        optim.zero_grad()\n",
    "        inputs, targets = next(train_ds)\n",
    "        inputs, targets = inputs.to(device=Config.device), targets.to(device=Config.device)\n",
    "        logits = lm(inputs)\n",
    "        loss = loss_fn(logits,targets)\n",
    "        loss.backward()\n",
    "        optim.step()\n",
    "        train_step_losses.append(loss.item())\n",
    "        \n",
    "        if batch%(Config.train_iters//10)==0 or batch==Config.train_iters-1:\n",
    "            print(f\"\\n{'-'*50}\\nbatch {batch} train step loss: {loss.item()}\")\n",
    "            print(f\"train loss so far: {torch.tensor(train_step_losses).mean()}\\n{'-'*50}\\n\")\n",
    "            \n",
    "        if batch%Config.eval_interval==0 or batch==Config.train_iters-1:\n",
    "            lm.eval()\n",
    "            val_loss = valid_N_iters()\n",
    "            lm.train()\n",
    "            val_losses.append(val_loss.item())\n",
    "            \n",
    "            del val_loss\n",
    "            \n",
    "        del inputs, targets, loss, logits\n",
    "        \n",
    "    return train_step_losses, val_losses"
   ]
  },
  {
   "cell_type": "code",
   "execution_count": 23,
   "metadata": {},
   "outputs": [],
   "source": [
    "def save_lm():\n",
    "    state_dict = lm.state_dict()\n",
    "    save_path = Path('./')\n",
    "    save_path.mkdir(exist_ok=True)\n",
    "    model_path = save_path / f'basicGPT.pth'\n",
    "    torch.save(state_dict, model_path)"
   ]
  },
  {
   "cell_type": "code",
   "execution_count": 24,
   "metadata": {},
   "outputs": [],
   "source": [
    "def train_lm():\n",
    "    train_step_losses,val_losses = train_N_iters()\n",
    "    save_lm()\n",
    "    return train_step_losses,val_losses"
   ]
  },
  {
   "cell_type": "code",
   "execution_count": 25,
   "metadata": {},
   "outputs": [
    {
     "name": "stderr",
     "output_type": "stream",
     "text": [
      "huggingface/tokenizers: The current process just got forked, after parallelism has already been used. Disabling parallelism to avoid deadlocks...\n",
      "To disable this warning, you can either:\n",
      "\t- Avoid using `tokenizers` before the fork if possible\n",
      "\t- Explicitly set the environment variable TOKENIZERS_PARALLELISM=(true | false)\n"
     ]
    },
    {
     "data": {
      "application/vnd.jupyter.widget-view+json": {
       "model_id": "0865ba02caf544b1a13cd67e2dd7bbf0",
       "version_major": 2,
       "version_minor": 0
      },
      "text/plain": [
       "  0%|          | 0/500 [00:00<?, ?it/s]"
      ]
     },
     "metadata": {},
     "output_type": "display_data"
    },
    {
     "name": "stdout",
     "output_type": "stream",
     "text": [
      "\n",
      "--------------------------------------------------\n",
      "batch 0 train step loss: 9.614057540893555\n",
      "train loss so far: 9.614057540893555\n",
      "--------------------------------------------------\n",
      "\n"
     ]
    },
    {
     "data": {
      "application/vnd.jupyter.widget-view+json": {
       "model_id": "452b4d453e9645eab58f30481e0e85df",
       "version_major": 2,
       "version_minor": 0
      },
      "text/plain": [
       "  0%|          | 0/50 [00:00<?, ?it/s]"
      ]
     },
     "metadata": {},
     "output_type": "display_data"
    },
    {
     "name": "stdout",
     "output_type": "stream",
     "text": [
      "val loss: 8.985008239746094\n",
      "\n",
      "--------------------------------------------------\n",
      "batch 50 train step loss: 5.684719562530518\n",
      "train loss so far: 6.423215866088867\n",
      "--------------------------------------------------\n",
      "\n",
      "\n",
      "--------------------------------------------------\n",
      "batch 100 train step loss: 5.507797718048096\n",
      "train loss so far: 6.031482696533203\n",
      "--------------------------------------------------\n",
      "\n"
     ]
    },
    {
     "data": {
      "application/vnd.jupyter.widget-view+json": {
       "model_id": "7bd4d63ddcfc47c09327ccb5a3ad0d5e",
       "version_major": 2,
       "version_minor": 0
      },
      "text/plain": [
       "  0%|          | 0/50 [00:00<?, ?it/s]"
      ]
     },
     "metadata": {},
     "output_type": "display_data"
    },
    {
     "name": "stdout",
     "output_type": "stream",
     "text": [
      "val loss: 5.588520526885986\n",
      "\n",
      "--------------------------------------------------\n",
      "batch 150 train step loss: 5.139943599700928\n",
      "train loss so far: 5.790229320526123\n",
      "--------------------------------------------------\n",
      "\n",
      "\n",
      "--------------------------------------------------\n",
      "batch 200 train step loss: 4.8577704429626465\n",
      "train loss so far: 5.607456684112549\n",
      "--------------------------------------------------\n",
      "\n"
     ]
    },
    {
     "data": {
      "application/vnd.jupyter.widget-view+json": {
       "model_id": "04f960d5b0ad4a938c518d2240a491f1",
       "version_major": 2,
       "version_minor": 0
      },
      "text/plain": [
       "  0%|          | 0/50 [00:00<?, ?it/s]"
      ]
     },
     "metadata": {},
     "output_type": "display_data"
    },
    {
     "name": "stdout",
     "output_type": "stream",
     "text": [
      "val loss: 5.308229923248291\n",
      "\n",
      "--------------------------------------------------\n",
      "batch 250 train step loss: 4.713505744934082\n",
      "train loss so far: 5.4648118019104\n",
      "--------------------------------------------------\n",
      "\n",
      "\n",
      "--------------------------------------------------\n",
      "batch 300 train step loss: 4.723538398742676\n",
      "train loss so far: 5.347018718719482\n",
      "--------------------------------------------------\n",
      "\n"
     ]
    },
    {
     "data": {
      "application/vnd.jupyter.widget-view+json": {
       "model_id": "073a264fc01b44a5ac0e1545c0e18eff",
       "version_major": 2,
       "version_minor": 0
      },
      "text/plain": [
       "  0%|          | 0/50 [00:00<?, ?it/s]"
      ]
     },
     "metadata": {},
     "output_type": "display_data"
    },
    {
     "name": "stdout",
     "output_type": "stream",
     "text": [
      "val loss: 5.220528602600098\n",
      "\n",
      "--------------------------------------------------\n",
      "batch 350 train step loss: 4.6336259841918945\n",
      "train loss so far: 5.247007369995117\n",
      "--------------------------------------------------\n",
      "\n",
      "\n",
      "--------------------------------------------------\n",
      "batch 400 train step loss: 4.473937034606934\n",
      "train loss so far: 5.159606456756592\n",
      "--------------------------------------------------\n",
      "\n"
     ]
    },
    {
     "data": {
      "application/vnd.jupyter.widget-view+json": {
       "model_id": "b278757420434c01bb0ed0d9f5390364",
       "version_major": 2,
       "version_minor": 0
      },
      "text/plain": [
       "  0%|          | 0/50 [00:00<?, ?it/s]"
      ]
     },
     "metadata": {},
     "output_type": "display_data"
    },
    {
     "name": "stdout",
     "output_type": "stream",
     "text": [
      "val loss: 5.213285446166992\n",
      "\n",
      "--------------------------------------------------\n",
      "batch 450 train step loss: 4.484313488006592\n",
      "train loss so far: 5.082301139831543\n",
      "--------------------------------------------------\n",
      "\n",
      "\n",
      "--------------------------------------------------\n",
      "batch 499 train step loss: 4.336154460906982\n",
      "train loss so far: 5.013974189758301\n",
      "--------------------------------------------------\n",
      "\n"
     ]
    },
    {
     "data": {
      "application/vnd.jupyter.widget-view+json": {
       "model_id": "298076237b5b4669a64217d53fd4a8a9",
       "version_major": 2,
       "version_minor": 0
      },
      "text/plain": [
       "  0%|          | 0/50 [00:00<?, ?it/s]"
      ]
     },
     "metadata": {},
     "output_type": "display_data"
    },
    {
     "name": "stdout",
     "output_type": "stream",
     "text": [
      "val loss: 5.268997669219971\n"
     ]
    }
   ],
   "source": [
    "tsl,vl=train_lm()"
   ]
  },
  {
   "cell_type": "code",
   "execution_count": 26,
   "metadata": {},
   "outputs": [
    {
     "name": "stdout",
     "output_type": "stream",
     "text": [
      "Train Loss: 5.013974189758301\n"
     ]
    }
   ],
   "source": [
    "tsl_mean = torch.tensor(tsl).mean()\n",
    "print('Train Loss:',tsl_mean.item())"
   ]
  },
  {
   "cell_type": "code",
   "execution_count": 27,
   "metadata": {},
   "outputs": [
    {
     "data": {
      "image/png": "[encoded data removed]",
      "text/plain": [
       "<Figure size 640x480 with 1 Axes>"
      ]
     },
     "metadata": {},
     "output_type": "display_data"
    },
    {
     "data": {
      "image/png": "[encoded data removed]",
      "text/plain": [
       "<Figure size 640x480 with 1 Axes>"
      ]
     },
     "metadata": {},
     "output_type": "display_data"
    }
   ],
   "source": [
    "plt.plot(tsl,label='train step loss',color='orange')\n",
    "plt.legend()\n",
    "plt.show()\n",
    "plt.plot(vl,label='validation loss',color='green')\n",
    "plt.legend()\n",
    "plt.show()"
   ]
  },
  {
   "cell_type": "markdown",
   "metadata": {},
   "source": [
    "Generate text"
   ]
  },
  {
   "cell_type": "code",
   "execution_count": 28,
   "metadata": {},
   "outputs": [
    {
     "name": "stdout",
     "output_type": "stream",
     "text": [
      "generated (100 tokens)\n",
      "==================================================\n",
      "\n",
      "RIVERS:\n",
      "And thou diest himself!\n",
      "By any sore beforetest it.\n",
      "\n",
      "My lord, were my head, by, finestly at Flavius.\n",
      "Bid the gestmission,\n",
      "My dear particularowzreech you hear them affright eye?\n",
      "I have fought where for us:\n",
      "How well resembles thee again?\n",
      "And nature be so I\n",
      "Why, I have met, and thy last of the fHis life, for war not so much beyond beauty to your quarrel.\n",
      "\n",
      "==================================================\n",
      "\n",
      "\n",
      "generated (300 tokens)\n",
      "==================================================\n",
      "\n",
      "boy of that which I do be\n",
      "The bird of mine arm and slain and J long.That I speak- comfort.\n",
      "COMINIUS:\n",
      "From physicians, for this worse name of some indeed, who abst the world he\n",
      "Proclaim you were hanged eyes eye along!\n",
      "My unwise my due sincerity.\n",
      "\n",
      "I think,\n",
      "VOLUMNIA:\n",
      "A doubt, let me,--for willing willingly have not wed, hie your thick'd\n",
      "Allap your friends! what's not lawful, madam:\n",
      "Hold, which make daughter;\n",
      "Why court to my king, that glory call of the fault;\n",
      "Or else a man;\n",
      "What you will not with the bCOMINIUS:\n",
      "\n",
      "SLY:\n",
      "CAPULET:\n",
      "\n",
      "O my sweet cause to anon on the false\n",
      "\n",
      "Has will not, and what ambush, time of that if I know--\n",
      "Northumberland:\n",
      "And he express 'tis mine own uncertain the interpretation\n",
      "When you dreadful isly\n",
      "And there no sooner\n",
      "Came to\n",
      "\n",
      "Mortal those the thing to your company-mark\n",
      "His of these fearfulled lie that we revolted too then, believe a kingdom and twos\n",
      "\n",
      "POMPEY: and do refer them to's friend.\n",
      "\n",
      "Messenger:\n",
      "\n",
      "Provost:\n",
      "Nay, ashes both observe be leaden sentence of the field and blood fetch you have given me his accustom Edward is dead and Warwick? for it is again and thunder, son's away.\n",
      "WARWICK:\n",
      "CAMILLO:\n",
      "\n",
      "Now 'tis no pity\n",
      "==================================================\n",
      "\n",
      "\n",
      "generated (500 tokens)\n",
      "==================================================\n",
      "\n",
      "Which living blood on without my time to marj the bones urged and is,\n",
      "Ha.\n",
      "William triump'st\n",
      "\n",
      "KING RICHARD II:\n",
      "Now, honestIA.\n",
      "MERCUTIO:\n",
      "This is past Warwick shake a forfeit venom and will trust to signify on the place!\n",
      "Shepherd:\n",
      "For march heart's increase\n",
      "have he had wailingiprered;\n",
      "Boldly.\n",
      "ANGELO:\n",
      "Then whither'ld with a pretty; he was for his state of men word's throne.\n",
      "JULIET: some illus, Pompey in ourselves,\n",
      "Which,\n",
      "par thou deny.--\n",
      "I have brought twice\n",
      "he poor citizens, I bid not here. Dionely the heart, friend, say,\n",
      "\n",
      "\n",
      "LEONTES: or I use\n",
      "Was all their bodies years amen, long and those that I for sorrow to the veillessatch,\n",
      "Father and partisans.\n",
      "To see could thou art to prison,\n",
      "Boy:\n",
      "Till it was remember thou art ask me to grace may pear,\n",
      "\n",
      "BUCKINGHAM:\n",
      "CORIOLANUS:\n",
      "I prithee; which I follow him my master love your sleepy\n",
      "I have begun it pity adventure.\n",
      "Inherit. S waterury, might high angrypoint:\n",
      "KING RICHARD III:\n",
      "Heavens dreams me to make free jaunt make woe.\n",
      "Believe any he were damnable.\n",
      "very bondsonedteripodes,\n",
      "That the prime, gap pestilence o'Tis cave of\n",
      "\n",
      "he we know--\n",
      "' for this sin to parts\n",
      "I have heard is your place so much of love we bear this sur, and each quarrel friar of infectionMARIANA:\n",
      "To Most Msec pattern of sorrow is damnable, who has you stretch,\n",
      "I'll answer.\n",
      "\n",
      "\n",
      "I' with the loss to want her that have no Aufidius petition.\n",
      "the'd.\n",
      "Were Echo in my sight; this should wish me ne' all prince, my soul, petition into the trouble thee well;\n",
      "My words to do 'tis listenem shot tongue\n",
      "\n",
      "Till this:\n",
      "The duke, threefold your good direction the pleasure out, kill you must not to death, and with the spirits,\n",
      "Comfort with injustice.\n",
      "Your faith is that we more,\n",
      "See, for joy:\n",
      "had to him you are best slave in traitors rise have set\n",
      "If that I sent, I can scarcely revenge.\n",
      "\n",
      "Send it,\n",
      "Like\n",
      "at ring not here? Come. He's what.\n",
      "\n",
      "KING\n",
      "==================================================\n",
      "\n",
      "\n",
      "generated (700 tokens)\n",
      "==================================================\n",
      "\n",
      "Be sacrificed to Marcius you'll undertake. He Stanley your ex stand and most known,\n",
      "DUKE VINCENTIO:\n",
      "Even so shortplished fair arm'd and kingdom\n",
      "Since brings the child for I know an thee for charity:\n",
      "HORTENSIA. I am to that pain in dismal, Claudio. If your opinion!\n",
      "MENENIUS:\n",
      "That heaven,\n",
      "The queen:' in the wrong till I know your nosesphean with him all, hither, I saw your treasureverealsay.\n",
      "Or mother bids it, and talk on thy mistress! O yoke mutinousor;\n",
      "With lost\n",
      "LADY CAPULET:\n",
      "And all bed?\n",
      "The grey-bed.\n",
      "Which forced to the vantage.\n",
      "This interchange our particular roHave but now my lord,\n",
      "Myself! weeds thou art profane he, sir,\n",
      "CORIOLANUS:\n",
      "KING RICHARD II:\n",
      "wounding nice York.\n",
      "I never blow, peace, draw not have done either that she is he\n",
      "As you have\n",
      "Then have undone,\n",
      "\n",
      "man between you then they do not all the  Angelo\n",
      "And there came\n",
      "Did be her be of yours:\n",
      "\n",
      "Weep, do must pass.\n",
      "And 'Remember,\n",
      "But seeing,\n",
      "\n",
      "To fle years\n",
      "Keep true.\n",
      "First triumphs is now, I'll make my lords, but freely still grace\n",
      "GLOUCESTER:\n",
      "make is the testament praised, if they shall to have made my sightam ourselves;\n",
      "\n",
      "And to make slain, the form from thy hand.\n",
      "But not lose\n",
      "nut you must my entertainment, the rest\n",
      "Who shall:\n",
      "Music is the fray's marry\n",
      "Where I credit, there comes, sir, by thee, and wants hold\n",
      "Masters the story shall be determined to?\n",
      "You mercy of war. Yet your bisson by him dead,\n",
      "Will I am I shall\n",
      "\n",
      "For every syllablerey?\n",
      "Is this go,\n",
      "HERMIONE:\n",
      "Int stood.\n",
      "This gear.\n",
      "\n",
      "Than made forth their to your mother?\n",
      "The Volscesit of your parruction I am ever I have hearing Hereford!\n",
      "And kept you shall answer Angelo, threefold praise,\n",
      "Ourselves, and to right\n",
      "CATESBY:\n",
      "I doubt and your grace of noon years do the base Lord Hastings,\n",
      "I am profane, by list, lo's a Richard, holy one;\n",
      "\n",
      "Bagot.\n",
      "Who lets guess,\n",
      "Clarence.\n",
      "But thou shalt stay, my money; I\n",
      "QUEEN MARGARET:\n",
      "Ay, past in happiness should be\n",
      "MERCUTIO: I will I swear; talks.\n",
      "\n",
      "They vent and your royal person, he are dearly?\n",
      "Against gold you speak.\n",
      "Out?\n",
      "KING EDWARD IV:\n",
      "'er!\n",
      "\n",
      "To answer your feeding enough court in them still read I say, sir.\n",
      "LEONTES:\n",
      "The day,\n",
      "That possess'd for your hand, I will let composition'd insp you;\n",
      "Now,\n",
      "\n",
      "\n",
      "\n",
      "\n",
      "Lest it yet, not--for content\n",
      "BUSHY:\n",
      "who.\n",
      "\n",
      "To be set these ambaster\n",
      "\n",
      "Ay, you forgoting Italy:\n",
      "\n",
      "Becomes,\n",
      "I will I'll tell you fair justice:\n",
      "areoundingrowats, Margaret,\n",
      "that you thus cool them, leave you on the way\n",
      "It shoes but a prince it:\n",
      "Is any violets up it not sup in the thorns\n",
      "\n",
      "BENVOLIO:\n",
      "I do this gentleman,\n",
      "The gods assist\n",
      "Give me to its\n",
      "==================================================\n",
      "\n",
      "\n",
      "generated (1000 tokens)\n",
      "==================================================\n",
      "\n",
      "GLOUCESTER:\n",
      "TooathedHis ideanointed danger, somewhat breath, I give his that that durst not her proper thee,\n",
      "QUEEN MARGARET:\n",
      "To say it.\n",
      "\n",
      "Which, my care to your truseem it.\n",
      "And bite loud, my heart, so pale, our commission of daily to my lord, my dread:\n",
      "And interchanging awhile,\n",
      "First Musician:\n",
      "\n",
      "To slaughter'd:\n",
      "\n",
      "Made prize to one of York.\n",
      "VALERIA:\n",
      "Found it send thee to catch'd battlements mutton and I:\n",
      "First Murderer:\n",
      "Is, well into that\n",
      "Is not press?\n",
      "T;\n",
      "Which that fill you.\n",
      "Deserves old hot, I say,\n",
      "' and how he is in the back to do,\n",
      "Ere my unman senate.\n",
      "And that went's chamber, I trow the chamber, good hope:\n",
      "They have you as upper peck, by God's Romeo, well I could amend? Is somewhat you for the city just:\n",
      "CAMILLO:\n",
      "Each sensesued it, you weep.\n",
      "Good\n",
      "I'll leave not past:\n",
      "\n",
      "NicanorHerself the provost's dead? I, prince with theeinglyPrick off my soul will I advise us, we not all the sun.\n",
      "SICINIUS:\n",
      "Of those triumphs a while! Hoo: if thee gaze. O,\n",
      "\n",
      "Men to cleerv together, let's talk,\n",
      "That I cannot miss before,\n",
      "His transported and charity,\n",
      "Second Keeper:\n",
      "That we use it is mew you better.\n",
      "To visit authority he witness of mine own desire you should shrink,\n",
      "I thank you must have to Mars. Take that times agreement Warwick?ours between Hastings.\n",
      "Shepherd:\n",
      "\n",
      "herged the brooch doubt, a porter of your kindest way?\n",
      "Or, where we nourisher the way to mine own impatience\n",
      "And you.\n",
      "This entertainment,\n",
      "Base of your majesty; and he, I apprehend taunt hast thou\n",
      "The king?\n",
      "Wert a nettle of that hath he doubt; and pity to death,\n",
      "QUEEN MARGARET:\n",
      "The law lost.\n",
      "And though it shall out: The little; or it.\n",
      "should sweetly up the measure to their traitoriers hear you\n",
      "\n",
      "\n",
      "As you all night, and, Marcius!\n",
      "Dear?\n",
      "How,\n",
      "His name he had laugh at hand is do't I; what will first,\n",
      "In our task I\n",
      "For your fury to more:' to say, had the nose have me speak, dear;\n",
      "Can relishing breath, sleepy all.\n",
      "Cousin?\n",
      "You burn I but your life to hell by my lord,\n",
      "Will you do you lamentiestvent within the sea,\n",
      "Girl:\n",
      "it,\n",
      "\n",
      "You shall will, and I am even we are going to urge see him consul and mine will perform our army,\n",
      "\n",
      "For I for that are his house, step thyself, to call me well known\n",
      "Third Servingman:\n",
      "LUCIO:\n",
      "To commune; we dine\n",
      "BENVOLIO:\n",
      "Since them with your voices, answering so brief?\n",
      "Here into a French water,--thine HeavenutifulstStop his kings thereof is; but two authorities' the marshal,\n",
      "GLOUCESTER:\n",
      "VOLUMNIA: whither let us a word\n",
      "That fill the shadow when I will.\n",
      "Although ensky by him give impeach Rivers; and this land?\n",
      "teeth still, there:\n",
      "The very welcome women desperate finger with him, thou art thou art not at your hands'Twas and love you do;\n",
      "him much, Harry, my son? ' forbear?\n",
      "ROMEO: take the very bachelor\n",
      "Second Servingman:\n",
      "KING EDWARD IV:\n",
      "If any good you with him.\n",
      "How canst brother pe, in heaven, and theand to have access\n",
      "Provost:\n",
      "I am welcome to live action in a Roman:\n",
      "Fie to reprehend,\n",
      "Now you toward that we beseech you!\n",
      "Upon your life or mercy;\n",
      "\n",
      "Is't and go there let? would show\n",
      "HERMIONE:\n",
      "My oil man.\n",
      "Go for my hardy Tranio, mother's told'd\n",
      "Thou sober, my staves to thrive to every word, if, executed we fly.\n",
      "Think you I have all will most thought you.\n",
      "KING EDWARD IV:\n",
      "He should give than that, mine passage from thy defence: heavily, a purpose in:\n",
      "Third EDWARD IV:\n",
      "And the truth, they have thy brother more; for Rome made by private merc mind\n",
      "Bearing to wait to France.\n",
      "I thank you did for thy alms of York.\n",
      "NORTHUMBERLAND:\n",
      "As little direct, perjured here I teach thee.\n",
      "Where's one good\n",
      "Or whilst a virtuousRewardaining! my breast. Come,\n",
      "Death.\n",
      "Than their children,\n",
      "KING RICHARD II:\n",
      "\n",
      "ESCALUS:\n",
      "To win public free,\n",
      "Not yet with your daughter.\n",
      "KING EDWARD IV:\n",
      "That please you love or your high am,\n",
      "see sound\n",
      "==================================================\n",
      "\n",
      "\n"
     ]
    }
   ],
   "source": [
    "generated_texts = []\n",
    "for length in [100,300,500,700,1000]:\n",
    "    generated = lm.generate(\n",
    "    torch.zeros((1,1),dtype=torch.long,device=Config.device)+61, # initial context 61 (i believe its \\n)\n",
    "    total=length\n",
    ")\n",
    "    generated = tokenizer.decode(generated[0].cpu().numpy())\n",
    "    text=f'generated ({length} tokens)\\n{\"=\"*50}\\n{generated}\\n{\"=\"*50}\\n\\n'\n",
    "    generated_texts.append(text)\n",
    "    print(text)"
   ]
  },
  {
   "cell_type": "code",
   "execution_count": 29,
   "metadata": {},
   "outputs": [],
   "source": [
    "with open('generated.txt','w') as f:\n",
    "    for text in generated_texts:\n",
    "        f.write(text)"
   ]
  }
 ],
 "metadata": {
  "kernelspec": {
   "display_name": "mforge39",
   "language": "python",
   "name": "python3"
  },
  "language_info": {
   "codemirror_mode": {
    "name": "ipython",
    "version": 3
   },
   "file_extension": ".py",
   "mimetype": "text/x-python",
   "name": "python",
   "nbconvert_exporter": "python",
   "pygments_lexer": "ipython3",
   "version": "3.9.19"
  }
 },
 "nbformat": 4,
 "nbformat_minor": 2
}
