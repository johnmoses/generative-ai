{
 "cells": [
  {
   "cell_type": "markdown",
   "metadata": {},
   "source": [
    "# Basic GPT Design"
   ]
  },
  {
   "cell_type": "markdown",
   "metadata": {},
   "source": [
    "Import libraries"
   ]
  },
  {
   "cell_type": "code",
   "execution_count": 1,
   "metadata": {},
   "outputs": [
    {
     "data": {
      "text/plain": [
       "<torch._C.Generator at 0x119dfdd50>"
      ]
     },
     "execution_count": 1,
     "metadata": {},
     "output_type": "execute_result"
    }
   ],
   "source": [
    "import torch\n",
    "import torch.nn as nn\n",
    "import torch.nn.functional as F\n",
    "from dataclasses import dataclass\n",
    "from tqdm.auto import tqdm\n",
    "from pathlib import Path\n",
    "import matplotlib.pyplot as plt\n",
    "from tokenizers import Tokenizer\n",
    "from tokenizers.models import BPE\n",
    "import tokenizers.pre_tokenizers as pre_tokenizers\n",
    "import tokenizers.processors as processors\n",
    "import tokenizers.decoders as decoders\n",
    "from tokenizers.trainers import BpeTrainer\n",
    "\n",
    "from torchinfo import summary\n",
    "\n",
    "torch.manual_seed(1357)"
   ]
  },
  {
   "cell_type": "markdown",
   "metadata": {},
   "source": [
    "Get Data"
   ]
  },
  {
   "cell_type": "code",
   "execution_count": 2,
   "metadata": {},
   "outputs": [],
   "source": [
    "with open('input.txt','r',encoding='utf-8') as f:\n",
    "    data = f.read()"
   ]
  },
  {
   "cell_type": "markdown",
   "metadata": {},
   "source": [
    "Show first few lines"
   ]
  },
  {
   "cell_type": "code",
   "execution_count": 3,
   "metadata": {},
   "outputs": [
    {
     "data": {
      "text/plain": [
       "'First Citizen:\\nBefore we proceed any further, hear me speak.\\n\\nAll:\\nSpeak, speak.\\n\\nFirst Citizen:\\nYou'"
      ]
     },
     "execution_count": 3,
     "metadata": {},
     "output_type": "execute_result"
    }
   ],
   "source": [
    "data[:100]"
   ]
  },
  {
   "cell_type": "markdown",
   "metadata": {},
   "source": [
    "BPE Tokenization"
   ]
  },
  {
   "cell_type": "code",
   "execution_count": 4,
   "metadata": {},
   "outputs": [
    {
     "name": "stdout",
     "output_type": "stream",
     "text": [
      "\n",
      "\n",
      "\n"
     ]
    }
   ],
   "source": [
    "tokenizer_path = Path('./')\n",
    "tokenizer_path.mkdir(exist_ok=True)\n",
    "\n",
    "tokenizer = Tokenizer(BPE())\n",
    "\n",
    "tokenizer.pre_tokenizer = pre_tokenizers.ByteLevel(add_prefix_space=False)\n",
    "tokenizer.post_processor = processors.ByteLevel(trim_offsets=False)\n",
    "tokenizer.decoder = decoders.ByteLevel()\n",
    "trainer = BpeTrainer(special_tokens=['<|endoftext|>'], min_frequency=2)\n",
    "\n",
    "tokenizer.train(['input.txt'],trainer)\n",
    "tokenizer.save(str(tokenizer_path / 'input.json'))"
   ]
  },
  {
   "cell_type": "markdown",
   "metadata": {},
   "source": [
    "Config"
   ]
  },
  {
   "cell_type": "code",
   "execution_count": 5,
   "metadata": {},
   "outputs": [
    {
     "data": {
      "text/plain": [
       "('cpu', 12516)"
      ]
     },
     "execution_count": 5,
     "metadata": {},
     "output_type": "execute_result"
    }
   ],
   "source": [
    "@dataclass\n",
    "class Config:\n",
    "    \n",
    "    block_size = 256 # context-length\n",
    "    batch_size = 64 # mini-batch size\n",
    "    vocab_size = tokenizer.get_vocab_size()\n",
    "    train_size = 0.9 \n",
    "    n_embed = 384\n",
    "    n_heads = 6\n",
    "    head_size = n_embed // n_heads # computes to 384/6=64\n",
    "    n_layers = 3\n",
    "    train_iters = 500 # no. of batches to train on\n",
    "    val_iters = 50 # no. of batches to validate on every eval_intervals\n",
    "    eval_interval = 100 # validate after every eval_interval iterations while training\n",
    "    lr = 5e-4\n",
    "    attn_dropout = 0.2\n",
    "    block_dropout = 0.2\n",
    "    \n",
    "    device = 'cuda' if torch.cuda.is_available() else 'cpu'\n",
    "    \n",
    "Config.device, Config.vocab_size"
   ]
  },
  {
   "cell_type": "markdown",
   "metadata": {},
   "source": [
    "Dataset Loader"
   ]
  },
  {
   "cell_type": "code",
   "execution_count": 6,
   "metadata": {},
   "outputs": [],
   "source": [
    "class DatasetLoader:\n",
    "    def __init__(self, Config, is_test=False) -> None:\n",
    "        self.file_path = Path('input.txt')\n",
    "        self.tokenizer_path = Path('input.json')\n",
    "        with open(self.file_path,'r',encoding='utf-8') as f:\n",
    "            self.data = f.read()\n",
    "        self.tokenizer = Tokenizer.from_file(str(self.tokenizer_path))\n",
    "        \n",
    "        self.full_data = torch.tensor(self.tokenizer.encode(self.data).ids, dtype=torch.long)\n",
    "        \n",
    "        self.is_test = is_test\n",
    "        if self.is_test:\n",
    "            self.data = self.full_data[int(Config.train_size*len(self.full_data)):]\n",
    "        else:\n",
    "            self.data = self.full_data[:int(Config.train_size*len(self.full_data))]\n",
    "\n",
    "        self.block_size = Config.block_size\n",
    "        self.batch_size = Config.batch_size\n",
    "\n",
    "    def __len__(self) -> int:\n",
    "        return len(self.data)\n",
    "\n",
    "    def get_block_size(self) -> int:\n",
    "        return self.block_size\n",
    "\n",
    "    def get_vocab_size(self) -> int:\n",
    "        return self.tokenizer.get_vocab_size()\n",
    "\n",
    "    def __next__(self):\n",
    "        ix = torch.randint(len(self.data) - self.block_size, (self.batch_size,))\n",
    "        x = torch.stack([self.data[i:i+self.block_size] for i in ix])\n",
    "        y = torch.stack([self.data[i+1:i+self.block_size+1] for i in ix])\n",
    "        return x,y"
   ]
  },
  {
   "cell_type": "markdown",
   "metadata": {},
   "source": [
    "Single Attention Head"
   ]
  },
  {
   "cell_type": "code",
   "execution_count": 7,
   "metadata": {},
   "outputs": [],
   "source": [
    "class SingleHeadAttention(nn.Module):\n",
    "    def __init__(self, Config):\n",
    "        super().__init__()\n",
    "\n",
    "        self.block_size = Config.block_size\n",
    "        self.n_embed = Config.n_embed\n",
    "        self.head_size = Config.head_size\n",
    "        \n",
    "        self.key = nn.Linear(self.n_embed, self.head_size, bias=False)\n",
    "        self.query = nn.Linear(self.n_embed, self.head_size, bias=False)\n",
    "        \n",
    "        self.value = nn.Linear(self.n_embed, self.head_size, bias=False)\n",
    "\n",
    "        self.register_buffer(\n",
    "            'tril',\n",
    "            torch.tril(torch.ones(self.block_size,self.block_size))\n",
    "        )\n",
    "        \n",
    "        self.dropout = nn.Dropout(Config.attn_dropout)\n",
    "\n",
    "    def forward(self, x):\n",
    "\n",
    "        B,T,C = x.shape\n",
    "\n",
    "        k = self.key(x)\n",
    "        q = self.query(x)\n",
    "\n",
    "        wei = q@k.transpose(-2,-1) * (C ** 0.5)\n",
    "        wei = wei.masked_fill(self.tril[:T,:T]==0,float('-inf'))\n",
    "        wei = F.softmax(wei, dim=-1)\n",
    "        wei = self.dropout(wei)\n",
    "        \n",
    "        v = self.value(x)\n",
    "        out = wei @ v\n",
    "        \n",
    "        return out"
   ]
  },
  {
   "cell_type": "markdown",
   "metadata": {},
   "source": [
    "Multi-Head Attention"
   ]
  },
  {
   "cell_type": "code",
   "execution_count": 8,
   "metadata": {},
   "outputs": [],
   "source": [
    "class MultiHeadAttention(nn.Module):\n",
    "    def __init__(self, Config):\n",
    "        super().__init__()\n",
    "        self.n_heads = Config.n_heads\n",
    "        self.head_size = Config.head_size\n",
    "        \n",
    "        self.heads = nn.ModuleList([SingleHeadAttention(Config) for _ in range(self.n_heads)])\n",
    "        \n",
    "        self.projection = nn.Linear(Config.n_embed, Config.n_embed)\n",
    "        \n",
    "        self.dropout = nn.Dropout(Config.attn_dropout)\n",
    "    \n",
    "    def forward(self,x):\n",
    "        x = torch.cat([h(x) for h in self.heads],dim=-1)\n",
    "        x = self.projection(x)\n",
    "        x = self.dropout(x)\n",
    "        return x"
   ]
  },
  {
   "cell_type": "markdown",
   "metadata": {},
   "source": [
    "Feed Forward Layer"
   ]
  },
  {
   "cell_type": "code",
   "execution_count": 9,
   "metadata": {},
   "outputs": [],
   "source": [
    "class FeedForward(nn.Module):\n",
    "    def __init__(self, Config):\n",
    "        super().__init__()\n",
    "        self.net = nn.Sequential(\n",
    "            nn.Linear(Config.n_embed,Config.n_embed * 4),\n",
    "            nn.ReLU(),\n",
    "            nn.Linear(Config.n_embed * 4, Config.n_embed), # projection\n",
    "            nn.Dropout(Config.block_dropout)\n",
    "        )\n",
    "    def forward(self,x):\n",
    "        return self.net(x)"
   ]
  },
  {
   "cell_type": "markdown",
   "metadata": {},
   "source": [
    "Transformer Block"
   ]
  },
  {
   "cell_type": "code",
   "execution_count": 10,
   "metadata": {},
   "outputs": [],
   "source": [
    "class TransformerBlock(nn.Module):\n",
    "    def __init__(self, Config):\n",
    "        super().__init__()\n",
    "        self.attn = MultiHeadAttention(Config)\n",
    "        self.ff = FeedForward(Config)\n",
    "        self.ln1 = nn.LayerNorm(Config.n_embed)\n",
    "        self.ln2 = nn.LayerNorm(Config.n_embed)\n",
    "\n",
    "    def forward(self,x):\n",
    "        x = x + self.attn(self.ln1(x))\n",
    "        x = x + self.ff(self.ln2(x))\n",
    "        \n",
    "        return x"
   ]
  },
  {
   "cell_type": "markdown",
   "metadata": {},
   "source": [
    "GPT"
   ]
  },
  {
   "cell_type": "code",
   "execution_count": 12,
   "metadata": {},
   "outputs": [],
   "source": [
    "class GPT(nn.Module):\n",
    "    def __init__(self,Config):\n",
    "        super().__init__()\n",
    "        \n",
    "        self.n_embed = Config.n_embed\n",
    "        self.block_size = Config.block_size\n",
    "        \n",
    "        self.token_embedding_table = nn.Embedding(Config.vocab_size,self.n_embed)\n",
    "        self.pos_embedding_table = nn.Embedding(self.block_size, self.n_embed)\n",
    "        \n",
    "        self.blocks = nn.Sequential(\n",
    "            *[TransformerBlock(Config)]*Config.n_layers,\n",
    "            nn.LayerNorm(self.n_embed)\n",
    "        )\n",
    "\n",
    "        self.lm_head = nn.Linear(self.n_embed,Config.vocab_size)\n",
    "        \n",
    "    def forward(self,idx):\n",
    "        \n",
    "        B,T = idx.shape\n",
    "        \n",
    "        token_embs = self.token_embedding_table(idx)\n",
    "        pos_embs = self.pos_embedding_table(torch.arange(T,device=Config.device))\n",
    "        \n",
    "        \n",
    "        x = token_embs + pos_embs\n",
    "        x = self.blocks(x)\n",
    "        logits = self.lm_head(x)\n",
    "        \n",
    "        return logits\n",
    "\n",
    "        \n",
    "    def generate(self,idx,total):\n",
    "        for _ in range(total):\n",
    "            idx_cond = idx[:, -self.block_size:]\n",
    "            logits= self(idx_cond)\n",
    "            logits = logits[:, -1, :]\n",
    "            probs = F.softmax(logits, dim=-1)\n",
    "            idx_next = torch.multinomial(probs, num_samples=1)\n",
    "            idx = torch.cat((idx, idx_next), dim=1)\n",
    "        return idx\n",
    "      "
   ]
  },
  {
   "cell_type": "markdown",
   "metadata": {},
   "source": [
    "Training"
   ]
  },
  {
   "cell_type": "code",
   "execution_count": 13,
   "metadata": {},
   "outputs": [],
   "source": [
    "train_ds = DatasetLoader(Config)\n",
    "val_ds = DatasetLoader(Config,is_test=True)"
   ]
  },
  {
   "cell_type": "code",
   "execution_count": 14,
   "metadata": {},
   "outputs": [],
   "source": [
    "lm = GPT(Config)\n",
    "lm = lm.to(device=Config.device)"
   ]
  },
  {
   "cell_type": "code",
   "execution_count": 15,
   "metadata": {},
   "outputs": [
    {
     "data": {
      "text/plain": [
       "=========================================================================================================\n",
       "Layer (type:depth-idx)                                  Output Shape              Param #\n",
       "=========================================================================================================\n",
       "GPT                                                     [64, 256, 12516]          --\n",
       "├─Embedding: 1-1                                        [64, 256, 384]            4,806,144\n",
       "├─Embedding: 1-2                                        [256, 384]                98,304\n",
       "├─Sequential: 1-3                                       [64, 256, 384]            --\n",
       "│    └─TransformerBlock: 2-1                            [64, 256, 384]            --\n",
       "│    │    └─LayerNorm: 3-1                              [64, 256, 384]            768\n",
       "│    │    └─MultiHeadAttention: 3-2                     [64, 256, 384]            --\n",
       "│    │    │    └─ModuleList: 4-9                        --                        (recursive)\n",
       "│    │    │    │    └─SingleHeadAttention: 5-1          [64, 256, 64]             73,728\n",
       "│    │    │    │    └─SingleHeadAttention: 5-2          [64, 256, 64]             73,728\n",
       "│    │    │    │    └─SingleHeadAttention: 5-3          [64, 256, 64]             73,728\n",
       "│    │    │    │    └─SingleHeadAttention: 5-4          [64, 256, 64]             73,728\n",
       "│    │    │    │    └─SingleHeadAttention: 5-5          [64, 256, 64]             73,728\n",
       "│    │    │    │    └─SingleHeadAttention: 5-6          [64, 256, 64]             73,728\n",
       "│    │    │    └─Linear: 4-2                            [64, 256, 384]            147,840\n",
       "│    │    │    └─Dropout: 4-3                           [64, 256, 384]            --\n",
       "│    │    └─LayerNorm: 3-3                              [64, 256, 384]            768\n",
       "│    │    └─FeedForward: 3-4                            [64, 256, 384]            --\n",
       "│    │    │    └─Sequential: 4-4                        [64, 256, 384]            --\n",
       "│    │    │    │    └─Linear: 5-7                       [64, 256, 1536]           591,360\n",
       "│    │    │    │    └─ReLU: 5-8                         [64, 256, 1536]           --\n",
       "│    │    │    │    └─Linear: 5-9                       [64, 256, 384]            590,208\n",
       "│    │    │    │    └─Dropout: 5-10                     [64, 256, 384]            --\n",
       "│    └─TransformerBlock: 2-2                            [64, 256, 384]            (recursive)\n",
       "│    │    └─LayerNorm: 3-5                              [64, 256, 384]            (recursive)\n",
       "│    │    └─MultiHeadAttention: 3-6                     [64, 256, 384]            (recursive)\n",
       "│    │    │    └─ModuleList: 4-9                        --                        (recursive)\n",
       "│    │    │    │    └─SingleHeadAttention: 5-11         [64, 256, 64]             (recursive)\n",
       "│    │    │    │    └─SingleHeadAttention: 5-12         [64, 256, 64]             (recursive)\n",
       "│    │    │    │    └─SingleHeadAttention: 5-13         [64, 256, 64]             (recursive)\n",
       "│    │    │    │    └─SingleHeadAttention: 5-14         [64, 256, 64]             (recursive)\n",
       "│    │    │    │    └─SingleHeadAttention: 5-15         [64, 256, 64]             (recursive)\n",
       "│    │    │    │    └─SingleHeadAttention: 5-16         [64, 256, 64]             (recursive)\n",
       "│    │    │    └─Linear: 4-6                            [64, 256, 384]            (recursive)\n",
       "│    │    │    └─Dropout: 4-7                           [64, 256, 384]            --\n",
       "│    │    └─LayerNorm: 3-7                              [64, 256, 384]            (recursive)\n",
       "│    │    └─FeedForward: 3-8                            [64, 256, 384]            (recursive)\n",
       "│    │    │    └─Sequential: 4-8                        [64, 256, 384]            (recursive)\n",
       "│    │    │    │    └─Linear: 5-17                      [64, 256, 1536]           (recursive)\n",
       "│    │    │    │    └─ReLU: 5-18                        [64, 256, 1536]           --\n",
       "│    │    │    │    └─Linear: 5-19                      [64, 256, 384]            (recursive)\n",
       "│    │    │    │    └─Dropout: 5-20                     [64, 256, 384]            --\n",
       "│    └─TransformerBlock: 2-3                            [64, 256, 384]            (recursive)\n",
       "│    │    └─LayerNorm: 3-9                              [64, 256, 384]            (recursive)\n",
       "│    │    └─MultiHeadAttention: 3-10                    [64, 256, 384]            (recursive)\n",
       "│    │    │    └─ModuleList: 4-9                        --                        (recursive)\n",
       "│    │    │    │    └─SingleHeadAttention: 5-21         [64, 256, 64]             (recursive)\n",
       "│    │    │    │    └─SingleHeadAttention: 5-22         [64, 256, 64]             (recursive)\n",
       "│    │    │    │    └─SingleHeadAttention: 5-23         [64, 256, 64]             (recursive)\n",
       "│    │    │    │    └─SingleHeadAttention: 5-24         [64, 256, 64]             (recursive)\n",
       "│    │    │    │    └─SingleHeadAttention: 5-25         [64, 256, 64]             (recursive)\n",
       "│    │    │    │    └─SingleHeadAttention: 5-26         [64, 256, 64]             (recursive)\n",
       "│    │    │    └─Linear: 4-10                           [64, 256, 384]            (recursive)\n",
       "│    │    │    └─Dropout: 4-11                          [64, 256, 384]            --\n",
       "│    │    └─LayerNorm: 3-11                             [64, 256, 384]            (recursive)\n",
       "│    │    └─FeedForward: 3-12                           [64, 256, 384]            (recursive)\n",
       "│    │    │    └─Sequential: 4-12                       [64, 256, 384]            (recursive)\n",
       "│    │    │    │    └─Linear: 5-27                      [64, 256, 1536]           (recursive)\n",
       "│    │    │    │    └─ReLU: 5-28                        [64, 256, 1536]           --\n",
       "│    │    │    │    └─Linear: 5-29                      [64, 256, 384]            (recursive)\n",
       "│    │    │    │    └─Dropout: 5-30                     [64, 256, 384]            --\n",
       "│    └─LayerNorm: 2-4                                   [64, 256, 384]            768\n",
       "├─Linear: 1-4                                           [64, 256, 12516]          4,818,660\n",
       "=========================================================================================================\n",
       "Total params: 11,497,188\n",
       "Trainable params: 11,497,188\n",
       "Non-trainable params: 0\n",
       "Total mult-adds (M): 981.68\n",
       "=========================================================================================================\n",
       "Input size (MB): 0.13\n",
       "Forward/backward pass size (MB): 3402.89\n",
       "Params size (MB): 45.99\n",
       "Estimated Total Size (MB): 3449.01\n",
       "========================================================================================================="
      ]
     },
     "execution_count": 15,
     "metadata": {},
     "output_type": "execute_result"
    }
   ],
   "source": [
    "summary(lm,input_size=(Config.batch_size, Config.block_size),dtypes=[torch.long],depth=5,)"
   ]
  },
  {
   "cell_type": "markdown",
   "metadata": {},
   "source": [
    "Optimizer"
   ]
  },
  {
   "cell_type": "code",
   "execution_count": 16,
   "metadata": {},
   "outputs": [],
   "source": [
    "optim = torch.optim.AdamW(lm.parameters(), lr=Config.lr)"
   ]
  },
  {
   "cell_type": "markdown",
   "metadata": {},
   "source": [
    "Loss Function"
   ]
  },
  {
   "cell_type": "code",
   "execution_count": 17,
   "metadata": {},
   "outputs": [],
   "source": [
    "def loss_fn(logits, targets):\n",
    "    B,T,C = logits.shape\n",
    "    logits = logits.view(B*T, C)\n",
    "    targets = targets.view(B*T)\n",
    "    loss = F.cross_entropy(logits,targets)\n",
    "    return loss"
   ]
  },
  {
   "cell_type": "markdown",
   "metadata": {},
   "source": [
    "Validation loop"
   ]
  },
  {
   "cell_type": "code",
   "execution_count": 18,
   "metadata": {},
   "outputs": [],
   "source": [
    "@torch.no_grad()\n",
    "def valid_N_iters():\n",
    "    val_step_losses = []\n",
    "    for batch in tqdm(range(Config.val_iters)):\n",
    "        inputs, targets = next(val_ds)\n",
    "        inputs, targets = inputs.to(device=Config.device), targets.to(device=Config.device)\n",
    "        logits = lm(inputs)\n",
    "        loss = loss_fn(logits,targets)\n",
    "        val_step_losses.append(loss.item())\n",
    "        \n",
    "        del inputs, targets, loss, logits\n",
    "    \n",
    "    val_loss = torch.tensor(val_step_losses).mean()\n",
    "    print(f'val loss: {val_loss}')\n",
    "    return val_loss"
   ]
  },
  {
   "cell_type": "markdown",
   "metadata": {},
   "source": [
    "Training Loop"
   ]
  },
  {
   "cell_type": "code",
   "execution_count": 19,
   "metadata": {},
   "outputs": [],
   "source": [
    "def train_N_iters():\n",
    "    lm.train()\n",
    "    train_step_losses = []\n",
    "    val_losses = []\n",
    "    for batch in tqdm(range(Config.train_iters)):\n",
    "        optim.zero_grad()\n",
    "        inputs, targets = next(train_ds)\n",
    "        inputs, targets = inputs.to(device=Config.device), targets.to(device=Config.device)\n",
    "        logits = lm(inputs)\n",
    "        loss = loss_fn(logits,targets)\n",
    "        loss.backward()\n",
    "        optim.step()\n",
    "        train_step_losses.append(loss.item())\n",
    "        \n",
    "        if batch%(Config.train_iters//10)==0 or batch==Config.train_iters-1:\n",
    "            print(f\"\\n{'-'*50}\\nbatch {batch} train step loss: {loss.item()}\")\n",
    "            print(f\"train loss so far: {torch.tensor(train_step_losses).mean()}\\n{'-'*50}\\n\")\n",
    "            \n",
    "        if batch%Config.eval_interval==0 or batch==Config.train_iters-1:\n",
    "            lm.eval()\n",
    "            val_loss = valid_N_iters()\n",
    "            lm.train()\n",
    "            val_losses.append(val_loss.item())\n",
    "            \n",
    "            del val_loss\n",
    "            \n",
    "        del inputs, targets, loss, logits\n",
    "        \n",
    "    return train_step_losses, val_losses"
   ]
  },
  {
   "cell_type": "code",
   "execution_count": 20,
   "metadata": {},
   "outputs": [],
   "source": [
    "def save_lm():\n",
    "    state_dict = lm.state_dict()\n",
    "    save_path = Path('./')\n",
    "    save_path.mkdir(exist_ok=True)\n",
    "    model_path = save_path / f'basicGPT.pth'\n",
    "    torch.save(state_dict, model_path)"
   ]
  },
  {
   "cell_type": "code",
   "execution_count": 21,
   "metadata": {},
   "outputs": [],
   "source": [
    "def train_lm():\n",
    "    train_step_losses,val_losses = train_N_iters()\n",
    "    save_lm()\n",
    "    return train_step_losses,val_losses"
   ]
  },
  {
   "cell_type": "code",
   "execution_count": 22,
   "metadata": {},
   "outputs": [
    {
     "name": "stdout",
     "output_type": "stream",
     "text": [
      "huggingface/tokenizers: The current process just got forked, after parallelism has already been used. Disabling parallelism to avoid deadlocks...\n",
      "To disable this warning, you can either:\n",
      "\t- Avoid using `tokenizers` before the fork if possible\n",
      "\t- Explicitly set the environment variable TOKENIZERS_PARALLELISM=(true | false)\n"
     ]
    },
    {
     "data": {
      "application/vnd.jupyter.widget-view+json": {
       "model_id": "734697d56392496b8f9c0bf98542e598",
       "version_major": 2,
       "version_minor": 0
      },
      "text/plain": [
       "  0%|          | 0/500 [00:00<?, ?it/s]"
      ]
     },
     "metadata": {},
     "output_type": "display_data"
    },
    {
     "name": "stdout",
     "output_type": "stream",
     "text": [
      "\n",
      "--------------------------------------------------\n",
      "batch 0 train step loss: 9.614057540893555\n",
      "train loss so far: 9.614057540893555\n",
      "--------------------------------------------------\n",
      "\n"
     ]
    },
    {
     "data": {
      "application/vnd.jupyter.widget-view+json": {
       "model_id": "88a2b8b7ca2248969773548e45beba21",
       "version_major": 2,
       "version_minor": 0
      },
      "text/plain": [
       "  0%|          | 0/50 [00:00<?, ?it/s]"
      ]
     },
     "metadata": {},
     "output_type": "display_data"
    },
    {
     "name": "stdout",
     "output_type": "stream",
     "text": [
      "val loss: 8.985002517700195\n",
      "\n",
      "--------------------------------------------------\n",
      "batch 50 train step loss: 5.685035705566406\n",
      "train loss so far: 6.424325466156006\n",
      "--------------------------------------------------\n",
      "\n",
      "\n",
      "--------------------------------------------------\n",
      "batch 100 train step loss: 5.5081024169921875\n",
      "train loss so far: 6.031639099121094\n",
      "--------------------------------------------------\n",
      "\n"
     ]
    },
    {
     "data": {
      "application/vnd.jupyter.widget-view+json": {
       "model_id": "e3437521dc1a43b6a94e72e93bd9e4df",
       "version_major": 2,
       "version_minor": 0
      },
      "text/plain": [
       "  0%|          | 0/50 [00:00<?, ?it/s]"
      ]
     },
     "metadata": {},
     "output_type": "display_data"
    },
    {
     "name": "stdout",
     "output_type": "stream",
     "text": [
      "val loss: 5.587857723236084\n",
      "\n",
      "--------------------------------------------------\n",
      "batch 150 train step loss: 5.138095378875732\n",
      "train loss so far: 5.789879322052002\n",
      "--------------------------------------------------\n",
      "\n",
      "\n",
      "--------------------------------------------------\n",
      "batch 200 train step loss: 4.853400230407715\n",
      "train loss so far: 5.606707572937012\n",
      "--------------------------------------------------\n",
      "\n"
     ]
    },
    {
     "data": {
      "application/vnd.jupyter.widget-view+json": {
       "model_id": "7a13883f5f6847efa788e60c2ed86a67",
       "version_major": 2,
       "version_minor": 0
      },
      "text/plain": [
       "  0%|          | 0/50 [00:00<?, ?it/s]"
      ]
     },
     "metadata": {},
     "output_type": "display_data"
    },
    {
     "name": "stdout",
     "output_type": "stream",
     "text": [
      "val loss: 5.305909633636475\n",
      "\n",
      "--------------------------------------------------\n",
      "batch 250 train step loss: 4.716092586517334\n",
      "train loss so far: 5.464112758636475\n",
      "--------------------------------------------------\n",
      "\n",
      "\n",
      "--------------------------------------------------\n",
      "batch 300 train step loss: 4.725348472595215\n",
      "train loss so far: 5.346409797668457\n",
      "--------------------------------------------------\n",
      "\n"
     ]
    },
    {
     "data": {
      "application/vnd.jupyter.widget-view+json": {
       "model_id": "c7dc93a7d7f443a1a9c6e7b03f92f341",
       "version_major": 2,
       "version_minor": 0
      },
      "text/plain": [
       "  0%|          | 0/50 [00:00<?, ?it/s]"
      ]
     },
     "metadata": {},
     "output_type": "display_data"
    },
    {
     "name": "stdout",
     "output_type": "stream",
     "text": [
      "val loss: 5.222461700439453\n",
      "\n",
      "--------------------------------------------------\n",
      "batch 350 train step loss: 4.63375997543335\n",
      "train loss so far: 5.246429920196533\n",
      "--------------------------------------------------\n",
      "\n",
      "\n",
      "--------------------------------------------------\n",
      "batch 400 train step loss: 4.471555233001709\n",
      "train loss so far: 5.15902853012085\n",
      "--------------------------------------------------\n",
      "\n"
     ]
    },
    {
     "data": {
      "application/vnd.jupyter.widget-view+json": {
       "model_id": "8ed467c8700347ab9253be3bd2e205ee",
       "version_major": 2,
       "version_minor": 0
      },
      "text/plain": [
       "  0%|          | 0/50 [00:00<?, ?it/s]"
      ]
     },
     "metadata": {},
     "output_type": "display_data"
    },
    {
     "name": "stdout",
     "output_type": "stream",
     "text": [
      "val loss: 5.213926315307617\n",
      "\n",
      "--------------------------------------------------\n",
      "batch 450 train step loss: 4.482516288757324\n",
      "train loss so far: 5.0816216468811035\n",
      "--------------------------------------------------\n",
      "\n",
      "\n",
      "--------------------------------------------------\n",
      "batch 499 train step loss: 4.332694053649902\n",
      "train loss so far: 5.013245105743408\n",
      "--------------------------------------------------\n",
      "\n"
     ]
    },
    {
     "data": {
      "application/vnd.jupyter.widget-view+json": {
       "model_id": "47b2707dbc41434d9bd24089981a5b71",
       "version_major": 2,
       "version_minor": 0
      },
      "text/plain": [
       "  0%|          | 0/50 [00:00<?, ?it/s]"
      ]
     },
     "metadata": {},
     "output_type": "display_data"
    },
    {
     "name": "stdout",
     "output_type": "stream",
     "text": [
      "val loss: 5.274433612823486\n"
     ]
    }
   ],
   "source": [
    "tsl,vl=train_lm()"
   ]
  },
  {
   "cell_type": "code",
   "execution_count": 23,
   "metadata": {},
   "outputs": [
    {
     "name": "stdout",
     "output_type": "stream",
     "text": [
      "Train Loss: 5.013245105743408\n"
     ]
    }
   ],
   "source": [
    "tsl_mean = torch.tensor(tsl).mean()\n",
    "print('Train Loss:',tsl_mean.item())"
   ]
  },
  {
   "cell_type": "code",
   "execution_count": 24,
   "metadata": {},
   "outputs": [
    {
     "data": {
      "image/png": "[encoded data removed]",
      "text/plain": [
       "<Figure size 640x480 with 1 Axes>"
      ]
     },
     "metadata": {},
     "output_type": "display_data"
    },
    {
     "data": {
      "image/png": "[encoded data removed]",
      "text/plain": [
       "<Figure size 640x480 with 1 Axes>"
      ]
     },
     "metadata": {},
     "output_type": "display_data"
    }
   ],
   "source": [
    "plt.plot(tsl,label='train step loss',color='orange')\n",
    "plt.legend()\n",
    "plt.show()\n",
    "plt.plot(vl,label='validation loss',color='green')\n",
    "plt.legend()\n",
    "plt.show()"
   ]
  },
  {
   "cell_type": "markdown",
   "metadata": {},
   "source": [
    "Generate text"
   ]
  },
  {
   "cell_type": "code",
   "execution_count": 26,
   "metadata": {},
   "outputs": [
    {
     "name": "stdout",
     "output_type": "stream",
     "text": [
      "generated (100 tokens)\n",
      "==================================================\n",
      "\n",
      "I pray this abuse spenty at such cold wings\n",
      "By heaven to whoices\n",
      "Yet faces Prince Florizel of filnations us my heart?\n",
      "\n",
      "PETER:\n",
      "COMINIUS: I can murder since it to what cannot, solely: O.\n",
      "HASTINGS:\n",
      "Is anon.\n",
      "Hold'd nature, my followers help in the proudest\n",
      "To lamentations I undertake,\n",
      "That I will unpleasing by in that I understand doth take to part our sufferance of the gods and to depose into\n",
      "That she have\n",
      "==================================================\n",
      "\n",
      "\n",
      "generated (300 tokens)\n",
      "==================================================\n",
      "\n",
      "Shall they keep me and discourse, focan use my master's honesty.\n",
      "Thou then was found.\n",
      "What farther:\n",
      "Ascend die\n",
      "Unless thou so fall\n",
      "Why, sir, glass woman with my Edward, the king, lords else the eye and Agci mutually where we but done!\n",
      "To help.\n",
      "I am\n",
      "She will see our helpir S ear, say it.\n",
      "Who would: but stay\n",
      "sighton\n",
      "If you,\n",
      "You here was,--\n",
      "To lie what a this flight.\n",
      "To weedope:\n",
      "Like to endure.\n",
      "\n",
      "\n",
      "My Lord: for a mile that, madam, bachelorence,\n",
      "CATESBY:\n",
      "CORIOLANUS:\n",
      "COMINIUS:\n",
      "Yet attend unto the bastardy abroad, I am one many woes I do't she look you to confirm us promise against you have your grace, renowned I know thy holy than by the proclamation ere peril:\n",
      "No date the fliers, but speechless a man.\n",
      "Is not smile.\n",
      "Or I fall, with those enemies bear I hope suddenly to thee more hoarse out of false.\n",
      "LADY CAPULET:\n",
      "\n",
      "Tell me thence\n",
      "\n",
      "Thou helping profan\n",
      "\n",
      "For he is nothing harm; for that wentcourage.\n",
      "This owed to speak lady messenger of that made most welcome, good condition you were guard it possess your young dangerous came you?\n",
      "O calm OF YORK:\n",
      "Juliet'd the\n",
      "\n",
      "O, we will? my heart is the king, still, pupily perch\n",
      "==================================================\n",
      "\n",
      "\n",
      "generated (500 tokens)\n",
      "==================================================\n",
      "\n",
      "Cannot not past;\n",
      "need as scatter'd upon the gods theirines conven'er.\n",
      "That would kneel BepPray moreiven to the absent like acquaintance;\n",
      "Are hither,\n",
      " warrant the common judgment falter at my lord,\n",
      "And hide,\n",
      "\n",
      "\n",
      "Well, away, my gracious liege:\n",
      "Yet,\n",
      "To damned eye out.\n",
      "VOLUMNIA:\n",
      "\n",
      "Tell him to your walls!\n",
      "\n",
      "Whereto.\n",
      "I prithee.\n",
      "Sweet mayor importsTful maming confidence, as if I\n",
      "ARCHIDAMUS: cry prey, except by a codpieceation:\n",
      "Which many hundredointed with such neither bear my sight a happy days none, my true.\n",
      "At hath congeal.\n",
      "Mistress pri sheep:\n",
      "Courage he--pray,\n",
      "You are rough,\n",
      "\n",
      "Into Tyrrel resort have I my invention; and the frost this Claudio? bid them both may be done. Give alike, will be like no even with feeding,\n",
      "No, from thence--'f greets him love or as the king, lords and I have told her wars,\n",
      "The gilded he hath broken men's unreure of encounters from attempt.\n",
      "I bid them and here cutap return.\n",
      "You fa us say there doth my duke to cheque thy slippery home.\n",
      "I'll bear a woman\n",
      "\n",
      "OXFORD: there's to sleep, she is wither yourself.\n",
      "QUEEN ELIZABETH:\n",
      "And now gave her severity'st bringing!\n",
      "\n",
      "Hath that's wings:\n",
      "NORTHUMBERLAND sadd a golden dearests and pull, hear that your thanks, and regard to cherish out Lancaster.\n",
      "\n",
      "I am sorry on darkened, and Somerset, mar'd than strength from marryinging\n",
      "The warrants you; our reasons, we will prove his heart, sprightick thither jour off, sir, your hearts both preposterous thy kindness last they,\n",
      "AUFIDIUS:\n",
      "O, I will be your highness'\n",
      "DUCHESS OF YORK:\n",
      "And!\n",
      "\n",
      "Requ of love you seem you what you take a sudden the sequel'Tis answer it is too!\n",
      "What says you as highptRichmond\n",
      "Dis lord.\n",
      "And now!\n",
      "ROMEO:\n",
      "And, good unknown,\n",
      "More than you out find a lawful strength of to be victors of that this letter, mine uncles I thought this humourinies shall not in foreign passages your repair to Friar John, your purpose shall I come and bade-house to enforce my princely eagle.\n",
      "He hath lained thee, let him on pain to go alongnow\n",
      "==================================================\n",
      "\n",
      "\n",
      "generated (700 tokens)\n",
      "==================================================\n",
      "\n",
      "With clverdict you present\n",
      "CORIOLANUS:\n",
      "Suppose them traitor\n",
      "And bloody wounds that before my body more occasion'd;\n",
      "To be unparallel of Warwick and bone, he had like a kind strong o' the quiet grave;\n",
      "What news abroad what long! they do change are sure no prosperous deserve'd it will.\n",
      "For\n",
      "DUCHESS OF YORK:\n",
      "To yourself--\n",
      "Ay, the sea?\n",
      "What says blanks the fill, my good den conduct me for me men and do, they?\n",
      "\n",
      "DUKE VINCENTIO:\n",
      "Dck might I know your hearts withguedha Wednesdayidve,\n",
      "Ah, tush than,\n",
      "the seas\n",
      "\n",
      "\n",
      "With character live, I Rome.\n",
      "FLORIZEL:\n",
      "Unless the towns Warwick,\n",
      "On achieve kind commends so far out hence! Tell:\n",
      "What is\n",
      "QUEENr prerogative new point of the scorn's heat to be ruled; and be't not be unwdismiss soul knows seize it with their congeal!\n",
      "And ye do,\n",
      "I would appeach more in this day is not poison of Rome.\n",
      "And here's tent,\n",
      "KING RICHARD II:\n",
      "Is\n",
      "I do remain you head, dost pretty age\n",
      "MONTAGUE: my errand of keenemn men and the sea\n",
      "and good unknownell'd infirm met together. What are\n",
      "POLIXENES: you lowly with thee\n",
      "Where in we shall be injuries, with robbers, maker was to ride. And, back. Tullus a\n",
      "Unworthy Richard thousand atoneatement lipThe blind that mved no wrong'd;' that' the base and children is the spirit,\n",
      "At prison will\n",
      "undMAMILLIUS:\n",
      "kn vengeance rurine you shall not deserved here's Jun love,\n",
      "And to slander of your saint are come between the smallest and will break Richard dead.\n",
      "When corning war is strange men:\n",
      "Do do it some other where they have holp but,\n",
      "Marry,\n",
      "tossed sight of prepare them, he hath late!\n",
      "\n",
      "\n",
      "Yet lift to quit bitter must be his d;' sink on thy wife!\n",
      "My sovereign, after me\n",
      "Time-morrow.\n",
      "I was.\n",
      "ISABELLA:\n",
      "\n",
      "\n",
      "Where is a\n",
      "PERDITA:\n",
      "Here's, madam unruly; believe it concerns you in you do not o'en those that, what.\n",
      "For what light\n",
      "\n",
      "And threats: they shall we'll be twelve for valiant in the remembrance did think not myself, my life?\n",
      "Or Why should?\n",
      "Spread a dear have resign Rome.\n",
      "My title?\n",
      "Dig a your soul,\n",
      "Hold, they\n",
      "Not in the breeder, surely.\n",
      "Should be thus got.' Was,\n",
      "That thou for-morrowSoft, a heavy son of noon, we will not offend have to the grace: but that? Go roof\n",
      "No, yet, like no subjects for one II:\n",
      "And never proud; but a language,\n",
      "With for lie, compound\n",
      "By every county own.\n",
      "Rue.\n",
      "Ill,\n",
      "ESCALUS:\n",
      "ISABELLA:\n",
      "QUEEN MARGARET:\n",
      "My Lord Hastings,\n",
      "O villainsI have forgot it be full ofatreat those persons,, I rid no, then you are to curse be simple eyes are, his note\n",
      "pinceiveds.\n",
      "But 'allressing:\n",
      "Sirrah,\n",
      "Holdingifies the view this my comfort deserves in the hope shall not be patient are, none, be thy helmets severe kingdom.\n",
      "Cuc reasons;\n",
      "For yet.\n",
      "WARWICK\n",
      "==================================================\n",
      "\n",
      "\n",
      "generated (1000 tokens)\n",
      "==================================================\n",
      "\n",
      "JULIET:\n",
      "As you go by them bring another.\n",
      "ISABELLA:\n",
      "In brief to keep you\n",
      "CATESBY:\n",
      "Have you might in so frank:\n",
      "Sir you: believe it was your worship.\n",
      "Or in your office for thy fill the words so do me leave:\n",
      "I, princely ro madest Margaret.\n",
      "Than Rome give him in jest and mercy:\n",
      "But stay than the dukees; I enforce full of hell.\n",
      "Methinks I trowto them.\n",
      "MISTRESS OVERDONE:\n",
      "MISTRESS OVERDONE: I think, with his wrongs the first; here, like your means to seek no sorrow an eight'd to church.\n",
      "The petty brandsthat strucken temples. Farewell, I yield thee, Lord Hastings, they on worst to foot be sole:\n",
      "The manner for I do yet slaughter-morrow put with me, take you kills: good nurse?-- names cannot woo of her clod the truth, and no grace unw, friar?\n",
      "\n",
      "Thou?\n",
      "Than bid by by yourself with e'er of death, say you well of Buckingham.\n",
      "S Lord Hastings.\n",
      "BRUTUS: commend me, his service, is on but yet his arrival, demi Aumerle, all and fearless\n",
      "What dreadful traitor then dreams to-bornom nearest of the tree,\n",
      "No law\n",
      "f ten knocks!\n",
      "Thyself strength I endeds thanainted stru equally upon thy just 'Lay I else?\n",
      "The people by proof would not be hanged, if you company of the citizens\n",
      "Hear to do the very ounce, in breath, sir!\n",
      "What, sir, or most assured by Warwick, caught\n",
      "I do so heart we would 'That I usurp her soft the earth thou be match confines, take his complices! I did,\n",
      "QUEEN MARGARET: give their cares.\n",
      "He is it they will such first dead; there is it?\n",
      "\n",
      "Murder:\n",
      "\n",
      "SLY:\n",
      "\n",
      "Hath now\n",
      "Now thou whet. My face that same steed,\n",
      "Yet, let us be mine. Our boy?\n",
      "Let me\n",
      "EDWARD:\n",
      "I repossess, sir, do me!\n",
      "\n",
      "\n",
      "One, raw.\n",
      "And now\n",
      "Against the king,\n",
      "Say you, to part, and enfranch, my mother of my queen: let me make an Bianca when with low:\n",
      "EDWARD: and earth!\n",
      "noble sadness with her like your ownings come to me: therefore, as dogs for winter! Ah, fair saint is his leave the calf,\n",
      "BLUNT: I hope he found me,\n",
      "\n",
      "Though she brings by me.\n",
      "Third Citizen:\n",
      "There incorporate it becomes strength you much to do to the creaturesulous she's offer.\n",
      "QUEEN ELIZABETH:\n",
      "Methinks after.\n",
      "Such art athwart it pad;' al knows not too where we am committed,\n",
      "We will you revel nothing serves you endured!\n",
      "PAULINA:\n",
      "\n",
      "They is that I level, as Nully bigger morning to bear which you have set a king.\n",
      "A full afootfty were a promising, no man is her foes would sooner is not--\n",
      "Or cross her five hundred of spect, man of!\n",
      "Why,\n",
      "the other again\n",
      "\n",
      "The setting without dark Neptune,\n",
      "That which though I fear one that plot to take her young? the mind.\n",
      "That ever herald, but dream, thou untaught the tablesis as far from me of my life, we cunning:\n",
      "For even to thou, dear; you have beggars faith did not so the process of war.\n",
      "As thou didst presume,\n",
      "Shall I mistake me you Duke of that the fliers us to children would say his state, and the oracle that I have, chastised 'O, descend, than the sea, most degenerate:\n",
      "\n",
      "Do I may ope, Norfolk,\n",
      "KING EDWARD IV:\n",
      "BRUTUS: only. But after-kind ready not a titheitude.\n",
      "Then, hath yet unmarried's love the griefs' the envy to confirm us alone!\n",
      "No men have made\n",
      "I shall great errand endowic of Polixenes her eyes with shame; 'gentlemanWhen my lambs at your northernFoulience before our thoughts, Vaughan.\n",
      "LUCIO:\n",
      "WereSto proclaim?\n",
      "go as within;\n",
      "Love are. fie.\n",
      "ARCHIDAMUS:\n",
      "HENRY PERCY: I have wrought. This sorrow hath my dreams,\n",
      "\n",
      "\n",
      "More than your affairs, 'tis this royal house, my closet as I have you shall denytwas it,\n",
      "To win your tongue weeping doubt my royal o'ny man, my grave of his.\n",
      "Which bed.\n",
      "\n",
      "The heels, hedge unjust, or conscience, come presently:\n",
      "Brother, sir Overdone steel of the Volsces read\n",
      "And such length let me to thee,\n",
      "Forget.\n",
      "On my love how shall not be wit\n",
      "Shepherd:\n",
      "We are as obdurate and only but he has a man, brother isessed of seven can fear of the prince me not purpose is the means, prithee too deep!\n",
      "==================================================\n",
      "\n",
      "\n"
     ]
    }
   ],
   "source": [
    "generated_texts = []\n",
    "for length in [100,300,500,700,1000]:\n",
    "    generated = lm.generate(\n",
    "    torch.zeros((1,1),dtype=torch.long,device=Config.device)+61, # initial context 61 (i believe its \\n)\n",
    "    total=length\n",
    ")\n",
    "    generated = tokenizer.decode(generated[0].cpu().numpy())\n",
    "    text=f'generated ({length} tokens)\\n{\"=\"*50}\\n{generated}\\n{\"=\"*50}\\n\\n'\n",
    "    generated_texts.append(text)\n",
    "    print(text)"
   ]
  },
  {
   "cell_type": "code",
   "execution_count": 27,
   "metadata": {},
   "outputs": [],
   "source": [
    "with open('generated.txt','w') as f:\n",
    "    for text in generated_texts:\n",
    "        f.write(text)"
   ]
  }
 ],
 "metadata": {
  "kernelspec": {
   "display_name": "mforge39",
   "language": "python",
   "name": "python3"
  },
  "language_info": {
   "codemirror_mode": {
    "name": "ipython",
    "version": 3
   },
   "file_extension": ".py",
   "mimetype": "text/x-python",
   "name": "python",
   "nbconvert_exporter": "python",
   "pygments_lexer": "ipython3",
   "version": "3.9.19"
  }
 },
 "nbformat": 4,
 "nbformat_minor": 2
}
