{
 "cells": [
  {
   "cell_type": "markdown",
   "metadata": {},
   "source": [
    "# Fine-Tuning T5 for SQL"
   ]
  },
  {
   "cell_type": "code",
   "execution_count": 1,
   "metadata": {},
   "outputs": [
    {
     "name": "stderr",
     "output_type": "stream",
     "text": [
      "2024-10-06 13:58:08.930609: I tensorflow/core/platform/cpu_feature_guard.cc:182] This TensorFlow binary is optimized to use available CPU instructions in performance-critical operations.\n",
      "To enable the following instructions: SSE4.1 SSE4.2, in other operations, rebuild TensorFlow with the appropriate compiler flags.\n"
     ]
    }
   ],
   "source": [
    "import os\n",
    "import torch\n",
    "import time\n",
    "from transformers import AutoModelForSeq2SeqLM, AutoTokenizer, GenerationConfig, TrainingArguments, Trainer\n",
    "from transformers import TextDataset, T5ForConditionalGeneration\n",
    "from datasets import Dataset, DatasetDict, load_dataset, interleave_datasets, concatenate_datasets"
   ]
  },
  {
   "cell_type": "markdown",
   "metadata": {},
   "source": [
    "## Environment\n",
    "Check settings"
   ]
  },
  {
   "cell_type": "code",
   "execution_count": 2,
   "metadata": {},
   "outputs": [
    {
     "name": "stdout",
     "output_type": "stream",
     "text": [
      "Using device: cpu\n"
     ]
    }
   ],
   "source": [
    "device = \"cuda\" if torch.cuda.is_available() else \"cpu\"        \n",
    "print(f\"Using device: {device}\")"
   ]
  },
  {
   "cell_type": "markdown",
   "metadata": {},
   "source": [
    "## Data\n",
    "Load datasets"
   ]
  },
  {
   "cell_type": "code",
   "execution_count": 3,
   "metadata": {},
   "outputs": [
    {
     "name": "stderr",
     "output_type": "stream",
     "text": [
      "Using the latest cached version of the dataset since b-mc2/sql-create-context couldn't be found on the Hugging Face Hub\n",
      "Found the latest cached dataset configuration 'default' at /Users/johnmoses/.cache/huggingface/datasets/b-mc2___sql-create-context/default/0.0.0/9d80a6a118b838d9defc3798d659a54a2ac2ff37 (last modified on Mon Sep 16 10:40:01 2024).\n",
      "Using the latest cached version of the dataset since b-mc2/sql-create-context couldn't be found on the Hugging Face Hub\n",
      "Found the latest cached dataset configuration 'default' at /Users/johnmoses/.cache/huggingface/datasets/b-mc2___sql-create-context/default/0.0.0/9d80a6a118b838d9defc3798d659a54a2ac2ff37 (last modified on Mon Sep 16 10:40:01 2024).\n",
      "Using the latest cached version of the dataset since b-mc2/sql-create-context couldn't be found on the Hugging Face Hub\n",
      "Found the latest cached dataset configuration 'default' at /Users/johnmoses/.cache/huggingface/datasets/b-mc2___sql-create-context/default/0.0.0/9d80a6a118b838d9defc3798d659a54a2ac2ff37 (last modified on Mon Sep 16 10:40:01 2024).\n",
      "Using the latest cached version of the dataset since Clinton/Text-to-sql-v1 couldn't be found on the Hugging Face Hub\n",
      "Found the latest cached dataset configuration 'default' at /Users/johnmoses/.cache/huggingface/datasets/Clinton___text-to-sql-v1/default/0.0.0/7cd3fe972973c4d5e7c9151d99d5eca573ae6e84 (last modified on Mon Sep 16 10:35:26 2024).\n",
      "Using the latest cached version of the dataset since Clinton/Text-to-sql-v1 couldn't be found on the Hugging Face Hub\n",
      "Found the latest cached dataset configuration 'default' at /Users/johnmoses/.cache/huggingface/datasets/Clinton___text-to-sql-v1/default/0.0.0/7cd3fe972973c4d5e7c9151d99d5eca573ae6e84 (last modified on Mon Sep 16 10:35:26 2024).\n",
      "Using the latest cached version of the dataset since Clinton/Text-to-sql-v1 couldn't be found on the Hugging Face Hub\n",
      "Found the latest cached dataset configuration 'default' at /Users/johnmoses/.cache/huggingface/datasets/Clinton___text-to-sql-v1/default/0.0.0/7cd3fe972973c4d5e7c9151d99d5eca573ae6e84 (last modified on Mon Sep 16 10:35:26 2024).\n"
     ]
    }
   ],
   "source": [
    "dataset_csql_train = load_dataset(\"b-mc2/sql-create-context\", split='train[:8000]')\n",
    "dataset_csql_test = load_dataset(\"b-mc2/sql-create-context\", split='train[-2000:-1000]')\n",
    "dataset_csql_validation = load_dataset(\"b-mc2/sql-create-context\", split='train[-1000:]')\n",
    "\n",
    "dataset_tsql_train = load_dataset(\"Clinton/Text-to-sql-v1\", split='train[:8000]')\n",
    "dataset_tsql_train = dataset_tsql_train.remove_columns(['source', 'text'])\n",
    "dataset_tsql_train = dataset_tsql_train.rename_columns({'instruction': 'question', 'input': 'context', 'response': 'answer'})\n",
    "\n",
    "dataset_tsql_test  = load_dataset(\"Clinton/Text-to-sql-v1\", split='train[-2000:-1000]')\n",
    "dataset_tsql_test  = dataset_tsql_test.remove_columns(['source', 'text'])\n",
    "dataset_tsql_test  = dataset_tsql_test.rename_columns({'instruction': 'question', 'input': 'context', 'response': 'answer'})\n",
    "\n",
    "dataset_tsql_validation   = load_dataset(\"Clinton/Text-to-sql-v1\", split='train[-1000:]')\n",
    "dataset_tsql_validation   = dataset_tsql_validation.remove_columns(['source', 'text'])\n",
    "dataset_tsql_validation   = dataset_tsql_validation.rename_columns({'instruction': 'question', 'input': 'context', 'response': 'answer'})"
   ]
  },
  {
   "cell_type": "code",
   "execution_count": 7,
   "metadata": {},
   "outputs": [],
   "source": [
    "dataset_train_merged = concatenate_datasets(\n",
    "    [\n",
    "        dataset_csql_train, \n",
    "        dataset_tsql_train\n",
    "        ]\n",
    "    )\n",
    "dataset_test_merged = concatenate_datasets(\n",
    "    [\n",
    "        dataset_csql_test, \n",
    "        dataset_tsql_test\n",
    "        ]\n",
    "    )\n",
    "dataset_validation_merged = concatenate_datasets(\n",
    "    [\n",
    "        dataset_csql_validation, \n",
    "        dataset_tsql_validation\n",
    "        ]\n",
    "    )"
   ]
  },
  {
   "cell_type": "code",
   "execution_count": 8,
   "metadata": {},
   "outputs": [
    {
     "data": {
      "application/vnd.jupyter.widget-view+json": {
       "model_id": "761178fb7bf94fb987dd5d0d83f1aa62",
       "version_major": 2,
       "version_minor": 0
      },
      "text/plain": [
       "Creating CSV from Arrow format:   0%|          | 0/16 [00:00<?, ?ba/s]"
      ]
     },
     "metadata": {},
     "output_type": "display_data"
    },
    {
     "data": {
      "application/vnd.jupyter.widget-view+json": {
       "model_id": "ec88565d2eeb46d2bafcf119d24af63a",
       "version_major": 2,
       "version_minor": 0
      },
      "text/plain": [
       "Creating CSV from Arrow format:   0%|          | 0/2 [00:00<?, ?ba/s]"
      ]
     },
     "metadata": {},
     "output_type": "display_data"
    },
    {
     "data": {
      "application/vnd.jupyter.widget-view+json": {
       "model_id": "25945eb613a9444498cbe682a8bf6c9f",
       "version_major": 2,
       "version_minor": 0
      },
      "text/plain": [
       "Creating CSV from Arrow format:   0%|          | 0/2 [00:00<?, ?ba/s]"
      ]
     },
     "metadata": {},
     "output_type": "display_data"
    },
    {
     "data": {
      "text/plain": [
       "1259325"
      ]
     },
     "execution_count": 8,
     "metadata": {},
     "output_type": "execute_result"
    }
   ],
   "source": [
    "dataset_train_merged.to_csv('train_merged.csv', index=False)\n",
    "dataset_test_merged.to_csv('test_merged.csv', index=False)\n",
    "dataset_validation_merged.to_csv('validation_merged.csv', index=False)"
   ]
  },
  {
   "cell_type": "code",
   "execution_count": 9,
   "metadata": {},
   "outputs": [
    {
     "data": {
      "text/plain": [
       "Dataset({\n",
       "    features: ['context', 'question', 'answer'],\n",
       "    num_rows: 16000\n",
       "})"
      ]
     },
     "execution_count": 9,
     "metadata": {},
     "output_type": "execute_result"
    }
   ],
   "source": [
    "dataset_train_merged"
   ]
  },
  {
   "cell_type": "code",
   "execution_count": 10,
   "metadata": {},
   "outputs": [
    {
     "data": {
      "text/plain": [
       "Dataset({\n",
       "    features: ['context', 'question', 'answer'],\n",
       "    num_rows: 2000\n",
       "})"
      ]
     },
     "execution_count": 10,
     "metadata": {},
     "output_type": "execute_result"
    }
   ],
   "source": [
    "dataset_test_merged"
   ]
  },
  {
   "cell_type": "code",
   "execution_count": 11,
   "metadata": {},
   "outputs": [
    {
     "data": {
      "text/plain": [
       "Dataset({\n",
       "    features: ['context', 'question', 'answer'],\n",
       "    num_rows: 2000\n",
       "})"
      ]
     },
     "execution_count": 11,
     "metadata": {},
     "output_type": "execute_result"
    }
   ],
   "source": [
    "dataset_validation_merged"
   ]
  },
  {
   "cell_type": "code",
   "execution_count": 12,
   "metadata": {},
   "outputs": [
    {
     "data": {
      "application/vnd.jupyter.widget-view+json": {
       "model_id": "6b53d9c2c3114759859115372a0a381b",
       "version_major": 2,
       "version_minor": 0
      },
      "text/plain": [
       "Generating train split: 0 examples [00:00, ? examples/s]"
      ]
     },
     "metadata": {},
     "output_type": "display_data"
    },
    {
     "data": {
      "application/vnd.jupyter.widget-view+json": {
       "model_id": "373376f55b904069b26975991cb7fc42",
       "version_major": 2,
       "version_minor": 0
      },
      "text/plain": [
       "Generating test split: 0 examples [00:00, ? examples/s]"
      ]
     },
     "metadata": {},
     "output_type": "display_data"
    },
    {
     "data": {
      "application/vnd.jupyter.widget-view+json": {
       "model_id": "4a7c6c4c3d5b4e9e9702daf7118ed0d9",
       "version_major": 2,
       "version_minor": 0
      },
      "text/plain": [
       "Generating validation split: 0 examples [00:00, ? examples/s]"
      ]
     },
     "metadata": {},
     "output_type": "display_data"
    }
   ],
   "source": [
    "dataset = load_dataset('csv', data_files={\n",
    "    \"train\": \"train_merged.csv\", \n",
    "    \"test\": \"test_merged.csv\", \n",
    "    \"validation\": \"validation_merged.csv\"\n",
    "    })"
   ]
  },
  {
   "cell_type": "code",
   "execution_count": 13,
   "metadata": {},
   "outputs": [
    {
     "data": {
      "text/plain": [
       "DatasetDict({\n",
       "    train: Dataset({\n",
       "        features: ['context', 'question', 'answer'],\n",
       "        num_rows: 16000\n",
       "    })\n",
       "    test: Dataset({\n",
       "        features: ['context', 'question', 'answer'],\n",
       "        num_rows: 2000\n",
       "    })\n",
       "    validation: Dataset({\n",
       "        features: ['context', 'question', 'answer'],\n",
       "        num_rows: 2000\n",
       "    })\n",
       "})"
      ]
     },
     "execution_count": 13,
     "metadata": {},
     "output_type": "execute_result"
    }
   ],
   "source": [
    "dataset"
   ]
  },
  {
   "cell_type": "code",
   "execution_count": 14,
   "metadata": {},
   "outputs": [
    {
     "data": {
      "text/plain": [
       "{'context': 'CREATE TABLE table_name_94 (round VARCHAR, event VARCHAR)',\n",
       " 'question': 'Which round has pain and glory 2006 as the event?',\n",
       " 'answer': 'SELECT round FROM table_name_94 WHERE event = \"pain and glory 2006\"'}"
      ]
     },
     "execution_count": 14,
     "metadata": {},
     "output_type": "execute_result"
    }
   ],
   "source": [
    "dataset['test'][0]"
   ]
  },
  {
   "cell_type": "markdown",
   "metadata": {},
   "source": [
    "## Model and Tokenizer\n",
    "Define configuration settings"
   ]
  },
  {
   "cell_type": "code",
   "execution_count": 16,
   "metadata": {},
   "outputs": [],
   "source": [
    "model_name='google/flan-t5-small'\n",
    "# model_name='t5-small'\n",
    "os.environ['TOKENIZERS_PARALLELISM'] = 'true' "
   ]
  },
  {
   "cell_type": "code",
   "execution_count": 17,
   "metadata": {},
   "outputs": [],
   "source": [
    "device = torch.device(\"cuda\" if torch.cuda.is_available() else \"cpu\")\n",
    "base_model = AutoModelForSeq2SeqLM.from_pretrained(model_name)\n",
    "base_model = base_model.to(device)"
   ]
  },
  {
   "cell_type": "code",
   "execution_count": 18,
   "metadata": {},
   "outputs": [
    {
     "name": "stderr",
     "output_type": "stream",
     "text": [
      "/Users/johnmoses/miniconda3/envs/mconda38/lib/python3.8/site-packages/transformers/tokenization_utils_base.py:1601: FutureWarning: `clean_up_tokenization_spaces` was not set. It will be set to `True` by default. This behavior will be depracted in transformers v4.45, and will be then set to `False` by default. For more details check this issue: https://github.com/huggingface/transformers/issues/31884\n",
      "  warnings.warn(\n"
     ]
    }
   ],
   "source": [
    "tokenizer = AutoTokenizer.from_pretrained(model_name)"
   ]
  },
  {
   "cell_type": "markdown",
   "metadata": {},
   "source": [
    "Preprocess datasets"
   ]
  },
  {
   "cell_type": "code",
   "execution_count": 19,
   "metadata": {},
   "outputs": [],
   "source": [
    "def tokenize_function(sample):\n",
    "    start_prompt = \"Tables:\\n\"\n",
    "    middle_prompt = \"\\n\\nQuestion:\\n\"\n",
    "    end_prompt = \"\\n\\nAnswer:\\n\"\n",
    "\n",
    "    data_zip = zip(sample['context'], sample['question'])\n",
    "    prompt = [start_prompt + context + middle_prompt + question + end_prompt for context, question in data_zip]\n",
    "    sample['input_ids'] = tokenizer(prompt, padding=\"max_length\", truncation=True, return_tensors=\"pt\").input_ids\n",
    "    sample['labels'] = tokenizer(sample['answer'], padding=\"max_length\", truncation=True, return_tensors=\"pt\").input_ids\n",
    "    return sample"
   ]
  },
  {
   "cell_type": "code",
   "execution_count": 20,
   "metadata": {},
   "outputs": [
    {
     "data": {
      "application/vnd.jupyter.widget-view+json": {
       "model_id": "9cb264ae28a34192a5f007189db64a79",
       "version_major": 2,
       "version_minor": 0
      },
      "text/plain": [
       "Map:   0%|          | 0/16000 [00:00<?, ? examples/s]"
      ]
     },
     "metadata": {},
     "output_type": "display_data"
    },
    {
     "data": {
      "application/vnd.jupyter.widget-view+json": {
       "model_id": "e97ee2e1116b4435aa97ad6b5cec2fc7",
       "version_major": 2,
       "version_minor": 0
      },
      "text/plain": [
       "Map:   0%|          | 0/2000 [00:00<?, ? examples/s]"
      ]
     },
     "metadata": {},
     "output_type": "display_data"
    },
    {
     "data": {
      "application/vnd.jupyter.widget-view+json": {
       "model_id": "2bef088a48d344b19364cace3a921f31",
       "version_major": 2,
       "version_minor": 0
      },
      "text/plain": [
       "Map:   0%|          | 0/2000 [00:00<?, ? examples/s]"
      ]
     },
     "metadata": {},
     "output_type": "display_data"
    }
   ],
   "source": [
    "tokenized_datasets = dataset.map(tokenize_function, batched=True)\n",
    "tokenized_datasets = tokenized_datasets.remove_columns(['question','context','answer'])\n"
   ]
  },
  {
   "cell_type": "code",
   "execution_count": 21,
   "metadata": {},
   "outputs": [
    {
     "data": {
      "text/plain": [
       "DatasetDict({\n",
       "    train: Dataset({\n",
       "        features: ['input_ids', 'labels'],\n",
       "        num_rows: 16000\n",
       "    })\n",
       "    test: Dataset({\n",
       "        features: ['input_ids', 'labels'],\n",
       "        num_rows: 2000\n",
       "    })\n",
       "    validation: Dataset({\n",
       "        features: ['input_ids', 'labels'],\n",
       "        num_rows: 2000\n",
       "    })\n",
       "})"
      ]
     },
     "execution_count": 21,
     "metadata": {},
     "output_type": "execute_result"
    }
   ],
   "source": [
    "tokenized_datasets"
   ]
  },
  {
   "cell_type": "code",
   "execution_count": 22,
   "metadata": {},
   "outputs": [
    {
     "data": {
      "text/plain": [
       "dict_keys(['train', 'test', 'validation'])"
      ]
     },
     "execution_count": 22,
     "metadata": {},
     "output_type": "execute_result"
    }
   ],
   "source": [
    "tokenized_datasets.keys()"
   ]
  },
  {
   "cell_type": "code",
   "execution_count": 23,
   "metadata": {},
   "outputs": [
    {
     "data": {
      "text/plain": [
       "dict_keys(['input_ids', 'labels'])"
      ]
     },
     "execution_count": 23,
     "metadata": {},
     "output_type": "execute_result"
    }
   ],
   "source": [
    "tokenized_datasets['train'][0].keys()"
   ]
  },
  {
   "cell_type": "code",
   "execution_count": 24,
   "metadata": {},
   "outputs": [
    {
     "data": {
      "text/plain": [
       "[4398, 7, 10, 205, 4386, 6048, 332, 17098, 819, 41]"
      ]
     },
     "execution_count": 24,
     "metadata": {},
     "output_type": "execute_result"
    }
   ],
   "source": [
    "tokenized_datasets['train'][0]['input_ids'][:10]"
   ]
  },
  {
   "cell_type": "code",
   "execution_count": 25,
   "metadata": {},
   "outputs": [
    {
     "data": {
      "text/plain": [
       "[3, 23143, 14196, 2847, 17161, 599, 1935, 61, 21680, 819]"
      ]
     },
     "execution_count": 25,
     "metadata": {},
     "output_type": "execute_result"
    }
   ],
   "source": [
    "tokenized_datasets['train'][0]['labels'][:10]"
   ]
  },
  {
   "cell_type": "code",
   "execution_count": 26,
   "metadata": {},
   "outputs": [
    {
     "data": {
      "text/plain": [
       "(16000, 2)"
      ]
     },
     "execution_count": 26,
     "metadata": {},
     "output_type": "execute_result"
    }
   ],
   "source": [
    "tokenized_datasets['train'].shape"
   ]
  },
  {
   "cell_type": "code",
   "execution_count": 27,
   "metadata": {},
   "outputs": [
    {
     "data": {
      "text/plain": [
       "(2000, 2)"
      ]
     },
     "execution_count": 27,
     "metadata": {},
     "output_type": "execute_result"
    }
   ],
   "source": [
    "tokenized_datasets['validation'].shape"
   ]
  },
  {
   "cell_type": "code",
   "execution_count": 28,
   "metadata": {},
   "outputs": [
    {
     "data": {
      "text/plain": [
       "(2000, 2)"
      ]
     },
     "execution_count": 28,
     "metadata": {},
     "output_type": "execute_result"
    }
   ],
   "source": [
    "tokenized_datasets['test'].shape"
   ]
  },
  {
   "cell_type": "markdown",
   "metadata": {},
   "source": [
    "Test model with zero shot prediction/inferencing"
   ]
  },
  {
   "cell_type": "code",
   "execution_count": 29,
   "metadata": {},
   "outputs": [
    {
     "name": "stdout",
     "output_type": "stream",
     "text": [
      "Intel MKL WARNING: Support of Intel(R) Streaming SIMD Extensions 4.2 (Intel(R) SSE4.2) enabled only processors has been deprecated. Intel oneAPI Math Kernel Library 2025.0 will require Intel(R) Advanced Vector Extensions (Intel(R) AVX) instructions.\n",
      "---------------------------------------------------------------------------------------------------\n",
      "INPUT PROMPT:\n",
      "Tables:\n",
      "CREATE TABLE table_name_94 (round VARCHAR, event VARCHAR)\n",
      "\n",
      "Question:\n",
      "Which round has pain and glory 2006 as the event?\n",
      "\n",
      "Answer:\n",
      "\n",
      "---------------------------------------------------------------------------------------------------\n",
      "BASELINE HUMAN ANSWER:\n",
      "SELECT round FROM table_name_94 WHERE event = \"pain and glory 2006\"\n",
      "\n",
      "---------------------------------------------------------------------------------------------------\n",
      "MODEL GENERATION - ZERO SHOT:\n",
      "94\n"
     ]
    }
   ],
   "source": [
    "index = 0\n",
    "\n",
    "question = dataset['test'][index]['question']\n",
    "context = dataset['test'][index]['context']\n",
    "answer = dataset['test'][index]['answer']\n",
    "\n",
    "prompt = f\"\"\"Tables:\n",
    "{context}\n",
    "\n",
    "Question:\n",
    "{question}\n",
    "\n",
    "Answer:\n",
    "\"\"\"\n",
    "\n",
    "inputs = tokenizer(prompt, return_tensors='pt')\n",
    "inputs = inputs.to('cpu')\n",
    "\n",
    "output = tokenizer.decode(\n",
    "    base_model.generate(\n",
    "        inputs[\"input_ids\"], \n",
    "        max_new_tokens=200,\n",
    "    )[0], \n",
    "    skip_special_tokens=True\n",
    ")\n",
    "\n",
    "dash_line = '-'.join('' for x in range(100))\n",
    "print(dash_line)\n",
    "print(f'INPUT PROMPT:\\n{prompt}')\n",
    "print(dash_line)\n",
    "print(f'BASELINE HUMAN ANSWER:\\n{answer}\\n')\n",
    "print(dash_line)\n",
    "print(f'MODEL GENERATION - ZERO SHOT:\\n{output}')"
   ]
  },
  {
   "cell_type": "markdown",
   "metadata": {},
   "source": [
    "Fine tune"
   ]
  },
  {
   "cell_type": "code",
   "execution_count": 30,
   "metadata": {},
   "outputs": [
    {
     "name": "stderr",
     "output_type": "stream",
     "text": [
      "/Users/johnmoses/miniconda3/envs/mconda38/lib/python3.8/site-packages/transformers/tokenization_utils_base.py:1601: FutureWarning: `clean_up_tokenization_spaces` was not set. It will be set to `True` by default. This behavior will be depracted in transformers v4.45, and will be then set to `False` by default. For more details check this issue: https://github.com/huggingface/transformers/issues/31884\n",
      "  warnings.warn(\n"
     ]
    }
   ],
   "source": [
    "finetuned_model = AutoModelForSeq2SeqLM.from_pretrained(model_name)\n",
    "finetuned_model = finetuned_model.to('cpu')\n",
    "tokenizer = AutoTokenizer.from_pretrained(model_name)"
   ]
  },
  {
   "cell_type": "code",
   "execution_count": 32,
   "metadata": {},
   "outputs": [],
   "source": [
    "output_dir = 'flan-t5-text2sql-log'\n",
    "\n",
    "training_args = TrainingArguments(\n",
    "    output_dir=output_dir,\n",
    "    overwrite_output_dir=True,\n",
    "    learning_rate=5e-3,\n",
    "    num_train_epochs=2,\n",
    "    per_device_train_batch_size=16,     # batch size per device during training\n",
    "    per_device_eval_batch_size=16,      # batch size for evaluation\n",
    "    weight_decay=0.01,\n",
    "    logging_steps=50,\n",
    "    evaluation_strategy='steps',        # evaluation strategy to adopt during training\n",
    "    eval_steps=500,                  \n",
    ")\n",
    "\n",
    "trainer = Trainer(\n",
    "    model=finetuned_model,\n",
    "    args=training_args,\n",
    "    train_dataset=tokenized_datasets['train'],\n",
    "    eval_dataset=tokenized_datasets['validation'],\n",
    ")"
   ]
  },
  {
   "cell_type": "markdown",
   "metadata": {},
   "source": [
    "Load model from local folder"
   ]
  },
  {
   "cell_type": "code",
   "execution_count": 34,
   "metadata": {},
   "outputs": [
    {
     "data": {
      "application/vnd.jupyter.widget-view+json": {
       "model_id": "03fab0079300410d98cf4b4035ccca8a",
       "version_major": 2,
       "version_minor": 0
      },
      "text/plain": [
       "  0%|          | 0/125 [00:00<?, ?it/s]"
      ]
     },
     "metadata": {},
     "output_type": "display_data"
    },
    {
     "data": {
      "text/plain": [
       "{'eval_loss': 53.72148895263672,\n",
       " 'eval_model_preparation_time': 0.0026,\n",
       " 'eval_runtime': 84.8302,\n",
       " 'eval_samples_per_second': 23.577,\n",
       " 'eval_steps_per_second': 1.474}"
      ]
     },
     "execution_count": 34,
     "metadata": {},
     "output_type": "execute_result"
    }
   ],
   "source": [
    "trainer.evaluate()"
   ]
  },
  {
   "cell_type": "code",
   "execution_count": 35,
   "metadata": {},
   "outputs": [
    {
     "data": {
      "application/vnd.jupyter.widget-view+json": {
       "model_id": "2132dfe48e534397b2a7a60650822737",
       "version_major": 2,
       "version_minor": 0
      },
      "text/plain": [
       "  0%|          | 0/2000 [00:00<?, ?it/s]"
      ]
     },
     "metadata": {},
     "output_type": "display_data"
    },
    {
     "name": "stdout",
     "output_type": "stream",
     "text": [
      "{'loss': 2.6362, 'grad_norm': 0.1208856850862503, 'learning_rate': 0.004875, 'epoch': 0.05}\n",
      "{'loss': 0.2077, 'grad_norm': 0.16979654133319855, 'learning_rate': 0.00475, 'epoch': 0.1}\n",
      "{'loss': 0.1865, 'grad_norm': 0.0690625011920929, 'learning_rate': 0.004625000000000001, 'epoch': 0.15}\n",
      "{'loss': 0.161, 'grad_norm': 0.10531901568174362, 'learning_rate': 0.0045000000000000005, 'epoch': 0.2}\n",
      "{'loss': 0.1549, 'grad_norm': 0.10077470541000366, 'learning_rate': 0.004375, 'epoch': 0.25}\n",
      "{'loss': 0.1506, 'grad_norm': 0.09236154705286026, 'learning_rate': 0.00425, 'epoch': 0.3}\n",
      "{'loss': 0.1494, 'grad_norm': 0.12148416042327881, 'learning_rate': 0.004125, 'epoch': 0.35}\n",
      "{'loss': 0.1527, 'grad_norm': 0.11464022845029831, 'learning_rate': 0.004, 'epoch': 0.4}\n",
      "{'loss': 0.1483, 'grad_norm': 0.22886568307876587, 'learning_rate': 0.0038750000000000004, 'epoch': 0.45}\n",
      "{'loss': 0.1424, 'grad_norm': 0.07426823675632477, 'learning_rate': 0.00375, 'epoch': 0.5}\n"
     ]
    },
    {
     "data": {
      "application/vnd.jupyter.widget-view+json": {
       "model_id": "43bcd7a593e84a53b4389ab76a2f51a5",
       "version_major": 2,
       "version_minor": 0
      },
      "text/plain": [
       "  0%|          | 0/125 [00:00<?, ?it/s]"
      ]
     },
     "metadata": {},
     "output_type": "display_data"
    },
    {
     "name": "stdout",
     "output_type": "stream",
     "text": [
      "{'eval_loss': 0.1329299360513687, 'eval_model_preparation_time': 0.0026, 'eval_runtime': 85.7269, 'eval_samples_per_second': 23.33, 'eval_steps_per_second': 1.458, 'epoch': 0.5}\n",
      "{'loss': 0.1408, 'grad_norm': 0.17206546664237976, 'learning_rate': 0.0036249999999999998, 'epoch': 0.55}\n",
      "{'loss': 0.1313, 'grad_norm': 0.06367618590593338, 'learning_rate': 0.0034999999999999996, 'epoch': 0.6}\n",
      "{'loss': 0.1383, 'grad_norm': 0.16437524557113647, 'learning_rate': 0.0033750000000000004, 'epoch': 0.65}\n",
      "{'loss': 0.1267, 'grad_norm': 0.08070875704288483, 'learning_rate': 0.0032500000000000003, 'epoch': 0.7}\n",
      "{'loss': 0.1303, 'grad_norm': 0.1410449594259262, 'learning_rate': 0.003125, 'epoch': 0.75}\n",
      "{'loss': 0.1271, 'grad_norm': 0.10282577574253082, 'learning_rate': 0.003, 'epoch': 0.8}\n",
      "{'loss': 0.1282, 'grad_norm': 0.1529235988855362, 'learning_rate': 0.002875, 'epoch': 0.85}\n",
      "{'loss': 0.1255, 'grad_norm': 0.06291164457798004, 'learning_rate': 0.0027500000000000003, 'epoch': 0.9}\n",
      "{'loss': 0.1265, 'grad_norm': 0.06421396136283875, 'learning_rate': 0.002625, 'epoch': 0.95}\n",
      "{'loss': 0.1274, 'grad_norm': 0.09465037286281586, 'learning_rate': 0.0025, 'epoch': 1.0}\n"
     ]
    },
    {
     "data": {
      "application/vnd.jupyter.widget-view+json": {
       "model_id": "2ef3f4ea18c54dba96e26f0811b311f7",
       "version_major": 2,
       "version_minor": 0
      },
      "text/plain": [
       "  0%|          | 0/125 [00:00<?, ?it/s]"
      ]
     },
     "metadata": {},
     "output_type": "display_data"
    },
    {
     "name": "stdout",
     "output_type": "stream",
     "text": [
      "{'eval_loss': 0.11903002858161926, 'eval_model_preparation_time': 0.0026, 'eval_runtime': 85.4367, 'eval_samples_per_second': 23.409, 'eval_steps_per_second': 1.463, 'epoch': 1.0}\n",
      "{'loss': 0.1161, 'grad_norm': 0.11356052756309509, 'learning_rate': 0.002375, 'epoch': 1.05}\n",
      "{'loss': 0.1123, 'grad_norm': 0.0594414547085762, 'learning_rate': 0.0022500000000000003, 'epoch': 1.1}\n",
      "{'loss': 0.1075, 'grad_norm': 0.09283460676670074, 'learning_rate': 0.002125, 'epoch': 1.15}\n",
      "{'loss': 0.1114, 'grad_norm': 0.12232553958892822, 'learning_rate': 0.002, 'epoch': 1.2}\n",
      "{'loss': 0.1087, 'grad_norm': 0.07208883762359619, 'learning_rate': 0.001875, 'epoch': 1.25}\n",
      "{'loss': 0.1099, 'grad_norm': 0.10732711851596832, 'learning_rate': 0.0017499999999999998, 'epoch': 1.3}\n",
      "{'loss': 0.1079, 'grad_norm': 0.05342360585927963, 'learning_rate': 0.0016250000000000001, 'epoch': 1.35}\n",
      "{'loss': 0.1089, 'grad_norm': 0.10596264898777008, 'learning_rate': 0.0015, 'epoch': 1.4}\n",
      "{'loss': 0.1071, 'grad_norm': 0.08025485277175903, 'learning_rate': 0.0013750000000000001, 'epoch': 1.45}\n",
      "{'loss': 0.1043, 'grad_norm': 0.0615527369081974, 'learning_rate': 0.00125, 'epoch': 1.5}\n"
     ]
    },
    {
     "data": {
      "application/vnd.jupyter.widget-view+json": {
       "model_id": "7e94cd322c7f4914834889a8d6f1dbe1",
       "version_major": 2,
       "version_minor": 0
      },
      "text/plain": [
       "  0%|          | 0/125 [00:00<?, ?it/s]"
      ]
     },
     "metadata": {},
     "output_type": "display_data"
    },
    {
     "name": "stdout",
     "output_type": "stream",
     "text": [
      "{'eval_loss': 0.11296973377466202, 'eval_model_preparation_time': 0.0026, 'eval_runtime': 85.5308, 'eval_samples_per_second': 23.383, 'eval_steps_per_second': 1.461, 'epoch': 1.5}\n",
      "{'loss': 0.1013, 'grad_norm': 0.058875277638435364, 'learning_rate': 0.0011250000000000001, 'epoch': 1.55}\n",
      "{'loss': 0.1009, 'grad_norm': 0.05465039610862732, 'learning_rate': 0.001, 'epoch': 1.6}\n",
      "{'loss': 0.1038, 'grad_norm': 0.0664030909538269, 'learning_rate': 0.0008749999999999999, 'epoch': 1.65}\n",
      "{'loss': 0.1029, 'grad_norm': 0.08152158558368683, 'learning_rate': 0.00075, 'epoch': 1.7}\n",
      "{'loss': 0.1012, 'grad_norm': 0.05129268765449524, 'learning_rate': 0.000625, 'epoch': 1.75}\n",
      "{'loss': 0.0974, 'grad_norm': 0.07165384292602539, 'learning_rate': 0.0005, 'epoch': 1.8}\n",
      "{'loss': 0.0976, 'grad_norm': 0.051256585866212845, 'learning_rate': 0.000375, 'epoch': 1.85}\n",
      "{'loss': 0.0986, 'grad_norm': 0.061065372079610825, 'learning_rate': 0.00025, 'epoch': 1.9}\n",
      "{'loss': 0.1008, 'grad_norm': 0.07675628364086151, 'learning_rate': 0.000125, 'epoch': 1.95}\n",
      "{'loss': 0.1005, 'grad_norm': 0.05672338232398033, 'learning_rate': 0.0, 'epoch': 2.0}\n"
     ]
    },
    {
     "data": {
      "application/vnd.jupyter.widget-view+json": {
       "model_id": "d9353c2d150f4176a85673ea54bd8b78",
       "version_major": 2,
       "version_minor": 0
      },
      "text/plain": [
       "  0%|          | 0/125 [00:00<?, ?it/s]"
      ]
     },
     "metadata": {},
     "output_type": "display_data"
    },
    {
     "name": "stdout",
     "output_type": "stream",
     "text": [
      "{'eval_loss': 0.10892447084188461, 'eval_model_preparation_time': 0.0026, 'eval_runtime': 85.0228, 'eval_samples_per_second': 23.523, 'eval_steps_per_second': 1.47, 'epoch': 2.0}\n",
      "{'train_runtime': 13097.2173, 'train_samples_per_second': 2.443, 'train_steps_per_second': 0.153, 'train_loss': 0.18727583980560303, 'epoch': 2.0}\n",
      "CPU times: user 31min 24s, sys: 16min 16s, total: 47min 40s\n",
      "Wall time: 3h 38min 17s\n"
     ]
    },
    {
     "data": {
      "text/plain": [
       "TrainOutput(global_step=2000, training_loss=0.18727583980560303, metrics={'train_runtime': 13097.2173, 'train_samples_per_second': 2.443, 'train_steps_per_second': 0.153, 'total_flos': 5948496150528000.0, 'train_loss': 0.18727583980560303, 'epoch': 2.0})"
      ]
     },
     "execution_count": 35,
     "metadata": {},
     "output_type": "execute_result"
    }
   ],
   "source": [
    "%%time\n",
    "\n",
    "trainer.train()"
   ]
  },
  {
   "cell_type": "code",
   "execution_count": 36,
   "metadata": {},
   "outputs": [],
   "source": [
    "finetuned_model.save_pretrained(\"flan-t5-text2sql\")"
   ]
  },
  {
   "cell_type": "code",
   "execution_count": 37,
   "metadata": {},
   "outputs": [
    {
     "data": {
      "text/plain": [
       "('flan-t5-text2sql/tokenizer_config.json',\n",
       " 'flan-t5-text2sql/special_tokens_map.json',\n",
       " 'flan-t5-text2sql/tokenizer.json')"
      ]
     },
     "execution_count": 37,
     "metadata": {},
     "output_type": "execute_result"
    }
   ],
   "source": [
    "tokenizer.save_pretrained(\"flan-t5-text2sql\")"
   ]
  },
  {
   "cell_type": "code",
   "execution_count": 39,
   "metadata": {},
   "outputs": [],
   "source": [
    "model_path = \"flan-t5-text2sql\"\n",
    "finetuned_model = AutoModelForSeq2SeqLM.from_pretrained(model_path)\n",
    "finetuned_model = finetuned_model.to(device)\n",
    "\n",
    "finetuned_tokenizer = AutoTokenizer.from_pretrained(model_path)"
   ]
  },
  {
   "cell_type": "markdown",
   "metadata": {},
   "source": [
    "Test fine-tuned model with zero shot inferencing"
   ]
  },
  {
   "cell_type": "code",
   "execution_count": 40,
   "metadata": {},
   "outputs": [
    {
     "name": "stdout",
     "output_type": "stream",
     "text": [
      "---------------------------------------------------------------------------------------------------\n",
      "INPUT PROMPT:\n",
      "Tables:\n",
      "CREATE TABLE table_name_14 (record VARCHAR, opponent VARCHAR)\n",
      "\n",
      "Question:\n",
      "Which record has john flemming as the opponent?\n",
      "\n",
      "Answer:\n",
      "\n",
      "---------------------------------------------------------------------------------------------------\n",
      "BASELINE HUMAN ANSWER:\n",
      "SELECT record FROM table_name_14 WHERE opponent = \"john flemming\"\n",
      "\n",
      "---------------------------------------------------------------------------------------------------\n",
      "FINE-TUNED MODEL - ZERO SHOT:\n",
      "SELECT COUNT(DISTINCT demographic.subject_id) FROM demographic INNER JOIN diagnoses ON demographic.hadm_id = diagnoses.hadm_id WHERE demographic.admission_location = \"HOME HEALTH CARE\" AND diagnoses.long_title = \"Acute glomerulas\"\n"
     ]
    }
   ],
   "source": [
    "index = 1\n",
    "# index = len(dataset['test'])-200\n",
    "\n",
    "question = dataset['test'][index]['question']\n",
    "context = dataset['test'][index]['context']\n",
    "answer = dataset['test'][index]['answer']\n",
    "\n",
    "prompt = f\"\"\"Tables:\n",
    "{context}\n",
    "\n",
    "Question:\n",
    "{question}\n",
    "\n",
    "Answer:\n",
    "\"\"\"\n",
    "\n",
    "inputs = tokenizer(prompt, return_tensors='pt')\n",
    "inputs = inputs.to('cpu')\n",
    "\n",
    "output = tokenizer.decode(\n",
    "    finetuned_model.generate(\n",
    "        inputs[\"input_ids\"], \n",
    "        max_new_tokens=200,\n",
    "    )[0], \n",
    "    skip_special_tokens=True\n",
    ")\n",
    "\n",
    "dash_line = '-'.join('' for x in range(100))\n",
    "print(dash_line)\n",
    "print(f'INPUT PROMPT:\\n{prompt}')\n",
    "print(dash_line)\n",
    "print(f'BASELINE HUMAN ANSWER:\\n{answer}\\n')\n",
    "print(dash_line)\n",
    "print(f'FINE-TUNED MODEL - ZERO SHOT:\\n{output}')"
   ]
  },
  {
   "cell_type": "markdown",
   "metadata": {},
   "source": [
    "Test fine-tuned model with query"
   ]
  },
  {
   "cell_type": "code",
   "execution_count": 41,
   "metadata": {},
   "outputs": [],
   "source": [
    "def get_sql(query):\n",
    "    prompt = \"translate English to SQL: %s \" % query\n",
    "    features = finetuned_tokenizer([prompt], return_tensors='pt')\n",
    "    output = finetuned_model.generate(\n",
    "        input_ids=features['input_ids'],\n",
    "        max_new_tokens=200\n",
    "        )\n",
    "    return finetuned_tokenizer.decode(output[0], skip_special_tokens=True)"
   ]
  },
  {
   "cell_type": "code",
   "execution_count": 42,
   "metadata": {},
   "outputs": [
    {
     "data": {
      "text/plain": [
       "'SELECT COUNT(DISTINCT demographic.subject_id) FROM demographic INNER JOIN diagnoses ON demographic.hadm_id = diagnoses.hadm_id WHERE demographic.admission_location = \"HOME HEALTH CARE\" AND diagnoses.long_title = \"Acute glomerulasis\"'"
      ]
     },
     "execution_count": 42,
     "metadata": {},
     "output_type": "execute_result"
    }
   ],
   "source": [
    "query = \"Which record has john flemming as the opponent?\"\n",
    "get_sql(query)"
   ]
  },
  {
   "cell_type": "code",
   "execution_count": 43,
   "metadata": {},
   "outputs": [
    {
     "name": "stdout",
     "output_type": "stream",
     "text": [
      "Question: How many weeks did the single that entered the charts 14 september 2002 stay on the charts ?\n",
      "Predict. :SELECT COUNT(DISTINCT demographic.subject_id) FROM demographic INNER JOIN diagnoses ON demographic.hadm_id = diagnoses.hadm_id WHERE demographic.admission_location = \"HOME HEALTH CARE\" AND diagnoses.long_title = \"Acute glomerulasis\"\n",
      "Expected: SELECT COUNT(weeks_on_chart__uk_) FROM table_name_30 WHERE entered_chart__uk_ = \"14 september 2002\"\n",
      "=================================\n",
      "\n",
      "Question: Which single was on the Charts for 23 weeks ?\n",
      "Predict. :SELECT COUNT(DISTINCT demographic.subject_id) FROM demographic INNER JOIN diagnoses ON demographic.hadm_id = diagnoses.hadm_id WHERE demographic.admission_location = \"HOME HEALTH CARE\" AND diagnoses.long_title = \"Acute glomerulasis\"\n",
      "Expected: SELECT title FROM table_name_50 WHERE weeks_on_chart__uk_ = 23\n",
      "=================================\n",
      "\n",
      "Question: How many ECTS credit points occur with Master in Management?\n",
      "Predict. :SELECT COUNT(DISTINCT demographic.subject_id) FROM demographic INNER JOIN diagnoses ON demographic.hadm_id = diagnoses.hadm_id WHERE demographic.admission_location = \"HOME HEALTH CARE\" AND diagnoses.long_title = \"Acute glomerulasis\"\n",
      "Expected: SELECT COUNT(ects_credit_points) FROM table_name_25 WHERE program = \"master in management\"\n",
      "=================================\n",
      "\n",
      "Question: What is the teaching language for Master of Quantitative Finance?\n",
      "Predict. :SELECT COUNT(DISTINCT demographic.subject_id) FROM demographic INNER JOIN diagnoses ON demographic.hadm_id = diagnoses.hadm_id WHERE demographic.admission_location = \"HOME HEALTH CARE\" AND diagnoses.long_title = \"Acute glomerulasis\"\n",
      "Expected: SELECT teaching_language FROM table_name_69 WHERE program = \"master of quantitative finance\"\n",
      "=================================\n",
      "\n",
      "Question: Which program has 3.5 years?\n",
      "Predict. :SELECT COUNT(DISTINCT demographic.subject_id) FROM demographic INNER JOIN diagnoses ON demographic.hadm_id = diagnoses.hadm_id WHERE demographic.admission_location = \"HOME HEALTH CARE\" AND diagnoses.long_title = \"Acute glomerulas\"\n",
      "Expected: SELECT program FROM table_name_35 WHERE duration__years_ = 3.5\n",
      "=================================\n",
      "\n"
     ]
    }
   ],
   "source": [
    "for i in range(10,15, 1):\n",
    "    print('Question: ' + dataset['test'][i]['question'])\n",
    "    print('Predict. :' + get_sql(dataset['test'][i]['question']))\n",
    "    print('Expected: ' + dataset['test'][i]['answer'])\n",
    "    print('=================================\\n')"
   ]
  },
  {
   "cell_type": "markdown",
   "metadata": {},
   "source": [
    "Evaluate"
   ]
  },
  {
   "cell_type": "code",
   "execution_count": 44,
   "metadata": {},
   "outputs": [],
   "source": [
    "import evaluate\n",
    "import pandas as pd"
   ]
  },
  {
   "cell_type": "code",
   "execution_count": 45,
   "metadata": {},
   "outputs": [],
   "source": [
    "questions = dataset['test'][0:10]['question']\n",
    "contexts = dataset['test'][0:10]['context']\n",
    "human_answers = dataset['test'][0:10]['answer']\n",
    "\n",
    "base_model_answers = []\n",
    "finetuned_model_answers = []\n",
    "\n",
    "for idx, question in enumerate(questions):\n",
    "    prompt = f\"\"\"Tables:\n",
    "    {contexts[idx]}\n",
    "\n",
    "    Question:\n",
    "    {question}\n",
    "\n",
    "    Answer:\n",
    "    \"\"\"\n",
    "    \n",
    "    input_ids = tokenizer(prompt, return_tensors='pt').input_ids\n",
    "    input_ids = input_ids.to(device)\n",
    "\n",
    "    human_text_output = human_answers[idx]\n",
    "\n",
    "    base_model_outputs = base_model.generate(input_ids=input_ids,generation_config=GenerationConfig(max_new_tokens=200))\n",
    "    base_model_output = tokenizer.decode(base_model_outputs[0], skip_special_tokens=True)\n",
    "    base_model_answers.append(base_model_output)\n",
    "\n",
    "    finetuned_model_outputs = finetuned_model.generate(input_ids=input_ids,generation_config=GenerationConfig(max_new_tokens=200))\n",
    "    finetuned_model_output = tokenizer.decode(finetuned_model_outputs[0], skip_special_tokens=True)\n",
    "    finetuned_model_answers.append(finetuned_model_output)"
   ]
  },
  {
   "cell_type": "code",
   "execution_count": 46,
   "metadata": {},
   "outputs": [
    {
     "data": {
      "text/html": [
       "<div>\n",
       "<style scoped>\n",
       "    .dataframe tbody tr th:only-of-type {\n",
       "        vertical-align: middle;\n",
       "    }\n",
       "\n",
       "    .dataframe tbody tr th {\n",
       "        vertical-align: top;\n",
       "    }\n",
       "\n",
       "    .dataframe thead th {\n",
       "        text-align: right;\n",
       "    }\n",
       "</style>\n",
       "<table border=\"1\" class=\"dataframe\">\n",
       "  <thead>\n",
       "    <tr style=\"text-align: right;\">\n",
       "      <th></th>\n",
       "      <th>human_answers</th>\n",
       "      <th>base_model</th>\n",
       "      <th>finetuned_model</th>\n",
       "    </tr>\n",
       "  </thead>\n",
       "  <tbody>\n",
       "    <tr>\n",
       "      <th>0</th>\n",
       "      <td>SELECT round FROM table_name_94 WHERE event = ...</td>\n",
       "      <td>94</td>\n",
       "      <td>SELECT COUNT(DISTINCT demographic.subject_id) ...</td>\n",
       "    </tr>\n",
       "    <tr>\n",
       "      <th>1</th>\n",
       "      <td>SELECT record FROM table_name_14 WHERE opponen...</td>\n",
       "      <td>a slam</td>\n",
       "      <td>SELECT COUNT(DISTINCT demographic.subject_id) ...</td>\n",
       "    </tr>\n",
       "    <tr>\n",
       "      <th>2</th>\n",
       "      <td>SELECT record FROM table_name_49 WHERE time = ...</td>\n",
       "      <td>5:00</td>\n",
       "      <td>SELECT COUNT(DISTINCT demographic.subject_id) ...</td>\n",
       "    </tr>\n",
       "    <tr>\n",
       "      <th>3</th>\n",
       "      <td>SELECT score FROM table_name_37 WHERE home = \"...</td>\n",
       "      <td>0</td>\n",
       "      <td>SELECT COUNT(DISTINCT demographic.subject_id) ...</td>\n",
       "    </tr>\n",
       "    <tr>\n",
       "      <th>4</th>\n",
       "      <td>SELECT home FROM table_name_93 WHERE score = \"...</td>\n",
       "      <td>st. louis</td>\n",
       "      <td>SELECT COUNT(DISTINCT demographic.subject_id) ...</td>\n",
       "    </tr>\n",
       "    <tr>\n",
       "      <th>5</th>\n",
       "      <td>SELECT engine FROM table_name_85 WHERE entrant...</td>\n",
       "      <td>VARCHAR</td>\n",
       "      <td>SELECT COUNT(DISTINCT demographic.subject_id) ...</td>\n",
       "    </tr>\n",
       "    <tr>\n",
       "      <th>6</th>\n",
       "      <td>SELECT chassis FROM table_name_39 WHERE year &lt;...</td>\n",
       "      <td>a styrofoam</td>\n",
       "      <td>SELECT COUNT(DISTINCT demographic.subject_id) ...</td>\n",
       "    </tr>\n",
       "    <tr>\n",
       "      <th>7</th>\n",
       "      <td>SELECT chassis FROM table_name_5 WHERE entrant...</td>\n",
       "      <td>VARCHAR</td>\n",
       "      <td>SELECT COUNT(DISTINCT demographic.subject_id) ...</td>\n",
       "    </tr>\n",
       "    <tr>\n",
       "      <th>8</th>\n",
       "      <td>SELECT MIN(attendance) FROM table_name_3 WHERE...</td>\n",
       "      <td>0</td>\n",
       "      <td>SELECT COUNT(DISTINCT demographic.subject_id) ...</td>\n",
       "    </tr>\n",
       "    <tr>\n",
       "      <th>9</th>\n",
       "      <td>SELECT MIN(attendance) FROM table_name_7 WHERE...</td>\n",
       "      <td>0</td>\n",
       "      <td>SELECT COUNT(DISTINCT demographic.subject_id) ...</td>\n",
       "    </tr>\n",
       "  </tbody>\n",
       "</table>\n",
       "</div>"
      ],
      "text/plain": [
       "                                       human_answers   base_model  \\\n",
       "0  SELECT round FROM table_name_94 WHERE event = ...           94   \n",
       "1  SELECT record FROM table_name_14 WHERE opponen...       a slam   \n",
       "2  SELECT record FROM table_name_49 WHERE time = ...         5:00   \n",
       "3  SELECT score FROM table_name_37 WHERE home = \"...            0   \n",
       "4  SELECT home FROM table_name_93 WHERE score = \"...    st. louis   \n",
       "5  SELECT engine FROM table_name_85 WHERE entrant...      VARCHAR   \n",
       "6  SELECT chassis FROM table_name_39 WHERE year <...  a styrofoam   \n",
       "7  SELECT chassis FROM table_name_5 WHERE entrant...      VARCHAR   \n",
       "8  SELECT MIN(attendance) FROM table_name_3 WHERE...            0   \n",
       "9  SELECT MIN(attendance) FROM table_name_7 WHERE...            0   \n",
       "\n",
       "                                     finetuned_model  \n",
       "0  SELECT COUNT(DISTINCT demographic.subject_id) ...  \n",
       "1  SELECT COUNT(DISTINCT demographic.subject_id) ...  \n",
       "2  SELECT COUNT(DISTINCT demographic.subject_id) ...  \n",
       "3  SELECT COUNT(DISTINCT demographic.subject_id) ...  \n",
       "4  SELECT COUNT(DISTINCT demographic.subject_id) ...  \n",
       "5  SELECT COUNT(DISTINCT demographic.subject_id) ...  \n",
       "6  SELECT COUNT(DISTINCT demographic.subject_id) ...  \n",
       "7  SELECT COUNT(DISTINCT demographic.subject_id) ...  \n",
       "8  SELECT COUNT(DISTINCT demographic.subject_id) ...  \n",
       "9  SELECT COUNT(DISTINCT demographic.subject_id) ...  "
      ]
     },
     "execution_count": 46,
     "metadata": {},
     "output_type": "execute_result"
    }
   ],
   "source": [
    "zipped_summaries = list(zip(human_answers, base_model_answers, finetuned_model_answers))\n",
    "df = pd.DataFrame(zipped_summaries, columns=['human_answers','base_model','finetuned_model'])\n",
    "df"
   ]
  },
  {
   "cell_type": "markdown",
   "metadata": {},
   "source": [
    "Compute ROUGE score for subset of data"
   ]
  },
  {
   "cell_type": "code",
   "execution_count": 47,
   "metadata": {},
   "outputs": [
    {
     "name": "stdout",
     "output_type": "stream",
     "text": [
      "Base Model:\n",
      " {'rouge1': 0.03643724696356275, 'rouge2': 0.011764705882352941, 'rougeL': 0.03643724696356275, 'rougeLsum': 0.03643724696356275}\n",
      "Fine-tuned model:\n",
      " {'rouge1': 0.17220223055447104, 'rouge2': 0.0, 'rougeL': 0.16323084176175495, 'rougeLsum': 0.163230841761755}\n"
     ]
    }
   ],
   "source": [
    "# Load ROUGE\n",
    "rouge = evaluate.load('rouge')\n",
    "\n",
    "# Select dataset\n",
    "answers = dataset['test'][0:10]['answer']\n",
    "\n",
    "base_model_results = rouge.compute(\n",
    "    predictions=base_model_answers,\n",
    "    references=answers,\n",
    "    use_aggregator=True,\n",
    "    use_stemmer=True,\n",
    ")\n",
    "print('Base Model:\\n',base_model_results)\n",
    "\n",
    "finetuned_model_results = rouge.compute(\n",
    "    predictions=finetuned_model_answers,\n",
    "    references=answers,\n",
    "    use_aggregator=True,\n",
    "    use_stemmer=True,\n",
    ")\n",
    "print('Fine-tuned model:\\n',finetuned_model_results)"
   ]
  },
  {
   "cell_type": "markdown",
   "metadata": {},
   "source": [
    "ROUGE score for flan t5\n",
    "Base Model:\n",
    " {'rouge1': 0.03643724696356275, 'rouge2': 0.011764705882352941, 'rougeL': 0.03643724696356275, 'rougeLsum': 0.03643724696356275}\n",
    "Fine-tuned model:\n",
    " {'rouge1': 0.17220223055447104, 'rouge2': 0.0, 'rougeL': 0.16323084176175495, 'rougeLsum': 0.163230841761755}\n"
   ]
  }
 ],
 "metadata": {
  "kernelspec": {
   "display_name": "mconda38",
   "language": "python",
   "name": "python3"
  },
  "language_info": {
   "codemirror_mode": {
    "name": "ipython",
    "version": 3
   },
   "file_extension": ".py",
   "mimetype": "text/x-python",
   "name": "python",
   "nbconvert_exporter": "python",
   "pygments_lexer": "ipython3",
   "version": "3.8.19"
  }
 },
 "nbformat": 4,
 "nbformat_minor": 2
}
