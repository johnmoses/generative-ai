{
 "cells": [
  {
   "cell_type": "markdown",
   "metadata": {},
   "source": [
    "# Fine-Tuning T5 for Healthcare"
   ]
  },
  {
   "cell_type": "code",
   "execution_count": 1,
   "metadata": {},
   "outputs": [
    {
     "name": "stderr",
     "output_type": "stream",
     "text": [
      "2024-10-07 11:01:52.829864: I tensorflow/core/platform/cpu_feature_guard.cc:182] This TensorFlow binary is optimized to use available CPU instructions in performance-critical operations.\n",
      "To enable the following instructions: SSE4.1 SSE4.2, in other operations, rebuild TensorFlow with the appropriate compiler flags.\n"
     ]
    }
   ],
   "source": [
    "import os\n",
    "import torch\n",
    "import time\n",
    "import json\n",
    "import pandas as pd\n",
    "from transformers import AutoModelForSeq2SeqLM, AutoTokenizer, GenerationConfig, TrainingArguments, Trainer\n",
    "from transformers import Trainer, TrainingArguments\n",
    "from transformers import TextDataset, DataCollatorForLanguageModeling\n",
    "from datasets import load_dataset, concatenate_datasets, Dataset"
   ]
  },
  {
   "cell_type": "markdown",
   "metadata": {},
   "source": [
    "## Environment\n",
    "Check settings"
   ]
  },
  {
   "cell_type": "code",
   "execution_count": 2,
   "metadata": {},
   "outputs": [
    {
     "name": "stdout",
     "output_type": "stream",
     "text": [
      "Using device: cpu\n"
     ]
    }
   ],
   "source": [
    "device = \"cuda\" if torch.cuda.is_available() else \"cpu\"        \n",
    "print(f\"Using device: {device}\")"
   ]
  },
  {
   "cell_type": "markdown",
   "metadata": {},
   "source": [
    "## Data\n",
    "Load datasets"
   ]
  },
  {
   "cell_type": "code",
   "execution_count": 44,
   "metadata": {},
   "outputs": [],
   "source": [
    "dataset_train = load_dataset(\"ruslanmv/ai-medical-chatbot\", split='train[:8000]')\n",
    "dataset_train = dataset_train.rename_columns({'Description':'instruction', 'Patient':'context', 'Doctor':'response'})\n",
    "\n",
    "dataset_test = load_dataset(\"ruslanmv/ai-medical-chatbot\", split='train[-2000:-1000]')\n",
    "dataset_test = dataset_test.rename_columns({'Description':'instruction', 'Patient':'context', 'Doctor':'response'})\n",
    "\n",
    "dataset_validation = load_dataset(\"ruslanmv/ai-medical-chatbot\", split='train[-1000:]')\n",
    "dataset_validation = dataset_validation.rename_columns({'Description':'instruction', 'Patient':'context', 'Doctor':'response'})"
   ]
  },
  {
   "cell_type": "code",
   "execution_count": 45,
   "metadata": {},
   "outputs": [],
   "source": [
    "dataset_train_merged = concatenate_datasets(\n",
    "    [dataset_train]\n",
    ")\n",
    "dataset_test_merged = concatenate_datasets(\n",
    "    [dataset_test]\n",
    ")\n",
    "dataset_validation_merged = concatenate_datasets(\n",
    "    [dataset_validation]\n",
    ")"
   ]
  },
  {
   "cell_type": "code",
   "execution_count": 46,
   "metadata": {},
   "outputs": [
    {
     "data": {
      "application/vnd.jupyter.widget-view+json": {
       "model_id": "679560b90858480c804cbdbe3ca8ff5a",
       "version_major": 2,
       "version_minor": 0
      },
      "text/plain": [
       "Creating CSV from Arrow format:   0%|          | 0/8 [00:00<?, ?ba/s]"
      ]
     },
     "metadata": {},
     "output_type": "display_data"
    },
    {
     "data": {
      "application/vnd.jupyter.widget-view+json": {
       "model_id": "e782500219aa47f1848feb8e7989c7f7",
       "version_major": 2,
       "version_minor": 0
      },
      "text/plain": [
       "Creating CSV from Arrow format:   0%|          | 0/1 [00:00<?, ?ba/s]"
      ]
     },
     "metadata": {},
     "output_type": "display_data"
    },
    {
     "data": {
      "application/vnd.jupyter.widget-view+json": {
       "model_id": "266bc24240be453a8737e75106017b8b",
       "version_major": 2,
       "version_minor": 0
      },
      "text/plain": [
       "Creating CSV from Arrow format:   0%|          | 0/1 [00:00<?, ?ba/s]"
      ]
     },
     "metadata": {},
     "output_type": "display_data"
    },
    {
     "data": {
      "text/plain": [
       "984002"
      ]
     },
     "execution_count": 46,
     "metadata": {},
     "output_type": "execute_result"
    }
   ],
   "source": [
    "dataset_train_merged.to_csv('train_merged.csv', index=False)\n",
    "dataset_test_merged.to_csv('test_merged.csv', index=False)\n",
    "dataset_validation_merged.to_csv('validation_merged.csv', index=False)"
   ]
  },
  {
   "cell_type": "code",
   "execution_count": 3,
   "metadata": {},
   "outputs": [
    {
     "data": {
      "application/vnd.jupyter.widget-view+json": {
       "model_id": "aad8a69e16af4b39a2350271dcc2fdc7",
       "version_major": 2,
       "version_minor": 0
      },
      "text/plain": [
       "Generating train split: 0 examples [00:00, ? examples/s]"
      ]
     },
     "metadata": {},
     "output_type": "display_data"
    },
    {
     "data": {
      "application/vnd.jupyter.widget-view+json": {
       "model_id": "e79d593cecea410f9da08047954ce9c5",
       "version_major": 2,
       "version_minor": 0
      },
      "text/plain": [
       "Generating test split: 0 examples [00:00, ? examples/s]"
      ]
     },
     "metadata": {},
     "output_type": "display_data"
    },
    {
     "data": {
      "application/vnd.jupyter.widget-view+json": {
       "model_id": "ca9779adc10f4579b689092aa2cef86d",
       "version_major": 2,
       "version_minor": 0
      },
      "text/plain": [
       "Generating validation split: 0 examples [00:00, ? examples/s]"
      ]
     },
     "metadata": {},
     "output_type": "display_data"
    }
   ],
   "source": [
    "dataset = load_dataset('csv', data_files={\n",
    "    \"train\": \"train_merged.csv\", \n",
    "    \"test\": \"test_merged.csv\", \n",
    "    \"validation\": \"validation_merged.csv\"\n",
    "    })"
   ]
  },
  {
   "cell_type": "code",
   "execution_count": 4,
   "metadata": {},
   "outputs": [
    {
     "data": {
      "text/plain": [
       "DatasetDict({\n",
       "    train: Dataset({\n",
       "        features: ['instruction', 'context', 'response'],\n",
       "        num_rows: 8000\n",
       "    })\n",
       "    test: Dataset({\n",
       "        features: ['instruction', 'context', 'response'],\n",
       "        num_rows: 1000\n",
       "    })\n",
       "    validation: Dataset({\n",
       "        features: ['instruction', 'context', 'response'],\n",
       "        num_rows: 1000\n",
       "    })\n",
       "})"
      ]
     },
     "execution_count": 4,
     "metadata": {},
     "output_type": "execute_result"
    }
   ],
   "source": [
    "dataset"
   ]
  },
  {
   "cell_type": "code",
   "execution_count": 5,
   "metadata": {},
   "outputs": [
    {
     "data": {
      "text/plain": [
       "{'instruction': 'Q. What does abutment of the nerve root mean?',\n",
       " 'context': 'Hi doctor,I am just wondering what is abutting and abutment of the nerve root means in a back issue. Please explain. What treatment is required for\\xa0annular bulging and tear?',\n",
       " 'response': 'Hi. I have gone through your query with diligence and would like you to know that I am here to help you. For further information consult a neurologist online -->'}"
      ]
     },
     "execution_count": 5,
     "metadata": {},
     "output_type": "execute_result"
    }
   ],
   "source": [
    "dataset['train'][0]"
   ]
  },
  {
   "cell_type": "code",
   "execution_count": 6,
   "metadata": {},
   "outputs": [],
   "source": [
    "dataset_train = pd.read_csv('./train_merged.csv')"
   ]
  },
  {
   "cell_type": "code",
   "execution_count": 7,
   "metadata": {},
   "outputs": [
    {
     "data": {
      "text/html": [
       "<div>\n",
       "<style scoped>\n",
       "    .dataframe tbody tr th:only-of-type {\n",
       "        vertical-align: middle;\n",
       "    }\n",
       "\n",
       "    .dataframe tbody tr th {\n",
       "        vertical-align: top;\n",
       "    }\n",
       "\n",
       "    .dataframe thead th {\n",
       "        text-align: right;\n",
       "    }\n",
       "</style>\n",
       "<table border=\"1\" class=\"dataframe\">\n",
       "  <thead>\n",
       "    <tr style=\"text-align: right;\">\n",
       "      <th></th>\n",
       "      <th>instruction</th>\n",
       "      <th>context</th>\n",
       "      <th>response</th>\n",
       "    </tr>\n",
       "  </thead>\n",
       "  <tbody>\n",
       "    <tr>\n",
       "      <th>0</th>\n",
       "      <td>Q. What does abutment of the nerve root mean?</td>\n",
       "      <td>Hi doctor,I am just wondering what is abutting...</td>\n",
       "      <td>Hi. I have gone through your query with dilige...</td>\n",
       "    </tr>\n",
       "    <tr>\n",
       "      <th>1</th>\n",
       "      <td>Q. What should I do to reduce my weight gained...</td>\n",
       "      <td>Hi doctor, I am a 22-year-old female who was d...</td>\n",
       "      <td>Hi. You have really done well with the hypothy...</td>\n",
       "    </tr>\n",
       "    <tr>\n",
       "      <th>2</th>\n",
       "      <td>Q. I have started to get lots of acne on my fa...</td>\n",
       "      <td>Hi doctor! I used to have clear skin but since...</td>\n",
       "      <td>Hi there Acne has multifactorial etiology. Onl...</td>\n",
       "    </tr>\n",
       "    <tr>\n",
       "      <th>3</th>\n",
       "      <td>Q. Why do I have uncomfortable feeling between...</td>\n",
       "      <td>Hello doctor,I am having an uncomfortable feel...</td>\n",
       "      <td>Hello. The popping and discomfort what you fel...</td>\n",
       "    </tr>\n",
       "    <tr>\n",
       "      <th>4</th>\n",
       "      <td>Q. My symptoms after intercourse threatns me e...</td>\n",
       "      <td>Hello doctor,Before two years had sex with a c...</td>\n",
       "      <td>Hello. The HIV test uses a finger prick blood ...</td>\n",
       "    </tr>\n",
       "  </tbody>\n",
       "</table>\n",
       "</div>"
      ],
      "text/plain": [
       "                                         instruction  \\\n",
       "0      Q. What does abutment of the nerve root mean?   \n",
       "1  Q. What should I do to reduce my weight gained...   \n",
       "2  Q. I have started to get lots of acne on my fa...   \n",
       "3  Q. Why do I have uncomfortable feeling between...   \n",
       "4  Q. My symptoms after intercourse threatns me e...   \n",
       "\n",
       "                                             context  \\\n",
       "0  Hi doctor,I am just wondering what is abutting...   \n",
       "1  Hi doctor, I am a 22-year-old female who was d...   \n",
       "2  Hi doctor! I used to have clear skin but since...   \n",
       "3  Hello doctor,I am having an uncomfortable feel...   \n",
       "4  Hello doctor,Before two years had sex with a c...   \n",
       "\n",
       "                                            response  \n",
       "0  Hi. I have gone through your query with dilige...  \n",
       "1  Hi. You have really done well with the hypothy...  \n",
       "2  Hi there Acne has multifactorial etiology. Onl...  \n",
       "3  Hello. The popping and discomfort what you fel...  \n",
       "4  Hello. The HIV test uses a finger prick blood ...  "
      ]
     },
     "execution_count": 7,
     "metadata": {},
     "output_type": "execute_result"
    }
   ],
   "source": [
    "dataset_train.head()"
   ]
  },
  {
   "cell_type": "code",
   "execution_count": 8,
   "metadata": {},
   "outputs": [
    {
     "name": "stdout",
     "output_type": "stream",
     "text": [
      "instruction:\n",
      "Q. Shall I take Raw Bovine Ovary pills to increase breast size?\n",
      "\n",
      "response:\n",
      "\n",
      "======================\n",
      "expected reponse: \n",
      " Hi. For further information consult an internal medicine physician online -->\n"
     ]
    }
   ],
   "source": [
    "idx = 100\n",
    "idx_var = 50\n",
    "\n",
    "check = dataset_train.iloc[idx]['instruction']\n",
    "check2 = dataset_train.iloc[idx]['response']\n",
    "\n",
    "test = dataset_train.iloc[idx_var]['instruction']\n",
    "test_response = dataset_train.iloc[idx_var]['response']\n",
    "\n",
    "print(f'instruction:\\n{test}\\n\\nresponse:\\n')\n",
    "\n",
    "print(f'======================\\nexpected reponse: \\n {test_response}')"
   ]
  },
  {
   "cell_type": "markdown",
   "metadata": {},
   "source": [
    "## Model and Tokenizer\n",
    "Define configuration settings"
   ]
  },
  {
   "cell_type": "code",
   "execution_count": 9,
   "metadata": {},
   "outputs": [],
   "source": [
    "model_name='t5-small'\n",
    "os.environ['TOKENIZERS_PARALLELISM'] = 'true' "
   ]
  },
  {
   "cell_type": "code",
   "execution_count": 10,
   "metadata": {},
   "outputs": [],
   "source": [
    "device = torch.device(\"cuda\" if torch.cuda.is_available() else \"cpu\")\n",
    "base_model = AutoModelForSeq2SeqLM.from_pretrained(model_name)\n",
    "base_model = base_model.to(device)"
   ]
  },
  {
   "cell_type": "code",
   "execution_count": 11,
   "metadata": {},
   "outputs": [],
   "source": [
    "tokenizer = AutoTokenizer.from_pretrained(model_name)"
   ]
  },
  {
   "cell_type": "code",
   "execution_count": 12,
   "metadata": {},
   "outputs": [],
   "source": [
    "tokenizer.chat_template = \"{% for message in messages %}{{'<|im_start|>' + message['role'] + '\\n' + message['content'] + '<|im_end|>' + '\\n'}}{% endfor %}{% if add_generation_prompt %}{{ '<|im_start|>assistant\\n' }}{% endif %}\""
   ]
  },
  {
   "cell_type": "code",
   "execution_count": 13,
   "metadata": {},
   "outputs": [
    {
     "name": "stdout",
     "output_type": "stream",
     "text": [
      "Intel MKL WARNING: Support of Intel(R) Streaming SIMD Extensions 4.2 (Intel(R) SSE4.2) enabled only processors has been deprecated. Intel oneAPI Math Kernel Library 2025.0 will require Intel(R) Advanced Vector Extensions (Intel(R) AVX) instructions.\n",
      "<pad> Wie alt sind Sie?</s>\n"
     ]
    },
    {
     "name": "stderr",
     "output_type": "stream",
     "text": [
      "/Users/johnmoses/miniconda3/envs/mconda38/lib/python3.8/site-packages/transformers/generation/utils.py:1258: UserWarning: Using the model-agnostic default `max_length` (=20) to control the generation length. We recommend setting `max_new_tokens` to control the maximum length of the generation.\n",
      "  warnings.warn(\n"
     ]
    }
   ],
   "source": [
    "input_text = \"translate English to German: How old are you?\"\n",
    "input_ids = tokenizer(input_text, return_tensors=\"pt\").input_ids\n",
    "\n",
    "outputs = base_model.generate(input_ids)\n",
    "print(tokenizer.decode(outputs[0]))"
   ]
  },
  {
   "cell_type": "code",
   "execution_count": 14,
   "metadata": {},
   "outputs": [],
   "source": [
    "def get_response(question):\n",
    "    test_prompt = f'instruction:\\n{question}\\n\\nresponse:\\n'\n",
    "    input_text = tokenizer(test_prompt,return_tensors=\"pt\").input_ids\n",
    "    output = base_model.generate(\n",
    "        input_ids=input_text, \n",
    "        generation_config=GenerationConfig(max_new_tokens=200, \n",
    "        num_beams=1))\n",
    "    return tokenizer.decode(output[0], skip_special_tokens=True)"
   ]
  },
  {
   "cell_type": "code",
   "execution_count": 15,
   "metadata": {},
   "outputs": [
    {
     "data": {
      "text/plain": [
       "':'"
      ]
     },
     "execution_count": 15,
     "metadata": {},
     "output_type": "execute_result"
    }
   ],
   "source": [
    "question = \"Shall I take Raw Bovine Ovary pills to increase breast size?\"\n",
    "get_response(question)"
   ]
  },
  {
   "cell_type": "code",
   "execution_count": 16,
   "metadata": {},
   "outputs": [],
   "source": [
    "def tokenize_function(example):\n",
    "    start_prompt = 'Instruction:\\n'\n",
    "    end_prompt = '\\nResponse:'\n",
    "    prompt = [start_prompt + dialogue + end_prompt for dialogue in example[\"instruction\"]]\n",
    "    example['input_ids'] = tokenizer(prompt, padding=\"max_length\", truncation=True, return_tensors=\"pt\").input_ids\n",
    "    example['labels'] = tokenizer(example[\"response\"], padding=\"max_length\", truncation=True, return_tensors=\"pt\").input_ids\n",
    "    \n",
    "    return example"
   ]
  },
  {
   "cell_type": "code",
   "execution_count": 17,
   "metadata": {},
   "outputs": [],
   "source": [
    "shuffled_dataset = dataset.shuffle(seed=42)"
   ]
  },
  {
   "cell_type": "code",
   "execution_count": 18,
   "metadata": {},
   "outputs": [
    {
     "data": {
      "application/vnd.jupyter.widget-view+json": {
       "model_id": "0e73d83d55564f62ab138320fd2b6fe1",
       "version_major": 2,
       "version_minor": 0
      },
      "text/plain": [
       "Map:   0%|          | 0/8000 [00:00<?, ? examples/s]"
      ]
     },
     "metadata": {},
     "output_type": "display_data"
    },
    {
     "data": {
      "application/vnd.jupyter.widget-view+json": {
       "model_id": "87c784c1da7740c9a2f3315eee8690a5",
       "version_major": 2,
       "version_minor": 0
      },
      "text/plain": [
       "Map:   0%|          | 0/1000 [00:00<?, ? examples/s]"
      ]
     },
     "metadata": {},
     "output_type": "display_data"
    },
    {
     "data": {
      "application/vnd.jupyter.widget-view+json": {
       "model_id": "6c960d1dbf014aa1a2482964448527cd",
       "version_major": 2,
       "version_minor": 0
      },
      "text/plain": [
       "Map:   0%|          | 0/1000 [00:00<?, ? examples/s]"
      ]
     },
     "metadata": {},
     "output_type": "display_data"
    }
   ],
   "source": [
    "tokenized_datasets = shuffled_dataset.map(tokenize_function, batched=True)\n",
    "tokenized_datasets = tokenized_datasets.remove_columns(['instruction', 'context', 'response'])"
   ]
  },
  {
   "cell_type": "code",
   "execution_count": 19,
   "metadata": {},
   "outputs": [
    {
     "data": {
      "text/plain": [
       "DatasetDict({\n",
       "    train: Dataset({\n",
       "        features: ['input_ids', 'labels'],\n",
       "        num_rows: 8000\n",
       "    })\n",
       "    test: Dataset({\n",
       "        features: ['input_ids', 'labels'],\n",
       "        num_rows: 1000\n",
       "    })\n",
       "    validation: Dataset({\n",
       "        features: ['input_ids', 'labels'],\n",
       "        num_rows: 1000\n",
       "    })\n",
       "})"
      ]
     },
     "execution_count": 19,
     "metadata": {},
     "output_type": "execute_result"
    }
   ],
   "source": [
    "tokenized_datasets"
   ]
  },
  {
   "cell_type": "markdown",
   "metadata": {},
   "source": [
    "Fine Tune"
   ]
  },
  {
   "cell_type": "code",
   "execution_count": 20,
   "metadata": {},
   "outputs": [],
   "source": [
    "finetuned_model = AutoModelForSeq2SeqLM.from_pretrained(model_name)\n",
    "finetuned_model = finetuned_model.to('cpu')\n",
    "tokenizer = AutoTokenizer.from_pretrained(model_name)"
   ]
  },
  {
   "cell_type": "code",
   "execution_count": 21,
   "metadata": {},
   "outputs": [
    {
     "name": "stderr",
     "output_type": "stream",
     "text": [
      "/Users/johnmoses/miniconda3/envs/mconda38/lib/python3.8/site-packages/transformers/training_args.py:1525: FutureWarning: `evaluation_strategy` is deprecated and will be removed in version 4.46 of 🤗 Transformers. Use `eval_strategy` instead\n",
      "  warnings.warn(\n"
     ]
    }
   ],
   "source": [
    "output_dir = 't5-healthcare-log'\n",
    "\n",
    "training_args = TrainingArguments(\n",
    "    output_dir=output_dir,\n",
    "    overwrite_output_dir=True,\n",
    "    learning_rate=5e-3,\n",
    "    num_train_epochs=2,\n",
    "    per_device_train_batch_size=16,     # batch size per device during training\n",
    "    per_device_eval_batch_size=16,      # batch size for evaluation\n",
    "    weight_decay=0.01,\n",
    "    logging_steps=50,\n",
    "    evaluation_strategy='steps',        # evaluation strategy to adopt during training\n",
    "    eval_steps=500,                 \n",
    ")\n",
    "\n",
    "trainer = Trainer(\n",
    "    model=finetuned_model,\n",
    "    args=training_args,\n",
    "    train_dataset=tokenized_datasets['train'],\n",
    "    eval_dataset=tokenized_datasets['validation'],\n",
    ")"
   ]
  },
  {
   "cell_type": "code",
   "execution_count": 22,
   "metadata": {},
   "outputs": [
    {
     "data": {
      "application/vnd.jupyter.widget-view+json": {
       "model_id": "d887ca2ac442419d813477f3fdbc4c17",
       "version_major": 2,
       "version_minor": 0
      },
      "text/plain": [
       "  0%|          | 0/63 [00:00<?, ?it/s]"
      ]
     },
     "metadata": {},
     "output_type": "display_data"
    },
    {
     "data": {
      "text/plain": [
       "{'eval_loss': 5.344299793243408,\n",
       " 'eval_model_preparation_time': 0.002,\n",
       " 'eval_runtime': 40.3217,\n",
       " 'eval_samples_per_second': 24.801,\n",
       " 'eval_steps_per_second': 1.562}"
      ]
     },
     "execution_count": 22,
     "metadata": {},
     "output_type": "execute_result"
    }
   ],
   "source": [
    "trainer.evaluate()"
   ]
  },
  {
   "cell_type": "code",
   "execution_count": 23,
   "metadata": {},
   "outputs": [
    {
     "data": {
      "application/vnd.jupyter.widget-view+json": {
       "model_id": "e4af6c90a82b41a893ce792e40b74adc",
       "version_major": 2,
       "version_minor": 0
      },
      "text/plain": [
       "  0%|          | 0/1000 [00:00<?, ?it/s]"
      ]
     },
     "metadata": {},
     "output_type": "display_data"
    },
    {
     "name": "stdout",
     "output_type": "stream",
     "text": [
      "{'loss': 1.6891, 'grad_norm': 0.17573419213294983, 'learning_rate': 0.00475, 'epoch': 0.1}\n",
      "{'loss': 0.8226, 'grad_norm': 0.11860419809818268, 'learning_rate': 0.0045000000000000005, 'epoch': 0.2}\n",
      "{'loss': 0.8015, 'grad_norm': 0.16136465966701508, 'learning_rate': 0.00425, 'epoch': 0.3}\n",
      "{'loss': 0.7289, 'grad_norm': 0.14195092022418976, 'learning_rate': 0.004, 'epoch': 0.4}\n",
      "{'loss': 0.7817, 'grad_norm': 0.1362648457288742, 'learning_rate': 0.00375, 'epoch': 0.5}\n",
      "{'loss': 0.7488, 'grad_norm': 0.14362695813179016, 'learning_rate': 0.0034999999999999996, 'epoch': 0.6}\n",
      "{'loss': 0.7824, 'grad_norm': 0.08650536835193634, 'learning_rate': 0.0032500000000000003, 'epoch': 0.7}\n",
      "{'loss': 0.7207, 'grad_norm': 0.10980451852083206, 'learning_rate': 0.003, 'epoch': 0.8}\n",
      "{'loss': 0.7242, 'grad_norm': 0.14244355261325836, 'learning_rate': 0.0027500000000000003, 'epoch': 0.9}\n",
      "{'loss': 0.6992, 'grad_norm': 0.12006626278162003, 'learning_rate': 0.0025, 'epoch': 1.0}\n"
     ]
    },
    {
     "data": {
      "application/vnd.jupyter.widget-view+json": {
       "model_id": "18a7e0dbf9204b9abaf39230ead42280",
       "version_major": 2,
       "version_minor": 0
      },
      "text/plain": [
       "  0%|          | 0/63 [00:00<?, ?it/s]"
      ]
     },
     "metadata": {},
     "output_type": "display_data"
    },
    {
     "name": "stdout",
     "output_type": "stream",
     "text": [
      "{'eval_loss': 1.034824013710022, 'eval_model_preparation_time': 0.002, 'eval_runtime': 38.3902, 'eval_samples_per_second': 26.048, 'eval_steps_per_second': 1.641, 'epoch': 1.0}\n",
      "{'loss': 0.664, 'grad_norm': 0.10889982432126999, 'learning_rate': 0.0022500000000000003, 'epoch': 1.1}\n",
      "{'loss': 0.6737, 'grad_norm': 0.10321959108114243, 'learning_rate': 0.002, 'epoch': 1.2}\n",
      "{'loss': 0.6874, 'grad_norm': 0.13431867957115173, 'learning_rate': 0.0017499999999999998, 'epoch': 1.3}\n",
      "{'loss': 0.6764, 'grad_norm': 0.12763723731040955, 'learning_rate': 0.0015, 'epoch': 1.4}\n",
      "{'loss': 0.6824, 'grad_norm': 0.1370091289281845, 'learning_rate': 0.00125, 'epoch': 1.5}\n",
      "{'loss': 0.6623, 'grad_norm': 0.12862040102481842, 'learning_rate': 0.001, 'epoch': 1.6}\n",
      "{'loss': 0.6223, 'grad_norm': 0.0874997228384018, 'learning_rate': 0.00075, 'epoch': 1.7}\n",
      "{'loss': 0.6112, 'grad_norm': 0.11442851275205612, 'learning_rate': 0.0005, 'epoch': 1.8}\n",
      "{'loss': 0.6407, 'grad_norm': 0.101710744202137, 'learning_rate': 0.00025, 'epoch': 1.9}\n",
      "{'loss': 0.6812, 'grad_norm': 0.08171656727790833, 'learning_rate': 0.0, 'epoch': 2.0}\n"
     ]
    },
    {
     "data": {
      "application/vnd.jupyter.widget-view+json": {
       "model_id": "5b3b56e0f079456a97808e708dbc3764",
       "version_major": 2,
       "version_minor": 0
      },
      "text/plain": [
       "  0%|          | 0/63 [00:00<?, ?it/s]"
      ]
     },
     "metadata": {},
     "output_type": "display_data"
    },
    {
     "name": "stdout",
     "output_type": "stream",
     "text": [
      "{'eval_loss': 1.0010883808135986, 'eval_model_preparation_time': 0.002, 'eval_runtime': 38.8036, 'eval_samples_per_second': 25.771, 'eval_steps_per_second': 1.624, 'epoch': 2.0}\n",
      "{'train_runtime': 3646.1503, 'train_samples_per_second': 4.388, 'train_steps_per_second': 0.274, 'train_loss': 0.755041633605957, 'epoch': 2.0}\n",
      "CPU times: user 9min 59s, sys: 5min 29s, total: 15min 28s\n",
      "Wall time: 1h 46s\n"
     ]
    },
    {
     "data": {
      "text/plain": [
       "TrainOutput(global_step=1000, training_loss=0.755041633605957, metrics={'train_runtime': 3646.1503, 'train_samples_per_second': 4.388, 'train_steps_per_second': 0.274, 'total_flos': 2165468823552000.0, 'train_loss': 0.755041633605957, 'epoch': 2.0})"
      ]
     },
     "execution_count": 23,
     "metadata": {},
     "output_type": "execute_result"
    }
   ],
   "source": [
    "%%time\n",
    "\n",
    "trainer.train()"
   ]
  },
  {
   "cell_type": "code",
   "execution_count": 24,
   "metadata": {},
   "outputs": [],
   "source": [
    "finetuned_model.save_pretrained(\"t5-healthcare\")"
   ]
  },
  {
   "cell_type": "code",
   "execution_count": 25,
   "metadata": {},
   "outputs": [
    {
     "data": {
      "text/plain": [
       "('t5-healthcare/tokenizer_config.json',\n",
       " 't5-healthcare/special_tokens_map.json',\n",
       " 't5-healthcare/tokenizer.json')"
      ]
     },
     "execution_count": 25,
     "metadata": {},
     "output_type": "execute_result"
    }
   ],
   "source": [
    "tokenizer.save_pretrained(\"t5-healthcare\")"
   ]
  },
  {
   "cell_type": "code",
   "execution_count": 26,
   "metadata": {},
   "outputs": [],
   "source": [
    "model_path = \"t5-healthcare\"\n",
    "finetuned_model = AutoModelForSeq2SeqLM.from_pretrained(model_path)\n",
    "finetuned_model = finetuned_model.to('cpu')\n",
    "\n",
    "finetuned_tokenizer = AutoTokenizer.from_pretrained(model_path)"
   ]
  },
  {
   "cell_type": "code",
   "execution_count": 27,
   "metadata": {},
   "outputs": [],
   "source": [
    "def get_response(question):\n",
    "    test_prompt = f'instruction:\\n{question}\\n\\nresponse:\\n'\n",
    "    input_text = finetuned_tokenizer(test_prompt,return_tensors=\"pt\").input_ids\n",
    "    output = finetuned_model.generate(\n",
    "        input_ids=input_text, \n",
    "        generation_config=GenerationConfig(max_new_tokens=200, \n",
    "        num_beams=1))\n",
    "    return finetuned_tokenizer.decode(output[0], skip_special_tokens=True)"
   ]
  },
  {
   "cell_type": "code",
   "execution_count": 28,
   "metadata": {},
   "outputs": [
    {
     "data": {
      "text/plain": [
       "'Hello. I have gone through your query and can understand your concern. For further information consult an internal medicine physician online -->'"
      ]
     },
     "execution_count": 28,
     "metadata": {},
     "output_type": "execute_result"
    }
   ],
   "source": [
    "question = \"i have a question about cancelling order {{Order Number}}\"\n",
    "get_response(question)"
   ]
  },
  {
   "cell_type": "code",
   "execution_count": 29,
   "metadata": {},
   "outputs": [
    {
     "name": "stdout",
     "output_type": "stream",
     "text": [
      "Instruction: 23 year old married female, suffering with pimples and scars ?\n",
      "Predict. :Hi. I have gone through your case. I can understand your concern. I have gone through the attachment (attachment removed to protect patient identity). I can understand your concern. I would like to know if you have any other history of pimples or pimples? Is there any history of pimples or pimples? Is there any history of pimples or pimples? Is there any history of pimples or pimples? Is there any history of pimples or pimples?\n",
      "Expected: hello, pimples have become a life style disease & a disease of metropolitan cities...we hardly see them in villages.But can also be because of hormonal disturbances in our body,esp if it increases 2 days prior to periods.Never use a moisturizing cream on face.Avoid using oily soaps too.Use specific anti acne soap like acnelak or dermadew acne soap twice a day.Use nadibact cream over pimples in day time and adaferin at night.This might help you a lot.Now a days there are very good tablets available for pimples but should be taken under dermatologists supervision only.They can be either  azithromycin or isotretinoin tab .Hormonal pimples can be treated with oral contraceptive pills .They are very effective and safe.All these needs blood test before taking them.Along with this u need to take 10-12 glasses of water per day & a good sleep. regards, Dr.Chawda\n",
      "=================================\n",
      "\n",
      "Instruction: Good ointment to get rid of pimples and its scars\n",
      "Predict. :Hi. I have gone through your case. I can understand your concern. I have gone through the attachment (attachment removed to protect patient identity). I have seen the pictures (attachment removed to protect patient identity). It seems that you have a pimples. It is a bacterial infection. It is a viral infection. It is a viral infection. It is a viral infection. It is a viral infection. It is a viral infection. It is a viral infection. It is a viral infection. It is a viral infection. It is a common problem. It is a common problem. I would suggest you to get a serum beta hCG test done to rule out any infection.\n",
      "Expected: hello dear , you havnt mentioned ur age.Any way,u can try nadibact cream locally on acne lesions.Keep a good anti acne soap with you.Avoid pricking the pimples.And if you have scars following pimples then u shd get a chemical peel or a laser done for that from a dermatologist. regards, Dr.Bharat Chawda\n",
      "=================================\n",
      "\n",
      "Instruction: 18 years old girl suffering with inferiority complex\n",
      "Predict. :Hello. I have gone through your query and I can understand your concern. I have gone through your query and the attached reports (attachment removed to protect patient identity). You have a problem with the child's ear. It is a very common problem. It is a very common problem in young children. It is a very common problem in young children. It is a very common problem in young children. It is a very common problem in young children. It is a very common problem in young children. It is a very common problem in children. It is a very common problem in children. It is a very common problem. It is a very common problem in children. It is a very common problem. It is a common problem in children with inferiority. It is a common problem in children with inferiority. It is a very common problem. It is a very common problem in young children. It\n",
      "Expected: Your options from here are:- Try home therapy and life style changes:-Drink plenty of fluid, wash face daily with lukewarm water mainly after coming from outside, maintain good hand/nail hyegine and avoid touching face, apply lemon and tomatto on face.  Cut sugars and avoid popping pimples. Should try homeopathic medicine based on your symptoms. Can try antibiotics along with anti-acne preperations\n",
      "=================================\n",
      "\n",
      "Instruction: Having pimples on face\n",
      "Predict. :Hi. I have gone through your query and can understand your concern. I have gone through the attachment (attachment removed to protect patient identity). I can understand your concern. I would like to know if you have any other symptoms like a swollen face or a swollen face or a swollen face or a swollen face or a swollen face or a swollen face or a swollen face or a swollen face or a swab. I would like to know if you have any other symptoms like a swab. I would like to know if you have any further queries.\n",
      "Expected: I got you, man If you have long hair, get it short since longer hair causes more oil on your face. Eat healthier, no sodas nor anything greasy as hell Use acne cream, through my research try Olay cause ProActive is horrible... Shower 3x with some face wash, morning, afternoon, evening If you're in a rush and can't shower in the morning, just use face-wash and wash your hair, why I said hair because it causes the MOST oil to be produced around your face\n",
      "=================================\n",
      "\n",
      "Instruction: How to get rid of pimples. I am 16\n",
      "Predict. :Hi. I have gone through your query and can understand your concern. I have gone through the attachment (attachment removed to protect patient identity). I have gone through the attachment (attachment removed to protect patient identity). I can understand your concern. I would like to know if you have any other problem. I would like to know if you have any other problem. I would like to know if you have any other problem?\n",
      "Expected: acne can be treated with local applications of cremes, some antibiotics, retinoids and LASERs. LASER though expensive ( costs upto 5,000/- ), can clear the face off active acne and acne scars. The results are quite dramatic and patients simply love their skin after LASERs\n",
      "=================================\n",
      "\n"
     ]
    }
   ],
   "source": [
    "for i in range(0, 5, 1):\n",
    "    print('Instruction: ' + dataset['test'][i]['instruction'])\n",
    "    print('Predict. :' + get_response(dataset['test'][i]['instruction']))\n",
    "    print('Expected: ' + dataset['test'][i]['response'])\n",
    "    print('=================================\\n')"
   ]
  },
  {
   "cell_type": "markdown",
   "metadata": {},
   "source": [
    "Evaluation"
   ]
  },
  {
   "cell_type": "code",
   "execution_count": 30,
   "metadata": {},
   "outputs": [],
   "source": [
    "import evaluate"
   ]
  },
  {
   "cell_type": "code",
   "execution_count": 31,
   "metadata": {},
   "outputs": [],
   "source": [
    "rouge = evaluate.load('rouge')"
   ]
  },
  {
   "cell_type": "code",
   "execution_count": 32,
   "metadata": {},
   "outputs": [],
   "source": [
    "instructions = dataset['test'][0:25]['instruction']\n",
    "responses = dataset['test'][0:25]['response']\n",
    "\n",
    "base_model_responses = []\n",
    "finetuned_model_responses = []\n",
    "peft_model_responses = []\n",
    "\n",
    "for instruction in instructions:\n",
    "    prompt = f\"\"\" \n",
    "    instruction:\n",
    "    {instruction}\n",
    "\n",
    "    response:\n",
    "    \"\"\"\n",
    "    \n",
    "    input_ids = tokenizer.encode(prompt, return_tensors='pt')\n",
    "\n",
    "    base_model_outputs = base_model.generate(input_ids=input_ids,generation_config=GenerationConfig(max_new_tokens=200))\n",
    "    base_model_output = tokenizer.decode(base_model_outputs[0], skip_special_tokens=True)\n",
    "\n",
    "    finetuned_model_outputs = finetuned_model.generate(input_ids=input_ids,generation_config=GenerationConfig(max_new_tokens=200))\n",
    "    finetuned_model_output = tokenizer.decode(finetuned_model_outputs[0], skip_special_tokens=True)\n",
    "\n",
    "\n",
    "    # peft_model_outputs = peft_model.generate(input_ids=input_ids,generation_config=GenerationConfig(max_new_tokens=200))\n",
    "    # peft_model_output = tokenizer.decode(peft_model_outputs[0], skip_special_tokens=True)\n",
    "\n",
    "    base_model_responses.append(base_model_output)\n",
    "    finetuned_model_responses.append(finetuned_model_output)\n",
    "    # peft_model_responses.append(peft_model_output)"
   ]
  },
  {
   "cell_type": "code",
   "execution_count": 33,
   "metadata": {},
   "outputs": [
    {
     "data": {
      "text/html": [
       "<div>\n",
       "<style scoped>\n",
       "    .dataframe tbody tr th:only-of-type {\n",
       "        vertical-align: middle;\n",
       "    }\n",
       "\n",
       "    .dataframe tbody tr th {\n",
       "        vertical-align: top;\n",
       "    }\n",
       "\n",
       "    .dataframe thead th {\n",
       "        text-align: right;\n",
       "    }\n",
       "</style>\n",
       "<table border=\"1\" class=\"dataframe\">\n",
       "  <thead>\n",
       "    <tr style=\"text-align: right;\">\n",
       "      <th></th>\n",
       "      <th>human</th>\n",
       "      <th>base</th>\n",
       "      <th>finetuned</th>\n",
       "    </tr>\n",
       "  </thead>\n",
       "  <tbody>\n",
       "    <tr>\n",
       "      <th>0</th>\n",
       "      <td>hello, pimples have become a life style diseas...</td>\n",
       "      <td></td>\n",
       "      <td>Hi. I have gone through your case. I can under...</td>\n",
       "    </tr>\n",
       "    <tr>\n",
       "      <th>1</th>\n",
       "      <td>hello dear , you havnt mentioned ur age.Any wa...</td>\n",
       "      <td>Instruktion: Gutes ointment, um die pimples un...</td>\n",
       "      <td>Hi. I have gone through your case. I can under...</td>\n",
       "    </tr>\n",
       "    <tr>\n",
       "      <th>2</th>\n",
       "      <td>Your options from here are:- Try home therapy ...</td>\n",
       "      <td>instruction: 18-jährige girl suffering with in...</td>\n",
       "      <td>Hello. I have gone through your query and I ca...</td>\n",
       "    </tr>\n",
       "    <tr>\n",
       "      <th>3</th>\n",
       "      <td>I got you, man If you have long hair, get it s...</td>\n",
       "      <td>Instruction: Having pimples on face response:</td>\n",
       "      <td>Hi. I have gone through your query and can und...</td>\n",
       "    </tr>\n",
       "    <tr>\n",
       "      <th>4</th>\n",
       "      <td>acne can be treated with local applications of...</td>\n",
       "      <td>: How to remove pimples.</td>\n",
       "      <td>Hi. I have gone through your query and can und...</td>\n",
       "    </tr>\n",
       "    <tr>\n",
       "      <th>5</th>\n",
       "      <td>i think u have that problem be bold to face an...</td>\n",
       "      <td>- My friend has pimples, how to get rid of it?</td>\n",
       "      <td>Hi. I have gone through your case. I can under...</td>\n",
       "    </tr>\n",
       "    <tr>\n",
       "      <th>6</th>\n",
       "      <td>You may use ACNIL SOAP to wash your face 3-4 t...</td>\n",
       "      <td>Antwort:</td>\n",
       "      <td>Hello. I have gone through your query and can ...</td>\n",
       "    </tr>\n",
       "    <tr>\n",
       "      <th>7</th>\n",
       "      <td>Hi,   Thanks for the query. I understand your ...</td>\n",
       "      <td>:: Is pregnancy possible through non-pénétrati...</td>\n",
       "      <td>Hi. I have gone through your query with dilige...</td>\n",
       "    </tr>\n",
       "    <tr>\n",
       "      <th>8</th>\n",
       "      <td>Hello Welcome to HCM, thanks for posting your ...</td>\n",
       "      <td>Antwort:</td>\n",
       "      <td>Hi. I have gone through your query with dilige...</td>\n",
       "    </tr>\n",
       "    <tr>\n",
       "      <th>9</th>\n",
       "      <td>I am not getting you.</td>\n",
       "      <td>Instruktion: White pimples around tip of my pe...</td>\n",
       "      <td>Hi. I have gone through your query. I can unde...</td>\n",
       "    </tr>\n",
       "    <tr>\n",
       "      <th>10</th>\n",
       "      <td>well said anonymous, im an american , we shoul...</td>\n",
       "      <td>I am having problems with my underarms and pub...</td>\n",
       "      <td>Hi. I have gone through your query and I can u...</td>\n",
       "    </tr>\n",
       "    <tr>\n",
       "      <th>11</th>\n",
       "      <td>u need to send  a pic of ur lesions on dr.resh...</td>\n",
       "      <td>:</td>\n",
       "      <td>Hi. I have gone through your query and can und...</td>\n",
       "    </tr>\n",
       "    <tr>\n",
       "      <th>12</th>\n",
       "      <td>dear neethi, if the topical cremes are not wor...</td>\n",
       "      <td>: I have pimples &amp; dark spots which leave marks.</td>\n",
       "      <td>Hi. I have gone through your query and can und...</td>\n",
       "    </tr>\n",
       "    <tr>\n",
       "      <th>13</th>\n",
       "      <td>Get those bumps examined by your doc. Sometime...</td>\n",
       "      <td>: Do I have herpes? I am scared, what do I do?...</td>\n",
       "      <td>Hello. Herpes sex is a common problem in femal...</td>\n",
       "    </tr>\n",
       "    <tr>\n",
       "      <th>14</th>\n",
       "      <td>there is no treatment for the warts, it is rem...</td>\n",
       "      <td>: My Daughter with warts, what should I do?</td>\n",
       "      <td>Hi. I have gone through your query with dilige...</td>\n",
       "    </tr>\n",
       "    <tr>\n",
       "      <th>15</th>\n",
       "      <td>Seek a doctor immidiately as it could be Funga...</td>\n",
       "      <td>: Testicles have a small pimple. response:</td>\n",
       "      <td>Hi. Testicles are a very common condition. Tes...</td>\n",
       "    </tr>\n",
       "    <tr>\n",
       "      <th>16</th>\n",
       "      <td>You should not delay your doctor's visit. It c...</td>\n",
       "      <td>instruction: Small wart growing around my vagi...</td>\n",
       "      <td>Hi. I have gone through your case. I can under...</td>\n",
       "    </tr>\n",
       "    <tr>\n",
       "      <th>17</th>\n",
       "      <td>Hi.. Baby acne does not need any treatment as ...</td>\n",
       "      <td>Instruction: What is the treatment for Baby ac...</td>\n",
       "      <td>Hello. I have gone through your query and I ca...</td>\n",
       "    </tr>\n",
       "    <tr>\n",
       "      <th>18</th>\n",
       "      <td>Oh it could be due to blockage in ducts I gues...</td>\n",
       "      <td></td>\n",
       "      <td>Hi. I have gone through your query and can und...</td>\n",
       "    </tr>\n",
       "    <tr>\n",
       "      <th>19</th>\n",
       "      <td>Hello Welcome to HCM, thanks for posting this....</td>\n",
       "      <td>:</td>\n",
       "      <td>Hi. I have gone through your query and can und...</td>\n",
       "    </tr>\n",
       "    <tr>\n",
       "      <th>20</th>\n",
       "      <td>my face is fully tanned n with pimples what to...</td>\n",
       "      <td>:</td>\n",
       "      <td>Hi. I have gone through your query and can und...</td>\n",
       "    </tr>\n",
       "    <tr>\n",
       "      <th>21</th>\n",
       "      <td>Stop using nappies, train her to go for potty....</td>\n",
       "      <td>Antwort:</td>\n",
       "      <td>Hi. I have gone through your query and I can u...</td>\n",
       "    </tr>\n",
       "    <tr>\n",
       "      <th>22</th>\n",
       "      <td>Pimpl scars can be removed by laser treatment....</td>\n",
       "      <td></td>\n",
       "      <td>Hi. I have gone through your query and can und...</td>\n",
       "    </tr>\n",
       "    <tr>\n",
       "      <th>23</th>\n",
       "      <td>Hi.. Any products for the treatment of acne ta...</td>\n",
       "      <td>Ich habe es mit pimples und schwarzem, bitte s...</td>\n",
       "      <td>Hi. I have gone through your case. I can under...</td>\n",
       "    </tr>\n",
       "    <tr>\n",
       "      <th>24</th>\n",
       "      <td>Hi.. You need to understand the skin color is ...</td>\n",
       "      <td>: beauty tips response:</td>\n",
       "      <td>Hi. I have gone through your query and underst...</td>\n",
       "    </tr>\n",
       "  </tbody>\n",
       "</table>\n",
       "</div>"
      ],
      "text/plain": [
       "                                                human  \\\n",
       "0   hello, pimples have become a life style diseas...   \n",
       "1   hello dear , you havnt mentioned ur age.Any wa...   \n",
       "2   Your options from here are:- Try home therapy ...   \n",
       "3   I got you, man If you have long hair, get it s...   \n",
       "4   acne can be treated with local applications of...   \n",
       "5   i think u have that problem be bold to face an...   \n",
       "6   You may use ACNIL SOAP to wash your face 3-4 t...   \n",
       "7   Hi,   Thanks for the query. I understand your ...   \n",
       "8   Hello Welcome to HCM, thanks for posting your ...   \n",
       "9                               I am not getting you.   \n",
       "10  well said anonymous, im an american , we shoul...   \n",
       "11  u need to send  a pic of ur lesions on dr.resh...   \n",
       "12  dear neethi, if the topical cremes are not wor...   \n",
       "13  Get those bumps examined by your doc. Sometime...   \n",
       "14  there is no treatment for the warts, it is rem...   \n",
       "15  Seek a doctor immidiately as it could be Funga...   \n",
       "16  You should not delay your doctor's visit. It c...   \n",
       "17  Hi.. Baby acne does not need any treatment as ...   \n",
       "18  Oh it could be due to blockage in ducts I gues...   \n",
       "19  Hello Welcome to HCM, thanks for posting this....   \n",
       "20  my face is fully tanned n with pimples what to...   \n",
       "21  Stop using nappies, train her to go for potty....   \n",
       "22  Pimpl scars can be removed by laser treatment....   \n",
       "23  Hi.. Any products for the treatment of acne ta...   \n",
       "24  Hi.. You need to understand the skin color is ...   \n",
       "\n",
       "                                                 base  \\\n",
       "0                                                       \n",
       "1   Instruktion: Gutes ointment, um die pimples un...   \n",
       "2   instruction: 18-jährige girl suffering with in...   \n",
       "3       Instruction: Having pimples on face response:   \n",
       "4                            : How to remove pimples.   \n",
       "5      - My friend has pimples, how to get rid of it?   \n",
       "6                                            Antwort:   \n",
       "7   :: Is pregnancy possible through non-pénétrati...   \n",
       "8                                            Antwort:   \n",
       "9   Instruktion: White pimples around tip of my pe...   \n",
       "10  I am having problems with my underarms and pub...   \n",
       "11                                                  :   \n",
       "12   : I have pimples & dark spots which leave marks.   \n",
       "13  : Do I have herpes? I am scared, what do I do?...   \n",
       "14        : My Daughter with warts, what should I do?   \n",
       "15         : Testicles have a small pimple. response:   \n",
       "16  instruction: Small wart growing around my vagi...   \n",
       "17  Instruction: What is the treatment for Baby ac...   \n",
       "18                                                      \n",
       "19                                                  :   \n",
       "20                                                  :   \n",
       "21                                           Antwort:   \n",
       "22                                                      \n",
       "23  Ich habe es mit pimples und schwarzem, bitte s...   \n",
       "24                            : beauty tips response:   \n",
       "\n",
       "                                            finetuned  \n",
       "0   Hi. I have gone through your case. I can under...  \n",
       "1   Hi. I have gone through your case. I can under...  \n",
       "2   Hello. I have gone through your query and I ca...  \n",
       "3   Hi. I have gone through your query and can und...  \n",
       "4   Hi. I have gone through your query and can und...  \n",
       "5   Hi. I have gone through your case. I can under...  \n",
       "6   Hello. I have gone through your query and can ...  \n",
       "7   Hi. I have gone through your query with dilige...  \n",
       "8   Hi. I have gone through your query with dilige...  \n",
       "9   Hi. I have gone through your query. I can unde...  \n",
       "10  Hi. I have gone through your query and I can u...  \n",
       "11  Hi. I have gone through your query and can und...  \n",
       "12  Hi. I have gone through your query and can und...  \n",
       "13  Hello. Herpes sex is a common problem in femal...  \n",
       "14  Hi. I have gone through your query with dilige...  \n",
       "15  Hi. Testicles are a very common condition. Tes...  \n",
       "16  Hi. I have gone through your case. I can under...  \n",
       "17  Hello. I have gone through your query and I ca...  \n",
       "18  Hi. I have gone through your query and can und...  \n",
       "19  Hi. I have gone through your query and can und...  \n",
       "20  Hi. I have gone through your query and can und...  \n",
       "21  Hi. I have gone through your query and I can u...  \n",
       "22  Hi. I have gone through your query and can und...  \n",
       "23  Hi. I have gone through your case. I can under...  \n",
       "24  Hi. I have gone through your query and underst...  "
      ]
     },
     "execution_count": 33,
     "metadata": {},
     "output_type": "execute_result"
    }
   ],
   "source": [
    "zipped_responses = list(zip(responses, base_model_responses, finetuned_model_responses))\n",
    "df = pd.DataFrame(zipped_responses, columns=['human','base','finetuned'])\n",
    "df"
   ]
  },
  {
   "cell_type": "code",
   "execution_count": 34,
   "metadata": {},
   "outputs": [
    {
     "name": "stdout",
     "output_type": "stream",
     "text": [
      "Base\n",
      " {'rouge1': 0.03300179735629219, 'rouge2': 0.002857142857142857, 'rougeL': 0.0276179280413884, 'rougeLsum': 0.027777065448010948}\n",
      "Fine-tuned\n",
      " {'rouge1': 0.10866909425618543, 'rouge2': 0.005276240164577634, 'rougeL': 0.0723023524180746, 'rougeLsum': 0.07273447515611937}\n"
     ]
    }
   ],
   "source": [
    "responses = dataset['test'][0:25]['response']\n",
    "\n",
    "base_model_results = rouge.compute(\n",
    "    predictions=base_model_responses,\n",
    "    references=responses,\n",
    "    use_aggregator=True,\n",
    "    use_stemmer=True,\n",
    ")\n",
    "print('Base\\n',base_model_results)\n",
    "\n",
    "finetuned_model_results = rouge.compute(\n",
    "    predictions=finetuned_model_responses,\n",
    "    references=responses,\n",
    "    use_aggregator=True,\n",
    "    use_stemmer=True,\n",
    ")\n",
    "print('Fine-tuned\\n',finetuned_model_results)\n",
    "\n",
    "# peft_model_results = rouge.compute(\n",
    "#     predictions=peft_model_responses,\n",
    "#     references=response,\n",
    "#     use_aggregator=True,\n",
    "#     use_stemmer=True,\n",
    "# )\n",
    "# print('\\PEFT\\n',peft_model_results)"
   ]
  }
 ],
 "metadata": {
  "kernelspec": {
   "display_name": "mforge39",
   "language": "python",
   "name": "python3"
  },
  "language_info": {
   "codemirror_mode": {
    "name": "ipython",
    "version": 3
   },
   "file_extension": ".py",
   "mimetype": "text/x-python",
   "name": "python",
   "nbconvert_exporter": "python",
   "pygments_lexer": "ipython3",
   "version": "3.8.19"
  }
 },
 "nbformat": 4,
 "nbformat_minor": 2
}
